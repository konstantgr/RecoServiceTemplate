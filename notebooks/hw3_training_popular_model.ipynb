{
 "cells": [
  {
   "cell_type": "code",
   "execution_count": 2,
   "outputs": [],
   "source": [
    "import json\n",
    "import warnings\n",
    "\n",
    "import numpy as np\n",
    "import pandas as pd\n",
    "from rectools import Columns\n",
    "from rectools.dataset import Interactions, Dataset\n",
    "from rectools.models.popular import PopularModel\n",
    "\n",
    "warnings.filterwarnings(\"ignore\")\n",
    "pd.set_option(\"display.float_format\", lambda x: f\"{x:,.6f}\")"
   ],
   "metadata": {
    "collapsed": false,
    "ExecuteTime": {
     "end_time": "2023-12-05T20:29:21.491281Z",
     "start_time": "2023-12-05T20:29:21.486529Z"
    }
   },
   "id": "dd814b9ebbeb3851"
  },
  {
   "cell_type": "markdown",
   "source": [
    "# Read data"
   ],
   "metadata": {
    "collapsed": false
   },
   "id": "d35d9b2ca1afe26e"
  },
  {
   "cell_type": "code",
   "execution_count": 3,
   "outputs": [
    {
     "data": {
      "text/plain": "   user_id  item_id   datetime        weight  watched_pct\n0   176549     9506 2021-05-11  4,250.000000    72.000000\n1   699317     1659 2021-05-29  8,317.000000   100.000000\n2   656683     7107 2021-05-09     10.000000     0.000000\n3   864613     7638 2021-07-05 14,483.000000   100.000000\n4   964868     9506 2021-04-30  6,725.000000   100.000000",
      "text/html": "<div>\n<style scoped>\n    .dataframe tbody tr th:only-of-type {\n        vertical-align: middle;\n    }\n\n    .dataframe tbody tr th {\n        vertical-align: top;\n    }\n\n    .dataframe thead th {\n        text-align: right;\n    }\n</style>\n<table border=\"1\" class=\"dataframe\">\n  <thead>\n    <tr style=\"text-align: right;\">\n      <th></th>\n      <th>user_id</th>\n      <th>item_id</th>\n      <th>datetime</th>\n      <th>weight</th>\n      <th>watched_pct</th>\n    </tr>\n  </thead>\n  <tbody>\n    <tr>\n      <th>0</th>\n      <td>176549</td>\n      <td>9506</td>\n      <td>2021-05-11</td>\n      <td>4,250.000000</td>\n      <td>72.000000</td>\n    </tr>\n    <tr>\n      <th>1</th>\n      <td>699317</td>\n      <td>1659</td>\n      <td>2021-05-29</td>\n      <td>8,317.000000</td>\n      <td>100.000000</td>\n    </tr>\n    <tr>\n      <th>2</th>\n      <td>656683</td>\n      <td>7107</td>\n      <td>2021-05-09</td>\n      <td>10.000000</td>\n      <td>0.000000</td>\n    </tr>\n    <tr>\n      <th>3</th>\n      <td>864613</td>\n      <td>7638</td>\n      <td>2021-07-05</td>\n      <td>14,483.000000</td>\n      <td>100.000000</td>\n    </tr>\n    <tr>\n      <th>4</th>\n      <td>964868</td>\n      <td>9506</td>\n      <td>2021-04-30</td>\n      <td>6,725.000000</td>\n      <td>100.000000</td>\n    </tr>\n  </tbody>\n</table>\n</div>"
     },
     "execution_count": 3,
     "metadata": {},
     "output_type": "execute_result"
    }
   ],
   "source": [
    "interactions_df = pd.read_csv(\"../data/interactions.csv\")\n",
    "users = pd.read_csv(\"../data/users.csv\")\n",
    "items = pd.read_csv(\"../data/items.csv\")\n",
    "\n",
    "interactions_df.rename(columns={\"last_watch_dt\": Columns.Datetime, \"total_dur\": Columns.Weight},\n",
    "                       inplace=True)\n",
    "\n",
    "test = False\n",
    "if test:\n",
    "    interactions = Interactions(interactions_df.sample(frac=0.01))\n",
    "else:\n",
    "    interactions = Interactions(interactions_df)\n",
    "\n",
    "interactions.df.head()"
   ],
   "metadata": {
    "collapsed": false,
    "ExecuteTime": {
     "end_time": "2023-12-05T20:29:25.008958Z",
     "start_time": "2023-12-05T20:29:22.404195Z"
    }
   },
   "id": "5a9726dc69bff8c7"
  },
  {
   "cell_type": "markdown",
   "source": [
    "# Training popular model"
   ],
   "metadata": {
    "collapsed": false
   },
   "id": "75dc184971664599"
  },
  {
   "cell_type": "code",
   "execution_count": 4,
   "outputs": [
    {
     "data": {
      "text/plain": "<rectools.models.popular.PopularModel at 0x1334d94e0>"
     },
     "execution_count": 4,
     "metadata": {},
     "output_type": "execute_result"
    }
   ],
   "source": [
    "model = PopularModel()\n",
    "df_train = interactions.df\n",
    "dataset = Dataset.construct(\n",
    "    interactions_df=df_train,\n",
    "    user_features_df=None,\n",
    "    item_features_df=None,\n",
    ")\n",
    "catalog = df_train[Columns.Item].unique()\n",
    "model.fit(dataset)"
   ],
   "metadata": {
    "collapsed": false,
    "ExecuteTime": {
     "end_time": "2023-12-05T20:29:31.706474Z",
     "start_time": "2023-12-05T20:29:25.010042Z"
    }
   },
   "id": "3c84a3f73e8c529a"
  },
  {
   "cell_type": "markdown",
   "source": [
    "# Recommendations prediction"
   ],
   "metadata": {
    "collapsed": false
   },
   "id": "edd726c82f0a265d"
  },
  {
   "cell_type": "code",
   "execution_count": 5,
   "outputs": [
    {
     "data": {
      "text/plain": "   user_id  item_id          score  rank\n0        0    10440 202,457.000000     1\n1        0    15297 193,123.000000     2\n2        0     9728 132,865.000000     3\n3        0    13865 122,119.000000     4\n4        0     4151  91,167.000000     5",
      "text/html": "<div>\n<style scoped>\n    .dataframe tbody tr th:only-of-type {\n        vertical-align: middle;\n    }\n\n    .dataframe tbody tr th {\n        vertical-align: top;\n    }\n\n    .dataframe thead th {\n        text-align: right;\n    }\n</style>\n<table border=\"1\" class=\"dataframe\">\n  <thead>\n    <tr style=\"text-align: right;\">\n      <th></th>\n      <th>user_id</th>\n      <th>item_id</th>\n      <th>score</th>\n      <th>rank</th>\n    </tr>\n  </thead>\n  <tbody>\n    <tr>\n      <th>0</th>\n      <td>0</td>\n      <td>10440</td>\n      <td>202,457.000000</td>\n      <td>1</td>\n    </tr>\n    <tr>\n      <th>1</th>\n      <td>0</td>\n      <td>15297</td>\n      <td>193,123.000000</td>\n      <td>2</td>\n    </tr>\n    <tr>\n      <th>2</th>\n      <td>0</td>\n      <td>9728</td>\n      <td>132,865.000000</td>\n      <td>3</td>\n    </tr>\n    <tr>\n      <th>3</th>\n      <td>0</td>\n      <td>13865</td>\n      <td>122,119.000000</td>\n      <td>4</td>\n    </tr>\n    <tr>\n      <th>4</th>\n      <td>0</td>\n      <td>4151</td>\n      <td>91,167.000000</td>\n      <td>5</td>\n    </tr>\n  </tbody>\n</table>\n</div>"
     },
     "execution_count": 5,
     "metadata": {},
     "output_type": "execute_result"
    }
   ],
   "source": [
    "test_users = np.unique(df_train[Columns.User])\n",
    "recommendations = model.recommend(\n",
    "    users=test_users,\n",
    "    dataset=dataset,\n",
    "    k=10,\n",
    "    filter_viewed=False,\n",
    ")\n",
    "recommendations.head()"
   ],
   "metadata": {
    "collapsed": false,
    "ExecuteTime": {
     "end_time": "2023-12-05T20:29:57.096922Z",
     "start_time": "2023-12-05T20:29:36.781821Z"
    }
   },
   "id": "3e55b1848650c9f"
  },
  {
   "cell_type": "markdown",
   "source": [
    "### Prediction for cold users"
   ],
   "metadata": {
    "collapsed": false
   },
   "id": "32ef778994c2285a"
  },
  {
   "cell_type": "code",
   "execution_count": 7,
   "outputs": [],
   "source": [
    "recommendations_dict = recommendations.groupby(\"user_id\")[\"item_id\"].agg(list).to_dict()\n",
    "\n",
    "default_value = model.recommend(\n",
    "    users=[1],\n",
    "    dataset=dataset,\n",
    "    k=10,\n",
    "    filter_viewed=False,\n",
    ").item_id.to_list()\n",
    "\n",
    "recommendations_dict[\"default\"] = default_value"
   ],
   "metadata": {
    "collapsed": false,
    "ExecuteTime": {
     "end_time": "2023-12-05T20:31:21.972944Z",
     "start_time": "2023-12-05T20:31:12.518249Z"
    }
   },
   "id": "56fd5ffaa7643bb5"
  },
  {
   "cell_type": "markdown",
   "source": [
    "# Saving recommendation"
   ],
   "metadata": {
    "collapsed": false
   },
   "id": "6d1799564285e877"
  },
  {
   "cell_type": "code",
   "execution_count": 8,
   "outputs": [],
   "source": [
    "with open(\"../model_weights/popular_model.json\", \"w\") as f:\n",
    "    json.dump(recommendations.groupby(\"user_id\")[\"item_id\"].agg(list).to_dict(), f)\n"
   ],
   "metadata": {
    "collapsed": false,
    "ExecuteTime": {
     "end_time": "2023-12-05T20:31:51.863515Z",
     "start_time": "2023-12-05T20:31:38.417050Z"
    }
   },
   "id": "23767b2a50d9b4c8"
  },
  {
   "cell_type": "code",
   "execution_count": null,
   "outputs": [],
   "source": [],
   "metadata": {
    "collapsed": false
   },
   "id": "7f1b39e495c1bcb0"
  }
 ],
 "metadata": {
  "kernelspec": {
   "display_name": "Python 3",
   "language": "python",
   "name": "python3"
  },
  "language_info": {
   "codemirror_mode": {
    "name": "ipython",
    "version": 2
   },
   "file_extension": ".py",
   "mimetype": "text/x-python",
   "name": "python",
   "nbconvert_exporter": "python",
   "pygments_lexer": "ipython2",
   "version": "2.7.6"
  }
 },
 "nbformat": 4,
 "nbformat_minor": 5
}
