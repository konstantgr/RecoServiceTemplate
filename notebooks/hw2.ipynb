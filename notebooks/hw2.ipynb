{
 "cells": [
  {
   "cell_type": "code",
   "execution_count": 1,
   "id": "initial_id",
   "metadata": {
    "ExecuteTime": {
     "end_time": "2023-11-28T14:52:42.800670Z",
     "start_time": "2023-11-28T14:52:42.212141Z"
    }
   },
   "outputs": [],
   "source": [
    "import time\n",
    "import warnings\n",
    "from copy import deepcopy\n",
    "from pathlib import Path\n",
    "\n",
    "import numpy as np\n",
    "import pandas as pd\n",
    "import rectools\n",
    "from rectools import Columns\n",
    "from rectools.dataset import Dataset\n",
    "from rectools.dataset import Interactions\n",
    "from rectools.metrics import Precision, Recall, MAP, NDCG, calc_metrics, Serendipity, MeanInvUserFreq\n",
    "from rectools.model_selection import TimeRangeSplitter\n",
    "from rectools.models import RandomModel, PopularModel\n",
    "from tqdm import tqdm\n",
    "\n",
    "warnings.filterwarnings(\"ignore\")"
   ]
  },
  {
   "cell_type": "markdown",
   "id": "c4d0edcb2ca60dfa",
   "metadata": {
    "collapsed": false
   },
   "source": [
    "# Read data"
   ]
  },
  {
   "cell_type": "code",
   "execution_count": 2,
   "id": "d5d154ad767c814",
   "metadata": {
    "collapsed": false,
    "ExecuteTime": {
     "end_time": "2023-11-28T14:52:44.770565Z",
     "start_time": "2023-11-28T14:52:42.809385Z"
    }
   },
   "outputs": [],
   "source": [
    "interactions_path = Path(\"../data/interactions.csv\")\n",
    "df_interactions = pd.read_csv(interactions_path)\n",
    "df_interactions.rename(\n",
    "    columns={\"last_watch_dt\": rectools.Columns.Datetime, \"total_dur\": rectools.Columns.Weight}, inplace=True\n",
    ")\n",
    "interactions = Interactions(df_interactions)"
   ]
  },
  {
   "cell_type": "code",
   "execution_count": 3,
   "id": "3e667fbe95c1c8a4",
   "metadata": {
    "collapsed": false,
    "ExecuteTime": {
     "end_time": "2023-11-28T14:52:45.285291Z",
     "start_time": "2023-11-28T14:52:44.771179Z"
    }
   },
   "outputs": [
    {
     "data": {
      "text/plain": "   item_id content_type                 title      title_orig  release_year  \\\n0    10711         film        Поговори с ней  Hable con ella        2002.0   \n1     2508         film           Голые перцы    Search Party        2014.0   \n2    10716         film      Тактическая сила  Tactical Force        2011.0   \n3     7868         film                45 лет        45 Years        2015.0   \n4    16268         film  Все решает мгновение             NaN        1978.0   \n\n                                             genres       countries  for_kids  \\\n0           драмы, зарубежные, детективы, мелодрамы         Испания       NaN   \n1                  зарубежные, приключения, комедии             США       NaN   \n2  криминал, зарубежные, триллеры, боевики, комедии          Канада       NaN   \n3                      драмы, зарубежные, мелодрамы  Великобритания       NaN   \n4                драмы, спорт, советские, мелодрамы            СССР       NaN   \n\n   age_rating   studios         directors  \\\n0        16.0       NaN  Педро Альмодовар   \n1        16.0       NaN    Скот Армстронг   \n2        16.0       NaN  Адам П. Калтраро   \n3        16.0       NaN         Эндрю Хэй   \n4        12.0  Ленфильм  Виктор Садовский   \n\n                                              actors  \\\n0  Адольфо Фернандес, Ана Фернандес, Дарио Гранди...   \n1  Адам Палли, Брайан Хаски, Дж.Б. Смув, Джейсон ...   \n2  Адриан Холмс, Даррен Шалави, Джерри Вассерман,...   \n3  Александра Риддлстон-Барретт, Джеральдин Джейм...   \n4  Александр Абдулов, Александр Демьяненко, Алекс...   \n\n                                         description  \\\n0  Мелодрама легендарного Педро Альмодовара «Пого...   \n1  Уморительная современная комедия на популярную...   \n2  Профессиональный рестлер Стив Остин («Все или ...   \n3  Шарлотта Рэмплинг, Том Кортни, Джеральдин Джей...   \n4  Расчетливая чаровница из советского кинохита «...   \n\n                                            keywords  \n0  Поговори, ней, 2002, Испания, друзья, любовь, ...  \n1  Голые, перцы, 2014, США, друзья, свадьбы, прео...  \n2  Тактическая, сила, 2011, Канада, бандиты, ганг...  \n3  45, лет, 2015, Великобритания, брак, жизнь, лю...  \n4  Все, решает, мгновение, 1978, СССР, сильные, ж...  ",
      "text/html": "<div>\n<style scoped>\n    .dataframe tbody tr th:only-of-type {\n        vertical-align: middle;\n    }\n\n    .dataframe tbody tr th {\n        vertical-align: top;\n    }\n\n    .dataframe thead th {\n        text-align: right;\n    }\n</style>\n<table border=\"1\" class=\"dataframe\">\n  <thead>\n    <tr style=\"text-align: right;\">\n      <th></th>\n      <th>item_id</th>\n      <th>content_type</th>\n      <th>title</th>\n      <th>title_orig</th>\n      <th>release_year</th>\n      <th>genres</th>\n      <th>countries</th>\n      <th>for_kids</th>\n      <th>age_rating</th>\n      <th>studios</th>\n      <th>directors</th>\n      <th>actors</th>\n      <th>description</th>\n      <th>keywords</th>\n    </tr>\n  </thead>\n  <tbody>\n    <tr>\n      <th>0</th>\n      <td>10711</td>\n      <td>film</td>\n      <td>Поговори с ней</td>\n      <td>Hable con ella</td>\n      <td>2002.0</td>\n      <td>драмы, зарубежные, детективы, мелодрамы</td>\n      <td>Испания</td>\n      <td>NaN</td>\n      <td>16.0</td>\n      <td>NaN</td>\n      <td>Педро Альмодовар</td>\n      <td>Адольфо Фернандес, Ана Фернандес, Дарио Гранди...</td>\n      <td>Мелодрама легендарного Педро Альмодовара «Пого...</td>\n      <td>Поговори, ней, 2002, Испания, друзья, любовь, ...</td>\n    </tr>\n    <tr>\n      <th>1</th>\n      <td>2508</td>\n      <td>film</td>\n      <td>Голые перцы</td>\n      <td>Search Party</td>\n      <td>2014.0</td>\n      <td>зарубежные, приключения, комедии</td>\n      <td>США</td>\n      <td>NaN</td>\n      <td>16.0</td>\n      <td>NaN</td>\n      <td>Скот Армстронг</td>\n      <td>Адам Палли, Брайан Хаски, Дж.Б. Смув, Джейсон ...</td>\n      <td>Уморительная современная комедия на популярную...</td>\n      <td>Голые, перцы, 2014, США, друзья, свадьбы, прео...</td>\n    </tr>\n    <tr>\n      <th>2</th>\n      <td>10716</td>\n      <td>film</td>\n      <td>Тактическая сила</td>\n      <td>Tactical Force</td>\n      <td>2011.0</td>\n      <td>криминал, зарубежные, триллеры, боевики, комедии</td>\n      <td>Канада</td>\n      <td>NaN</td>\n      <td>16.0</td>\n      <td>NaN</td>\n      <td>Адам П. Калтраро</td>\n      <td>Адриан Холмс, Даррен Шалави, Джерри Вассерман,...</td>\n      <td>Профессиональный рестлер Стив Остин («Все или ...</td>\n      <td>Тактическая, сила, 2011, Канада, бандиты, ганг...</td>\n    </tr>\n    <tr>\n      <th>3</th>\n      <td>7868</td>\n      <td>film</td>\n      <td>45 лет</td>\n      <td>45 Years</td>\n      <td>2015.0</td>\n      <td>драмы, зарубежные, мелодрамы</td>\n      <td>Великобритания</td>\n      <td>NaN</td>\n      <td>16.0</td>\n      <td>NaN</td>\n      <td>Эндрю Хэй</td>\n      <td>Александра Риддлстон-Барретт, Джеральдин Джейм...</td>\n      <td>Шарлотта Рэмплинг, Том Кортни, Джеральдин Джей...</td>\n      <td>45, лет, 2015, Великобритания, брак, жизнь, лю...</td>\n    </tr>\n    <tr>\n      <th>4</th>\n      <td>16268</td>\n      <td>film</td>\n      <td>Все решает мгновение</td>\n      <td>NaN</td>\n      <td>1978.0</td>\n      <td>драмы, спорт, советские, мелодрамы</td>\n      <td>СССР</td>\n      <td>NaN</td>\n      <td>12.0</td>\n      <td>Ленфильм</td>\n      <td>Виктор Садовский</td>\n      <td>Александр Абдулов, Александр Демьяненко, Алекс...</td>\n      <td>Расчетливая чаровница из советского кинохита «...</td>\n      <td>Все, решает, мгновение, 1978, СССР, сильные, ж...</td>\n    </tr>\n  </tbody>\n</table>\n</div>"
     },
     "execution_count": 3,
     "metadata": {},
     "output_type": "execute_result"
    }
   ],
   "source": [
    "items_path = Path(\"../data/items.csv\")\n",
    "items = pd.read_csv(items_path)\n",
    "items.head()"
   ]
  },
  {
   "cell_type": "markdown",
   "id": "327c6409-bcf9-4de8-a47c-6f28fa11d946",
   "metadata": {},
   "source": [
    "# Evaluator object"
   ]
  },
  {
   "cell_type": "code",
   "execution_count": 4,
   "id": "188b7c55203bb3ff",
   "metadata": {
    "collapsed": false,
    "ExecuteTime": {
     "end_time": "2023-11-28T14:52:45.293191Z",
     "start_time": "2023-11-28T14:52:45.290920Z"
    }
   },
   "outputs": [],
   "source": [
    "class Evaluator:\n",
    "    def __init__(self, models: dict, metrics: dict, splitter: TimeRangeSplitter, k: int):\n",
    "        self.models = models\n",
    "        self.metrics = metrics\n",
    "        self.splitter = splitter\n",
    "        self.k = k\n",
    "        self.results = pd.DataFrame(columns=[\"fold\", \"model\", \"time\"] + list(self.metrics.keys()))\n",
    "\n",
    "    def evaluate_model(self, model, model_name, dataset, df_train, df_test, test_users, catalog, fold_i):\n",
    "        model_copy = deepcopy(model)\n",
    "        start = time.time()\n",
    "        model_copy.fit(dataset)\n",
    "        end = time.time()\n",
    "        recommendations = model_copy.recommend(\n",
    "            users=test_users,\n",
    "            dataset=dataset,\n",
    "            k=self.k,\n",
    "            filter_viewed=True,\n",
    "        )\n",
    "\n",
    "        metric_values = calc_metrics(\n",
    "            self.metrics,\n",
    "            reco=recommendations,\n",
    "            interactions=df_test,\n",
    "            prev_interactions=df_train,\n",
    "            catalog=catalog,\n",
    "        )\n",
    "        res = {\"fold\": fold_i, \"model\": model_name, \"time\": end - start}\n",
    "        res.update(metric_values)\n",
    "\n",
    "        tmp_df = pd.DataFrame([res])\n",
    "        self.results = pd.concat([self.results, tmp_df], ignore_index=True)\n",
    "\n",
    "    def evaluate_fold(self, train_ids, test_ids, fold_info):\n",
    "        df_train = interactions.df.iloc[train_ids]\n",
    "        dataset = Dataset.construct(df_train)\n",
    "\n",
    "        df_test = interactions.df.iloc[test_ids][Columns.UserItem]\n",
    "        test_users = np.unique(df_test[Columns.User])\n",
    "\n",
    "        catalog = df_train[Columns.Item].unique()\n",
    "\n",
    "        for model_name, model in self.models.items():\n",
    "            self.evaluate_model(\n",
    "                model, model_name, dataset, df_train, df_test, test_users, catalog, fold_info[\"i_split\"]\n",
    "            )\n",
    "\n",
    "    def run(self, interactions):\n",
    "        n_splits = self.splitter.n_splits\n",
    "\n",
    "        fold_iterator = self.splitter.split(interactions, collect_fold_stats=True)\n",
    "        pbar = tqdm(fold_iterator, total=n_splits)\n",
    "\n",
    "        for train_ids, test_ids, fold_info in pbar:\n",
    "            pbar.set_description(f\"Evaluating fold {fold_info['i_split']}\")\n",
    "            self.evaluate_fold(train_ids, test_ids, fold_info)\n",
    "\n",
    "    def display(self):\n",
    "        pivot = self.results.drop(\"fold\", axis=1).groupby([\"model\"]).mean()\n",
    "        metric_columns = [\n",
    "            (col.split(\"@\")[0], int(col.split(\"@\")[1])) if \"@\" in col else (col, \"\") for col in pivot.columns\n",
    "        ]\n",
    "        pivot.columns = pd.MultiIndex.from_tuples(metric_columns, names=[\"Metric\", \"Value\"])\n",
    "\n",
    "        display(pivot)\n",
    "        return pivot"
   ]
  },
  {
   "cell_type": "markdown",
   "id": "ce21b824-ce5e-4d3e-b088-11ae8933077d",
   "metadata": {},
   "source": [
    "# Models"
   ]
  },
  {
   "cell_type": "code",
   "execution_count": 5,
   "id": "5375ce9dc2783b7",
   "metadata": {
    "collapsed": false,
    "ExecuteTime": {
     "end_time": "2023-11-28T14:52:45.297643Z",
     "start_time": "2023-11-28T14:52:45.295761Z"
    }
   },
   "outputs": [],
   "source": [
    "SEED: int = 42\n",
    "N_SPLITS: int = 3\n",
    "K: int = 10\n",
    "\n",
    "models = {\"RandomModel\": RandomModel(random_state=SEED), \"PopularModel\": PopularModel()}"
   ]
  },
  {
   "cell_type": "markdown",
   "id": "22b9bb9f-2d9e-4c00-9c2d-6a9f0273c0d6",
   "metadata": {},
   "source": [
    "# Metrics"
   ]
  },
  {
   "cell_type": "markdown",
   "id": "854f74ec-f2a0-496f-b529-300ef06ef9f1",
   "metadata": {},
   "source": [
    "## All metrics"
   ]
  },
  {
   "cell_type": "code",
   "execution_count": 6,
   "id": "c03a1c50f10a7758",
   "metadata": {
    "collapsed": false,
    "ExecuteTime": {
     "end_time": "2023-11-28T14:52:45.301612Z",
     "start_time": "2023-11-28T14:52:45.299267Z"
    }
   },
   "outputs": [],
   "source": [
    "thresholds: tuple[int, ...] = (1, 5, 10)\n",
    "\n",
    "precision_metrics = {f\"Precision@{k}\": Precision(k=k) for k in thresholds}\n",
    "\n",
    "recall_metrics = {f\"Recall@{k}\": Recall(k=k) for k in thresholds}\n",
    "\n",
    "map_metrics = {f\"MAP@{k}\": MAP(k=k, divide_by_k=False) for k in thresholds}\n",
    "\n",
    "ndcg_metrics = {f\"NDCG@{k}\": NDCG(k=k, log_base=3) for k in thresholds}\n",
    "\n",
    "miuf_metrics = {f\"MIUF@{k}\": MeanInvUserFreq(k=k) for k in thresholds}\n",
    "\n",
    "serendipity_metrics = {f\"Serendipity@{k}\": Serendipity(k=k) for k in thresholds}"
   ]
  },
  {
   "cell_type": "markdown",
   "id": "90b0724d-460f-404c-9a5f-b59208c8aecf",
   "metadata": {},
   "source": [
    "## Combined metrics"
   ]
  },
  {
   "cell_type": "code",
   "execution_count": 7,
   "id": "07cd272b-c5dd-4670-8d13-d3da8ac9b29e",
   "metadata": {
    "ExecuteTime": {
     "end_time": "2023-11-28T14:52:45.305819Z",
     "start_time": "2023-11-28T14:52:45.301542Z"
    }
   },
   "outputs": [],
   "source": [
    "metrics = {**precision_metrics, **recall_metrics, **map_metrics, **ndcg_metrics, **miuf_metrics, **serendipity_metrics}"
   ]
  },
  {
   "cell_type": "markdown",
   "id": "4f9f1fb0-896e-4ee9-a35d-12d6a88a7c82",
   "metadata": {},
   "source": [
    "# Splitter"
   ]
  },
  {
   "cell_type": "code",
   "execution_count": 8,
   "id": "161a0fb363b9efc5",
   "metadata": {
    "collapsed": false,
    "ExecuteTime": {
     "end_time": "2023-11-28T14:52:45.320191Z",
     "start_time": "2023-11-28T14:52:45.305954Z"
    }
   },
   "outputs": [],
   "source": [
    "splitter = TimeRangeSplitter(\n",
    "    \"7D\",\n",
    "    n_splits=N_SPLITS,\n",
    "    filter_already_seen=True,\n",
    "    filter_cold_items=True,\n",
    "    filter_cold_users=True,\n",
    ")"
   ]
  },
  {
   "cell_type": "markdown",
   "id": "1c9055d1-4f48-4cb4-9b6e-1b810d29be17",
   "metadata": {},
   "source": [
    "# Evaluation"
   ]
  },
  {
   "cell_type": "code",
   "execution_count": 9,
   "id": "4c3ae23c25d80f83",
   "metadata": {
    "collapsed": false,
    "ExecuteTime": {
     "end_time": "2023-11-28T14:53:54.149360Z",
     "start_time": "2023-11-28T14:52:45.312230Z"
    }
   },
   "outputs": [
    {
     "name": "stderr",
     "output_type": "stream",
     "text": [
      "Evaluating fold 2: 100%|██████████| 3/3 [01:08<00:00, 22.94s/it]\n"
     ]
    }
   ],
   "source": [
    "evaluator = Evaluator(models, metrics, splitter, K)\n",
    "evaluator.run(interactions)"
   ]
  },
  {
   "cell_type": "code",
   "execution_count": 10,
   "id": "fd3d1e73b4eca43e",
   "metadata": {
    "collapsed": false,
    "ExecuteTime": {
     "end_time": "2023-11-28T14:53:54.160432Z",
     "start_time": "2023-11-28T14:53:54.155802Z"
    }
   },
   "outputs": [
    {
     "data": {
      "text/plain": "Metric            time Precision                        Recall            \\\nValue                          1         5        10         1         5   \nmodel                                                                      \nPopularModel  4.501238  0.076432  0.052402  0.033903  0.042720  0.137413   \nRandomModel   0.000024  0.000169  0.000176  0.000176  0.000069  0.000345   \n\nMetric                       MAP                          NDCG            \\\nValue               10         1         5        10         1         5   \nmodel                                                                      \nPopularModel  0.173492  0.042720  0.078295  0.084109  0.076432  0.057932   \nRandomModel   0.000687  0.000069  0.000155  0.000200  0.000169  0.000173   \n\nMetric                       MIUF                       Serendipity            \\\nValue               10          1          5         10           1         5   \nmodel                                                                           \nPopularModel  0.043084   2.377055   3.066979   3.713390    0.000002  0.000003   \nRandomModel   0.000175  15.616147  15.611575  15.610409    0.000004  0.000006   \n\nMetric                  \nValue               10  \nmodel                   \nPopularModel  0.000002  \nRandomModel   0.000006  ",
      "text/html": "<div>\n<style scoped>\n    .dataframe tbody tr th:only-of-type {\n        vertical-align: middle;\n    }\n\n    .dataframe tbody tr th {\n        vertical-align: top;\n    }\n\n    .dataframe thead tr th {\n        text-align: left;\n    }\n\n    .dataframe thead tr:last-of-type th {\n        text-align: right;\n    }\n</style>\n<table border=\"1\" class=\"dataframe\">\n  <thead>\n    <tr>\n      <th>Metric</th>\n      <th>time</th>\n      <th colspan=\"3\" halign=\"left\">Precision</th>\n      <th colspan=\"3\" halign=\"left\">Recall</th>\n      <th colspan=\"3\" halign=\"left\">MAP</th>\n      <th colspan=\"3\" halign=\"left\">NDCG</th>\n      <th colspan=\"3\" halign=\"left\">MIUF</th>\n      <th colspan=\"3\" halign=\"left\">Serendipity</th>\n    </tr>\n    <tr>\n      <th>Value</th>\n      <th></th>\n      <th>1</th>\n      <th>5</th>\n      <th>10</th>\n      <th>1</th>\n      <th>5</th>\n      <th>10</th>\n      <th>1</th>\n      <th>5</th>\n      <th>10</th>\n      <th>1</th>\n      <th>5</th>\n      <th>10</th>\n      <th>1</th>\n      <th>5</th>\n      <th>10</th>\n      <th>1</th>\n      <th>5</th>\n      <th>10</th>\n    </tr>\n    <tr>\n      <th>model</th>\n      <th></th>\n      <th></th>\n      <th></th>\n      <th></th>\n      <th></th>\n      <th></th>\n      <th></th>\n      <th></th>\n      <th></th>\n      <th></th>\n      <th></th>\n      <th></th>\n      <th></th>\n      <th></th>\n      <th></th>\n      <th></th>\n      <th></th>\n      <th></th>\n      <th></th>\n    </tr>\n  </thead>\n  <tbody>\n    <tr>\n      <th>PopularModel</th>\n      <td>4.501238</td>\n      <td>0.076432</td>\n      <td>0.052402</td>\n      <td>0.033903</td>\n      <td>0.042720</td>\n      <td>0.137413</td>\n      <td>0.173492</td>\n      <td>0.042720</td>\n      <td>0.078295</td>\n      <td>0.084109</td>\n      <td>0.076432</td>\n      <td>0.057932</td>\n      <td>0.043084</td>\n      <td>2.377055</td>\n      <td>3.066979</td>\n      <td>3.713390</td>\n      <td>0.000002</td>\n      <td>0.000003</td>\n      <td>0.000002</td>\n    </tr>\n    <tr>\n      <th>RandomModel</th>\n      <td>0.000024</td>\n      <td>0.000169</td>\n      <td>0.000176</td>\n      <td>0.000176</td>\n      <td>0.000069</td>\n      <td>0.000345</td>\n      <td>0.000687</td>\n      <td>0.000069</td>\n      <td>0.000155</td>\n      <td>0.000200</td>\n      <td>0.000169</td>\n      <td>0.000173</td>\n      <td>0.000175</td>\n      <td>15.616147</td>\n      <td>15.611575</td>\n      <td>15.610409</td>\n      <td>0.000004</td>\n      <td>0.000006</td>\n      <td>0.000006</td>\n    </tr>\n  </tbody>\n</table>\n</div>"
     },
     "metadata": {},
     "output_type": "display_data"
    }
   ],
   "source": [
    "pivot = evaluator.display()"
   ]
  },
  {
   "cell_type": "markdown",
   "source": [
    "# Visual analysis"
   ],
   "metadata": {
    "collapsed": false
   },
   "id": "7bf375bb2cf9d44f"
  },
  {
   "cell_type": "code",
   "execution_count": 11,
   "id": "4c01a47cb7352e00",
   "metadata": {
    "collapsed": false,
    "ExecuteTime": {
     "end_time": "2023-11-28T14:53:54.163816Z",
     "start_time": "2023-11-28T14:53:54.161655Z"
    }
   },
   "outputs": [],
   "source": [
    "def print_in_a_frame(*words):\n",
    "    size = max(len(word) for word in words)\n",
    "    print(\"*\" * (size + 4))\n",
    "    for word in words:\n",
    "        print(\"* {:<{}} *\".format(word, size))\n",
    "    print(\"*\" * (size + 4))\n",
    "\n",
    "\n",
    "def visual_analysis(model, dataset, user_ids):\n",
    "    items_df = items[[\"item_id\", \"title\", \"genres\"]]\n",
    "\n",
    "    for user_id in user_ids:\n",
    "        mask = dataset.interactions.df.user_id == user_id\n",
    "        user_history_df = dataset.interactions.df.loc[mask]\n",
    "        user_recommendations = model.recommend(users=[user_id], dataset=dataset, k=K, filter_viewed=True)\n",
    "        user_history_df = (\n",
    "            user_history_df.copy().reset_index().rename({\"index\": \"action_id\"}, axis=1).drop(\"weight\", axis=1)\n",
    "        )\n",
    "        user_recommendations = user_recommendations.copy()\n",
    "        user_history = (\n",
    "            user_history_df.merge(\n",
    "                items_df,\n",
    "                left_on=\"item_id\",\n",
    "                right_on=\"item_id\",\n",
    "            )\n",
    "            .sort_values(by=\"datetime\")\n",
    "            .tail(10)\n",
    "        )\n",
    "\n",
    "        print_in_a_frame(f\"User {user_id}\", \"History\")\n",
    "        display(user_history)\n",
    "\n",
    "        if not user_recommendations.empty:\n",
    "            user_recos = user_recommendations.merge(\n",
    "                items_df,\n",
    "                left_on=\"item_id\",\n",
    "                right_on=\"item_id\",\n",
    "            )\n",
    "            print_in_a_frame(f\"User {user_id}\", \"Recommendations\")\n",
    "            display(user_recos[items_df.columns])\n",
    "        print(\"\\n\", 50 * \"=\", \"\\n\")"
   ]
  },
  {
   "cell_type": "code",
   "execution_count": 12,
   "outputs": [
    {
     "name": "stdout",
     "output_type": "stream",
     "text": [
      "***************\n",
      "* User 666262 *\n",
      "* History     *\n",
      "***************\n"
     ]
    },
    {
     "data": {
      "text/plain": "   action_id  user_id  item_id   datetime                 title  \\\n0    2233832   666262       93 2021-07-21  Дом ночных призраков   \n\n                                   genres  \n0  зарубежные, криминал, детективы, ужасы  ",
      "text/html": "<div>\n<style scoped>\n    .dataframe tbody tr th:only-of-type {\n        vertical-align: middle;\n    }\n\n    .dataframe tbody tr th {\n        vertical-align: top;\n    }\n\n    .dataframe thead th {\n        text-align: right;\n    }\n</style>\n<table border=\"1\" class=\"dataframe\">\n  <thead>\n    <tr style=\"text-align: right;\">\n      <th></th>\n      <th>action_id</th>\n      <th>user_id</th>\n      <th>item_id</th>\n      <th>datetime</th>\n      <th>title</th>\n      <th>genres</th>\n    </tr>\n  </thead>\n  <tbody>\n    <tr>\n      <th>0</th>\n      <td>2233832</td>\n      <td>666262</td>\n      <td>93</td>\n      <td>2021-07-21</td>\n      <td>Дом ночных призраков</td>\n      <td>зарубежные, криминал, детективы, ужасы</td>\n    </tr>\n  </tbody>\n</table>\n</div>"
     },
     "metadata": {},
     "output_type": "display_data"
    },
    {
     "name": "stdout",
     "output_type": "stream",
     "text": [
      "*******************\n",
      "* User 666262     *\n",
      "* Recommendations *\n",
      "*******************\n"
     ]
    },
    {
     "data": {
      "text/plain": "   item_id                                              title  \\\n0     7419                                        Ода радости   \n1     9109                                    Последняя битва   \n2    13917                                        Преисподняя   \n3    13332                                          Лихорадка   \n4     1331                                           Вечность   \n5    15448                                              Леший   \n6     1123                                             Богема   \n7     9933                                             Шедевр   \n8     3287  Единоборства для детей (3-6 лет) Школа героев ...   \n9     8478                    Американский пирог: Все в сборе   \n\n                                genres  \n0                              комедии  \n1                       драмы, военные  \n2  драмы, детективы, триллеры, вестерн  \n3                                ужасы  \n4                                драмы  \n5        триллеры, криминал, детективы  \n6            драмы, мюзиклы, мелодрамы  \n7                       драмы, комедии  \n8      единоборства, фитнес, для детей  \n9                              комедии  ",
      "text/html": "<div>\n<style scoped>\n    .dataframe tbody tr th:only-of-type {\n        vertical-align: middle;\n    }\n\n    .dataframe tbody tr th {\n        vertical-align: top;\n    }\n\n    .dataframe thead th {\n        text-align: right;\n    }\n</style>\n<table border=\"1\" class=\"dataframe\">\n  <thead>\n    <tr style=\"text-align: right;\">\n      <th></th>\n      <th>item_id</th>\n      <th>title</th>\n      <th>genres</th>\n    </tr>\n  </thead>\n  <tbody>\n    <tr>\n      <th>0</th>\n      <td>7419</td>\n      <td>Ода радости</td>\n      <td>комедии</td>\n    </tr>\n    <tr>\n      <th>1</th>\n      <td>9109</td>\n      <td>Последняя битва</td>\n      <td>драмы, военные</td>\n    </tr>\n    <tr>\n      <th>2</th>\n      <td>13917</td>\n      <td>Преисподняя</td>\n      <td>драмы, детективы, триллеры, вестерн</td>\n    </tr>\n    <tr>\n      <th>3</th>\n      <td>13332</td>\n      <td>Лихорадка</td>\n      <td>ужасы</td>\n    </tr>\n    <tr>\n      <th>4</th>\n      <td>1331</td>\n      <td>Вечность</td>\n      <td>драмы</td>\n    </tr>\n    <tr>\n      <th>5</th>\n      <td>15448</td>\n      <td>Леший</td>\n      <td>триллеры, криминал, детективы</td>\n    </tr>\n    <tr>\n      <th>6</th>\n      <td>1123</td>\n      <td>Богема</td>\n      <td>драмы, мюзиклы, мелодрамы</td>\n    </tr>\n    <tr>\n      <th>7</th>\n      <td>9933</td>\n      <td>Шедевр</td>\n      <td>драмы, комедии</td>\n    </tr>\n    <tr>\n      <th>8</th>\n      <td>3287</td>\n      <td>Единоборства для детей (3-6 лет) Школа героев ...</td>\n      <td>единоборства, фитнес, для детей</td>\n    </tr>\n    <tr>\n      <th>9</th>\n      <td>8478</td>\n      <td>Американский пирог: Все в сборе</td>\n      <td>комедии</td>\n    </tr>\n  </tbody>\n</table>\n</div>"
     },
     "metadata": {},
     "output_type": "display_data"
    },
    {
     "name": "stdout",
     "output_type": "stream",
     "text": [
      "\n",
      " ================================================== \n",
      "***************\n",
      "* User 672861 *\n",
      "* History     *\n",
      "***************\n"
     ]
    },
    {
     "data": {
      "text/plain": "   action_id  user_id  item_id   datetime                          title  \\\n0    2284513   672861       25 2021-07-26  Медвежонок Винни и его друзья   \n1    4681450   672861       32 2021-08-01                 В ритме сердца   \n\n                                      genres  \n0  мюзиклы, мультфильм, приключения, комедии  \n1                  драмы, мюзиклы, мелодрамы  ",
      "text/html": "<div>\n<style scoped>\n    .dataframe tbody tr th:only-of-type {\n        vertical-align: middle;\n    }\n\n    .dataframe tbody tr th {\n        vertical-align: top;\n    }\n\n    .dataframe thead th {\n        text-align: right;\n    }\n</style>\n<table border=\"1\" class=\"dataframe\">\n  <thead>\n    <tr style=\"text-align: right;\">\n      <th></th>\n      <th>action_id</th>\n      <th>user_id</th>\n      <th>item_id</th>\n      <th>datetime</th>\n      <th>title</th>\n      <th>genres</th>\n    </tr>\n  </thead>\n  <tbody>\n    <tr>\n      <th>0</th>\n      <td>2284513</td>\n      <td>672861</td>\n      <td>25</td>\n      <td>2021-07-26</td>\n      <td>Медвежонок Винни и его друзья</td>\n      <td>мюзиклы, мультфильм, приключения, комедии</td>\n    </tr>\n    <tr>\n      <th>1</th>\n      <td>4681450</td>\n      <td>672861</td>\n      <td>32</td>\n      <td>2021-08-01</td>\n      <td>В ритме сердца</td>\n      <td>драмы, мюзиклы, мелодрамы</td>\n    </tr>\n  </tbody>\n</table>\n</div>"
     },
     "metadata": {},
     "output_type": "display_data"
    },
    {
     "name": "stdout",
     "output_type": "stream",
     "text": [
      "*******************\n",
      "* User 672861     *\n",
      "* Recommendations *\n",
      "*******************\n"
     ]
    },
    {
     "data": {
      "text/plain": "   item_id                                              title  \\\n0     7419                                        Ода радости   \n1     9109                                    Последняя битва   \n2    13917                                        Преисподняя   \n3    13332                                          Лихорадка   \n4     1331                                           Вечность   \n5    15448                                              Леший   \n6     1123                                             Богема   \n7     9933                                             Шедевр   \n8     3287  Единоборства для детей (3-6 лет) Школа героев ...   \n9     8478                    Американский пирог: Все в сборе   \n\n                                genres  \n0                              комедии  \n1                       драмы, военные  \n2  драмы, детективы, триллеры, вестерн  \n3                                ужасы  \n4                                драмы  \n5        триллеры, криминал, детективы  \n6            драмы, мюзиклы, мелодрамы  \n7                       драмы, комедии  \n8      единоборства, фитнес, для детей  \n9                              комедии  ",
      "text/html": "<div>\n<style scoped>\n    .dataframe tbody tr th:only-of-type {\n        vertical-align: middle;\n    }\n\n    .dataframe tbody tr th {\n        vertical-align: top;\n    }\n\n    .dataframe thead th {\n        text-align: right;\n    }\n</style>\n<table border=\"1\" class=\"dataframe\">\n  <thead>\n    <tr style=\"text-align: right;\">\n      <th></th>\n      <th>item_id</th>\n      <th>title</th>\n      <th>genres</th>\n    </tr>\n  </thead>\n  <tbody>\n    <tr>\n      <th>0</th>\n      <td>7419</td>\n      <td>Ода радости</td>\n      <td>комедии</td>\n    </tr>\n    <tr>\n      <th>1</th>\n      <td>9109</td>\n      <td>Последняя битва</td>\n      <td>драмы, военные</td>\n    </tr>\n    <tr>\n      <th>2</th>\n      <td>13917</td>\n      <td>Преисподняя</td>\n      <td>драмы, детективы, триллеры, вестерн</td>\n    </tr>\n    <tr>\n      <th>3</th>\n      <td>13332</td>\n      <td>Лихорадка</td>\n      <td>ужасы</td>\n    </tr>\n    <tr>\n      <th>4</th>\n      <td>1331</td>\n      <td>Вечность</td>\n      <td>драмы</td>\n    </tr>\n    <tr>\n      <th>5</th>\n      <td>15448</td>\n      <td>Леший</td>\n      <td>триллеры, криминал, детективы</td>\n    </tr>\n    <tr>\n      <th>6</th>\n      <td>1123</td>\n      <td>Богема</td>\n      <td>драмы, мюзиклы, мелодрамы</td>\n    </tr>\n    <tr>\n      <th>7</th>\n      <td>9933</td>\n      <td>Шедевр</td>\n      <td>драмы, комедии</td>\n    </tr>\n    <tr>\n      <th>8</th>\n      <td>3287</td>\n      <td>Единоборства для детей (3-6 лет) Школа героев ...</td>\n      <td>единоборства, фитнес, для детей</td>\n    </tr>\n    <tr>\n      <th>9</th>\n      <td>8478</td>\n      <td>Американский пирог: Все в сборе</td>\n      <td>комедии</td>\n    </tr>\n  </tbody>\n</table>\n</div>"
     },
     "metadata": {},
     "output_type": "display_data"
    },
    {
     "name": "stdout",
     "output_type": "stream",
     "text": [
      "\n",
      " ================================================== \n",
      "***************\n",
      "* User 955527 *\n",
      "* History     *\n",
      "***************\n"
     ]
    },
    {
     "data": {
      "text/plain": "   action_id  user_id  item_id   datetime        title        genres\n0    5376325   955527       21 2021-07-20  Признание 5  для взрослых",
      "text/html": "<div>\n<style scoped>\n    .dataframe tbody tr th:only-of-type {\n        vertical-align: middle;\n    }\n\n    .dataframe tbody tr th {\n        vertical-align: top;\n    }\n\n    .dataframe thead th {\n        text-align: right;\n    }\n</style>\n<table border=\"1\" class=\"dataframe\">\n  <thead>\n    <tr style=\"text-align: right;\">\n      <th></th>\n      <th>action_id</th>\n      <th>user_id</th>\n      <th>item_id</th>\n      <th>datetime</th>\n      <th>title</th>\n      <th>genres</th>\n    </tr>\n  </thead>\n  <tbody>\n    <tr>\n      <th>0</th>\n      <td>5376325</td>\n      <td>955527</td>\n      <td>21</td>\n      <td>2021-07-20</td>\n      <td>Признание 5</td>\n      <td>для взрослых</td>\n    </tr>\n  </tbody>\n</table>\n</div>"
     },
     "metadata": {},
     "output_type": "display_data"
    },
    {
     "name": "stdout",
     "output_type": "stream",
     "text": [
      "*******************\n",
      "* User 955527     *\n",
      "* Recommendations *\n",
      "*******************\n"
     ]
    },
    {
     "data": {
      "text/plain": "   item_id                                              title  \\\n0     7419                                        Ода радости   \n1     9109                                    Последняя битва   \n2    13917                                        Преисподняя   \n3    13332                                          Лихорадка   \n4     1331                                           Вечность   \n5    15448                                              Леший   \n6     1123                                             Богема   \n7     9933                                             Шедевр   \n8     3287  Единоборства для детей (3-6 лет) Школа героев ...   \n9     8478                    Американский пирог: Все в сборе   \n\n                                genres  \n0                              комедии  \n1                       драмы, военные  \n2  драмы, детективы, триллеры, вестерн  \n3                                ужасы  \n4                                драмы  \n5        триллеры, криминал, детективы  \n6            драмы, мюзиклы, мелодрамы  \n7                       драмы, комедии  \n8      единоборства, фитнес, для детей  \n9                              комедии  ",
      "text/html": "<div>\n<style scoped>\n    .dataframe tbody tr th:only-of-type {\n        vertical-align: middle;\n    }\n\n    .dataframe tbody tr th {\n        vertical-align: top;\n    }\n\n    .dataframe thead th {\n        text-align: right;\n    }\n</style>\n<table border=\"1\" class=\"dataframe\">\n  <thead>\n    <tr style=\"text-align: right;\">\n      <th></th>\n      <th>item_id</th>\n      <th>title</th>\n      <th>genres</th>\n    </tr>\n  </thead>\n  <tbody>\n    <tr>\n      <th>0</th>\n      <td>7419</td>\n      <td>Ода радости</td>\n      <td>комедии</td>\n    </tr>\n    <tr>\n      <th>1</th>\n      <td>9109</td>\n      <td>Последняя битва</td>\n      <td>драмы, военные</td>\n    </tr>\n    <tr>\n      <th>2</th>\n      <td>13917</td>\n      <td>Преисподняя</td>\n      <td>драмы, детективы, триллеры, вестерн</td>\n    </tr>\n    <tr>\n      <th>3</th>\n      <td>13332</td>\n      <td>Лихорадка</td>\n      <td>ужасы</td>\n    </tr>\n    <tr>\n      <th>4</th>\n      <td>1331</td>\n      <td>Вечность</td>\n      <td>драмы</td>\n    </tr>\n    <tr>\n      <th>5</th>\n      <td>15448</td>\n      <td>Леший</td>\n      <td>триллеры, криминал, детективы</td>\n    </tr>\n    <tr>\n      <th>6</th>\n      <td>1123</td>\n      <td>Богема</td>\n      <td>драмы, мюзиклы, мелодрамы</td>\n    </tr>\n    <tr>\n      <th>7</th>\n      <td>9933</td>\n      <td>Шедевр</td>\n      <td>драмы, комедии</td>\n    </tr>\n    <tr>\n      <th>8</th>\n      <td>3287</td>\n      <td>Единоборства для детей (3-6 лет) Школа героев ...</td>\n      <td>единоборства, фитнес, для детей</td>\n    </tr>\n    <tr>\n      <th>9</th>\n      <td>8478</td>\n      <td>Американский пирог: Все в сборе</td>\n      <td>комедии</td>\n    </tr>\n  </tbody>\n</table>\n</div>"
     },
     "metadata": {},
     "output_type": "display_data"
    },
    {
     "name": "stdout",
     "output_type": "stream",
     "text": [
      "\n",
      " ================================================== \n"
     ]
    }
   ],
   "source": [
    "user_ids = (666262, 672861, 955527)\n",
    "random_state = 42\n",
    "\n",
    "model = RandomModel(random_state=random_state)\n",
    "dataset = Dataset.construct(df_interactions)\n",
    "model.fit(dataset)\n",
    "\n",
    "visual_analysis(model, dataset, user_ids)"
   ],
   "metadata": {
    "collapsed": false,
    "ExecuteTime": {
     "end_time": "2023-11-28T14:53:55.073630Z",
     "start_time": "2023-11-28T14:53:54.165062Z"
    }
   },
   "id": "30f36deabd36d631"
  },
  {
   "cell_type": "code",
   "execution_count": 12,
   "outputs": [],
   "source": [],
   "metadata": {
    "collapsed": false,
    "ExecuteTime": {
     "end_time": "2023-11-28T14:53:55.079726Z",
     "start_time": "2023-11-28T14:53:55.074228Z"
    }
   },
   "id": "53963ac6f83601d2"
  }
 ],
 "metadata": {
  "kernelspec": {
   "display_name": "Python 3 (ipykernel)",
   "language": "python",
   "name": "python3"
  },
  "language_info": {
   "codemirror_mode": {
    "name": "ipython",
    "version": 3
   },
   "file_extension": ".py",
   "mimetype": "text/x-python",
   "name": "python",
   "nbconvert_exporter": "python",
   "pygments_lexer": "ipython3",
   "version": "3.10.6"
  }
 },
 "nbformat": 4,
 "nbformat_minor": 5
}
