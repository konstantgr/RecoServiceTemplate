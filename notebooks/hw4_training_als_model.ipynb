{
 "cells": [
  {
   "cell_type": "code",
   "execution_count": 1,
   "outputs": [],
   "source": [
    "import os\n",
    "\n",
    "os.environ[\"OPENBLAS_NUM_THREADS\"] = \"1\"  # For implicit ALS"
   ],
   "metadata": {
    "collapsed": false,
    "ExecuteTime": {
     "end_time": "2023-12-05T22:40:10.244444Z",
     "start_time": "2023-12-05T22:40:10.240939Z"
    }
   },
   "id": "5d3058d08d347715"
  },
  {
   "cell_type": "code",
   "execution_count": 2,
   "outputs": [],
   "source": [
    "import warnings\n",
    "\n",
    "warnings.filterwarnings(\"ignore\")"
   ],
   "metadata": {
    "collapsed": false,
    "ExecuteTime": {
     "end_time": "2023-12-05T22:40:10.776606Z",
     "start_time": "2023-12-05T22:40:10.771837Z"
    }
   },
   "id": "4607c7c10d5ad5c4"
  },
  {
   "cell_type": "code",
   "execution_count": 3,
   "outputs": [],
   "source": [
    "import pandas as pd\n",
    "import numpy as np\n",
    "import optuna\n",
    "\n",
    "\n",
    "from implicit.als import AlternatingLeastSquares\n",
    "\n",
    "from rectools.metrics import MAP, calc_metrics\n",
    "from rectools import Columns\n",
    "from rectools.dataset import Dataset\n",
    "from rectools.models import ImplicitALSWrapperModel\n",
    "\n",
    "from pathlib import Path\n"
   ],
   "metadata": {
    "collapsed": false,
    "ExecuteTime": {
     "end_time": "2023-12-05T22:40:12.105554Z",
     "start_time": "2023-12-05T22:40:10.958306Z"
    }
   },
   "id": "a3e1ac319d008f45"
  },
  {
   "cell_type": "markdown",
   "source": [
    "# Read and Preprocess Data"
   ],
   "metadata": {
    "collapsed": false
   },
   "id": "645fbfad7aa0f9ae"
  },
  {
   "cell_type": "code",
   "execution_count": 24,
   "outputs": [],
   "source": [
    "DATA_PATH = Path(\"../data\")\n",
    "Columns.Datetime = \"last_watch_dt\"\n",
    "\n",
    "users = pd.read_csv(DATA_PATH / \"users.csv\")\n",
    "items = pd.read_csv(DATA_PATH / \"items.csv\")\n",
    "interactions = pd.read_csv(DATA_PATH / \"interactions.csv\").iloc[:100_000]"
   ],
   "metadata": {
    "collapsed": false,
    "ExecuteTime": {
     "end_time": "2023-12-05T22:41:27.142394Z",
     "start_time": "2023-12-05T22:41:25.068096Z"
    }
   },
   "id": "75f4963fc39a6413"
  },
  {
   "cell_type": "code",
   "execution_count": 25,
   "outputs": [
    {
     "name": "stdout",
     "output_type": "stream",
     "text": [
      "train: (9120, 6)\n",
      "test: (880, 6)\n"
     ]
    }
   ],
   "source": [
    "interactions[Columns.Datetime] = pd.to_datetime(interactions[Columns.Datetime], format=\"%Y-%m-%d\")\n",
    "interactions[Columns.Weight] = np.where(interactions[\"watched_pct\"] > 10, 3, 1)\n",
    "max_date = interactions[Columns.Datetime].max()\n",
    "train = interactions[interactions[Columns.Datetime] < max_date - pd.Timedelta(days=7)].copy()\n",
    "test = interactions[interactions[Columns.Datetime] >= max_date - pd.Timedelta(days=7)].copy()\n",
    "\n",
    "print(f\"train: {train.shape}\")\n",
    "print(f\"test: {test.shape}\")"
   ],
   "metadata": {
    "collapsed": false,
    "ExecuteTime": {
     "end_time": "2023-12-05T22:41:27.159435Z",
     "start_time": "2023-12-05T22:41:27.152615Z"
    }
   },
   "id": "7720bb3d7a148af8"
  },
  {
   "cell_type": "code",
   "execution_count": 26,
   "outputs": [],
   "source": [
    "train.drop(train.query(\"total_dur < 300\").index, inplace=True)\n",
    "cold_users = set(test[Columns.User]) - set(train[Columns.User])\n",
    "test.drop(test[test[Columns.User].isin(cold_users)].index, inplace=True)"
   ],
   "metadata": {
    "collapsed": false,
    "ExecuteTime": {
     "end_time": "2023-12-05T22:41:27.163470Z",
     "start_time": "2023-12-05T22:41:27.156914Z"
    }
   },
   "id": "3321127c399691f5"
  },
  {
   "cell_type": "code",
   "execution_count": 27,
   "outputs": [],
   "source": [
    "dataset = Dataset.construct(interactions_df=train)"
   ],
   "metadata": {
    "collapsed": false,
    "ExecuteTime": {
     "end_time": "2023-12-05T22:41:27.187296Z",
     "start_time": "2023-12-05T22:41:27.164017Z"
    }
   },
   "id": "31ef6eb4097469c"
  },
  {
   "cell_type": "markdown",
   "source": [
    "# Fixed hyperparams"
   ],
   "metadata": {
    "collapsed": false
   },
   "id": "c35d8ad8b2e2d9d3"
  },
  {
   "cell_type": "code",
   "execution_count": 28,
   "outputs": [],
   "source": [
    "K_RECOS = 10\n",
    "RANDOM_STATE = 42\n",
    "NUM_THREADS = 8"
   ],
   "metadata": {
    "collapsed": false,
    "ExecuteTime": {
     "end_time": "2023-12-05T22:41:27.201537Z",
     "start_time": "2023-12-05T22:41:27.170308Z"
    }
   },
   "id": "838994e6604ca11"
  },
  {
   "cell_type": "code",
   "execution_count": 30,
   "outputs": [],
   "source": [
    "k = 10\n",
    "\n",
    "metrics_name = {\n",
    "    \"MAP\": MAP,\n",
    "}\n",
    "metrics = {f\"{metric_name}@{k}\": metric(k=k) for metric_name, metric in metrics_name.items()}"
   ],
   "metadata": {
    "collapsed": false,
    "ExecuteTime": {
     "end_time": "2023-12-05T22:41:27.595435Z",
     "start_time": "2023-12-05T22:41:27.584594Z"
    }
   },
   "id": "9a32accb638b08c5"
  },
  {
   "cell_type": "code",
   "execution_count": 31,
   "outputs": [
    {
     "data": {
      "text/plain": "{'MAP@10': MAP(k=10, divide_by_k=False)}"
     },
     "execution_count": 31,
     "metadata": {},
     "output_type": "execute_result"
    }
   ],
   "source": [
    "metrics"
   ],
   "metadata": {
    "collapsed": false,
    "ExecuteTime": {
     "end_time": "2023-12-05T22:41:27.906565Z",
     "start_time": "2023-12-05T22:41:27.898920Z"
    }
   },
   "id": "7f2343f9ca355132"
  },
  {
   "cell_type": "markdown",
   "source": [
    "# Hyperparameters tuning"
   ],
   "metadata": {
    "collapsed": false
   },
   "id": "22828ba23fb22c78"
  },
  {
   "cell_type": "code",
   "execution_count": 35,
   "outputs": [
    {
     "name": "stderr",
     "output_type": "stream",
     "text": [
      "[I 2023-12-05 23:42:27,180] A new study created in memory with name: no-name-6acb25a5-8c90-4829-814c-945d0e00a09b\n"
     ]
    }
   ],
   "source": [
    "def objective(trial, dataset, train, test):\n",
    "    n_factors = trial.suggest_categorical(\"n_factors\", (4, 20, 50, 100))\n",
    "    regularizations = trial.suggest_categorical(\"regularization\", (0.01, 0.05, 0.1))\n",
    "    iterations = trial.suggest_categorical(\"iterations\", (15, 5, 10))\n",
    "\n",
    "    model = ImplicitALSWrapperModel(\n",
    "        model=AlternatingLeastSquares(\n",
    "            factors=n_factors,\n",
    "            regularization=regularizations,\n",
    "            random_state=RANDOM_STATE,\n",
    "            iterations=iterations,\n",
    "        ),\n",
    "    )\n",
    "\n",
    "    model.fit(dataset)\n",
    "    recs = model.recommend(\n",
    "        users=test[Columns.User].unique(),\n",
    "        dataset=dataset,\n",
    "        k=K_RECOS,\n",
    "        filter_viewed=True,\n",
    "    )\n",
    "    metrics_vals = calc_metrics(metrics, recs, test, train)\n",
    "    return metrics_vals[\"MAP@10\"]\n",
    "\n",
    "\n",
    "study = optuna.create_study(direction=\"maximize\")"
   ],
   "metadata": {
    "collapsed": false,
    "ExecuteTime": {
     "end_time": "2023-12-05T22:42:27.202745Z",
     "start_time": "2023-12-05T22:42:27.184237Z"
    }
   },
   "id": "2f64b1fd759f9456"
  },
  {
   "cell_type": "code",
   "execution_count": 40,
   "outputs": [
    {
     "name": "stderr",
     "output_type": "stream",
     "text": [
      "[I 2023-12-05 23:43:15,928] Trial 0 finished with value: 0.021428571428571432 and parameters: {'n_factors': 4, 'regularization': 0.1, 'iterations': 15}. Best is trial 0 with value: 0.021428571428571432.\n",
      "[I 2023-12-05 23:43:16,883] Trial 1 finished with value: 0.0 and parameters: {'n_factors': 100, 'regularization': 0.1, 'iterations': 10}. Best is trial 0 with value: 0.021428571428571432.\n",
      "[I 2023-12-05 23:43:17,657] Trial 2 finished with value: 0.0 and parameters: {'n_factors': 100, 'regularization': 0.01, 'iterations': 10}. Best is trial 0 with value: 0.021428571428571432.\n",
      "[I 2023-12-05 23:43:18,049] Trial 3 finished with value: 0.0 and parameters: {'n_factors': 100, 'regularization': 0.01, 'iterations': 5}. Best is trial 0 with value: 0.021428571428571432.\n",
      "[I 2023-12-05 23:43:18,434] Trial 4 finished with value: 0.0 and parameters: {'n_factors': 100, 'regularization': 0.01, 'iterations': 5}. Best is trial 0 with value: 0.021428571428571432.\n",
      "[I 2023-12-05 23:43:18,950] Trial 5 finished with value: 0.0 and parameters: {'n_factors': 50, 'regularization': 0.01, 'iterations': 15}. Best is trial 0 with value: 0.021428571428571432.\n",
      "[I 2023-12-05 23:43:20,104] Trial 6 finished with value: 0.07142857142857142 and parameters: {'n_factors': 100, 'regularization': 0.05, 'iterations': 15}. Best is trial 6 with value: 0.07142857142857142.\n",
      "[I 2023-12-05 23:43:20,464] Trial 7 finished with value: 0.0 and parameters: {'n_factors': 50, 'regularization': 0.01, 'iterations': 10}. Best is trial 6 with value: 0.07142857142857142.\n",
      "[I 2023-12-05 23:43:20,518] Trial 8 finished with value: 0.007936507936507936 and parameters: {'n_factors': 20, 'regularization': 0.01, 'iterations': 5}. Best is trial 6 with value: 0.07142857142857142.\n",
      "[I 2023-12-05 23:43:20,555] Trial 9 finished with value: 0.0 and parameters: {'n_factors': 4, 'regularization': 0.05, 'iterations': 10}. Best is trial 6 with value: 0.07142857142857142.\n",
      "[I 2023-12-05 23:43:20,695] Trial 10 finished with value: 0.007936507936507936 and parameters: {'n_factors': 20, 'regularization': 0.05, 'iterations': 15}. Best is trial 6 with value: 0.07142857142857142.\n",
      "[I 2023-12-05 23:43:20,743] Trial 11 finished with value: 0.021428571428571432 and parameters: {'n_factors': 4, 'regularization': 0.1, 'iterations': 15}. Best is trial 6 with value: 0.07142857142857142.\n",
      "[I 2023-12-05 23:43:20,793] Trial 12 finished with value: 0.021428571428571432 and parameters: {'n_factors': 4, 'regularization': 0.1, 'iterations': 15}. Best is trial 6 with value: 0.07142857142857142.\n",
      "[I 2023-12-05 23:43:20,840] Trial 13 finished with value: 0.0 and parameters: {'n_factors': 4, 'regularization': 0.05, 'iterations': 15}. Best is trial 6 with value: 0.07142857142857142.\n",
      "[I 2023-12-05 23:43:22,003] Trial 14 finished with value: 0.0 and parameters: {'n_factors': 100, 'regularization': 0.1, 'iterations': 15}. Best is trial 6 with value: 0.07142857142857142.\n",
      "[I 2023-12-05 23:43:22,051] Trial 15 finished with value: 0.0 and parameters: {'n_factors': 4, 'regularization': 0.05, 'iterations': 15}. Best is trial 6 with value: 0.07142857142857142.\n",
      "[I 2023-12-05 23:43:22,189] Trial 16 finished with value: 0.007936507936507936 and parameters: {'n_factors': 20, 'regularization': 0.05, 'iterations': 15}. Best is trial 6 with value: 0.07142857142857142.\n",
      "[I 2023-12-05 23:43:22,716] Trial 17 finished with value: 0.0 and parameters: {'n_factors': 50, 'regularization': 0.1, 'iterations': 15}. Best is trial 6 with value: 0.07142857142857142.\n",
      "[I 2023-12-05 23:43:22,765] Trial 18 finished with value: 0.021428571428571432 and parameters: {'n_factors': 4, 'regularization': 0.1, 'iterations': 15}. Best is trial 6 with value: 0.07142857142857142.\n",
      "[I 2023-12-05 23:43:23,157] Trial 19 finished with value: 0.0 and parameters: {'n_factors': 100, 'regularization': 0.05, 'iterations': 5}. Best is trial 6 with value: 0.07142857142857142.\n",
      "[I 2023-12-05 23:43:23,206] Trial 20 finished with value: 0.021428571428571432 and parameters: {'n_factors': 4, 'regularization': 0.1, 'iterations': 15}. Best is trial 6 with value: 0.07142857142857142.\n",
      "[I 2023-12-05 23:43:23,255] Trial 21 finished with value: 0.021428571428571432 and parameters: {'n_factors': 4, 'regularization': 0.1, 'iterations': 15}. Best is trial 6 with value: 0.07142857142857142.\n",
      "[I 2023-12-05 23:43:23,302] Trial 22 finished with value: 0.021428571428571432 and parameters: {'n_factors': 4, 'regularization': 0.1, 'iterations': 15}. Best is trial 6 with value: 0.07142857142857142.\n",
      "[I 2023-12-05 23:43:23,350] Trial 23 finished with value: 0.021428571428571432 and parameters: {'n_factors': 4, 'regularization': 0.1, 'iterations': 15}. Best is trial 6 with value: 0.07142857142857142.\n",
      "[I 2023-12-05 23:43:23,399] Trial 24 finished with value: 0.021428571428571432 and parameters: {'n_factors': 4, 'regularization': 0.1, 'iterations': 15}. Best is trial 6 with value: 0.07142857142857142.\n",
      "[I 2023-12-05 23:43:24,559] Trial 25 finished with value: 0.07142857142857142 and parameters: {'n_factors': 100, 'regularization': 0.05, 'iterations': 15}. Best is trial 6 with value: 0.07142857142857142.\n",
      "[I 2023-12-05 23:43:25,710] Trial 26 finished with value: 0.07142857142857142 and parameters: {'n_factors': 100, 'regularization': 0.05, 'iterations': 15}. Best is trial 6 with value: 0.07142857142857142.\n",
      "[I 2023-12-05 23:43:26,880] Trial 27 finished with value: 0.07142857142857142 and parameters: {'n_factors': 100, 'regularization': 0.05, 'iterations': 15}. Best is trial 6 with value: 0.07142857142857142.\n",
      "[I 2023-12-05 23:43:27,269] Trial 28 finished with value: 0.0 and parameters: {'n_factors': 100, 'regularization': 0.05, 'iterations': 5}. Best is trial 6 with value: 0.07142857142857142.\n",
      "[I 2023-12-05 23:43:28,043] Trial 29 finished with value: 0.0 and parameters: {'n_factors': 100, 'regularization': 0.05, 'iterations': 10}. Best is trial 6 with value: 0.07142857142857142.\n",
      "[I 2023-12-05 23:43:29,206] Trial 30 finished with value: 0.07142857142857142 and parameters: {'n_factors': 100, 'regularization': 0.05, 'iterations': 15}. Best is trial 6 with value: 0.07142857142857142.\n",
      "[I 2023-12-05 23:43:30,372] Trial 31 finished with value: 0.07142857142857142 and parameters: {'n_factors': 100, 'regularization': 0.05, 'iterations': 15}. Best is trial 6 with value: 0.07142857142857142.\n",
      "[I 2023-12-05 23:43:31,525] Trial 32 finished with value: 0.07142857142857142 and parameters: {'n_factors': 100, 'regularization': 0.05, 'iterations': 15}. Best is trial 6 with value: 0.07142857142857142.\n",
      "[I 2023-12-05 23:43:32,687] Trial 33 finished with value: 0.07142857142857142 and parameters: {'n_factors': 100, 'regularization': 0.05, 'iterations': 15}. Best is trial 6 with value: 0.07142857142857142.\n",
      "[I 2023-12-05 23:43:33,456] Trial 34 finished with value: 0.0 and parameters: {'n_factors': 100, 'regularization': 0.05, 'iterations': 10}. Best is trial 6 with value: 0.07142857142857142.\n",
      "[I 2023-12-05 23:43:34,619] Trial 35 finished with value: 0.07142857142857142 and parameters: {'n_factors': 100, 'regularization': 0.05, 'iterations': 15}. Best is trial 6 with value: 0.07142857142857142.\n",
      "[I 2023-12-05 23:43:35,770] Trial 36 finished with value: 0.07142857142857142 and parameters: {'n_factors': 100, 'regularization': 0.05, 'iterations': 15}. Best is trial 6 with value: 0.07142857142857142.\n",
      "[I 2023-12-05 23:43:36,161] Trial 37 finished with value: 0.0 and parameters: {'n_factors': 100, 'regularization': 0.05, 'iterations': 5}. Best is trial 6 with value: 0.07142857142857142.\n",
      "[I 2023-12-05 23:43:36,934] Trial 38 finished with value: 0.0 and parameters: {'n_factors': 100, 'regularization': 0.05, 'iterations': 10}. Best is trial 6 with value: 0.07142857142857142.\n",
      "[I 2023-12-05 23:43:37,466] Trial 39 finished with value: 0.0 and parameters: {'n_factors': 50, 'regularization': 0.01, 'iterations': 15}. Best is trial 6 with value: 0.07142857142857142.\n",
      "[I 2023-12-05 23:43:37,862] Trial 40 finished with value: 0.0 and parameters: {'n_factors': 100, 'regularization': 0.05, 'iterations': 5}. Best is trial 6 with value: 0.07142857142857142.\n",
      "[I 2023-12-05 23:43:39,043] Trial 41 finished with value: 0.07142857142857142 and parameters: {'n_factors': 100, 'regularization': 0.05, 'iterations': 15}. Best is trial 6 with value: 0.07142857142857142.\n",
      "[I 2023-12-05 23:43:40,210] Trial 42 finished with value: 0.07142857142857142 and parameters: {'n_factors': 100, 'regularization': 0.05, 'iterations': 15}. Best is trial 6 with value: 0.07142857142857142.\n",
      "[I 2023-12-05 23:43:41,408] Trial 43 finished with value: 0.07142857142857142 and parameters: {'n_factors': 100, 'regularization': 0.05, 'iterations': 15}. Best is trial 6 with value: 0.07142857142857142.\n",
      "[I 2023-12-05 23:43:41,549] Trial 44 finished with value: 0.007936507936507936 and parameters: {'n_factors': 20, 'regularization': 0.05, 'iterations': 15}. Best is trial 6 with value: 0.07142857142857142.\n",
      "[I 2023-12-05 23:43:42,704] Trial 45 finished with value: 0.0 and parameters: {'n_factors': 100, 'regularization': 0.01, 'iterations': 15}. Best is trial 6 with value: 0.07142857142857142.\n",
      "[I 2023-12-05 23:43:43,868] Trial 46 finished with value: 0.07142857142857142 and parameters: {'n_factors': 100, 'regularization': 0.05, 'iterations': 15}. Best is trial 6 with value: 0.07142857142857142.\n",
      "[I 2023-12-05 23:43:44,211] Trial 47 finished with value: 0.0 and parameters: {'n_factors': 50, 'regularization': 0.05, 'iterations': 10}. Best is trial 6 with value: 0.07142857142857142.\n",
      "[I 2023-12-05 23:43:45,383] Trial 48 finished with value: 0.07142857142857142 and parameters: {'n_factors': 100, 'regularization': 0.05, 'iterations': 15}. Best is trial 6 with value: 0.07142857142857142.\n",
      "[I 2023-12-05 23:43:45,538] Trial 49 finished with value: 0.0071428571428571435 and parameters: {'n_factors': 20, 'regularization': 0.01, 'iterations': 15}. Best is trial 6 with value: 0.07142857142857142.\n"
     ]
    }
   ],
   "source": [
    "study.optimize(lambda trial: objective(trial, dataset, train, test), n_trials=50)"
   ],
   "metadata": {
    "collapsed": false,
    "ExecuteTime": {
     "end_time": "2023-12-05T22:43:45.544594Z",
     "start_time": "2023-12-05T22:43:15.856984Z"
    }
   },
   "id": "e17501d741b13483"
  },
  {
   "cell_type": "code",
   "execution_count": 44,
   "outputs": [
    {
     "name": "stdout",
     "output_type": "stream",
     "text": [
      "{'n_factors': 100, 'regularization': 0.05, 'iterations': 15} 0.07142857142857142\n"
     ]
    }
   ],
   "source": [
    "best_params = study.best_params\n",
    "best_value = study.best_value\n",
    "print(best_params, best_value)"
   ],
   "metadata": {
    "collapsed": false,
    "ExecuteTime": {
     "end_time": "2023-12-05T22:44:55.843721Z",
     "start_time": "2023-12-05T22:44:55.837456Z"
    }
   },
   "id": "2bd0ca5b3cf6e7a2"
  },
  {
   "cell_type": "code",
   "execution_count": null,
   "outputs": [],
   "source": [],
   "metadata": {
    "collapsed": false
   },
   "id": "44676b4da83b1604"
  }
 ],
 "metadata": {
  "kernelspec": {
   "display_name": "Python 3",
   "language": "python",
   "name": "python3"
  },
  "language_info": {
   "codemirror_mode": {
    "name": "ipython",
    "version": 2
   },
   "file_extension": ".py",
   "mimetype": "text/x-python",
   "name": "python",
   "nbconvert_exporter": "python",
   "pygments_lexer": "ipython2",
   "version": "2.7.6"
  }
 },
 "nbformat": 4,
 "nbformat_minor": 5
}
