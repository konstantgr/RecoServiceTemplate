{
 "cells": [
  {
   "cell_type": "code",
   "execution_count": 2,
   "id": "initial_id",
   "metadata": {
    "collapsed": true,
    "ExecuteTime": {
     "end_time": "2023-12-05T23:01:51.724288Z",
     "start_time": "2023-12-05T23:01:51.721890Z"
    }
   },
   "outputs": [],
   "source": [
    "import os\n",
    "\n",
    "os.environ[\"OPENBLAS_NUM_THREADS\"] = \"1\""
   ]
  },
  {
   "cell_type": "code",
   "execution_count": 3,
   "outputs": [],
   "source": [
    "import warnings\n",
    "\n",
    "warnings.filterwarnings(\"ignore\")"
   ],
   "metadata": {
    "collapsed": false,
    "ExecuteTime": {
     "end_time": "2023-12-05T23:01:51.927144Z",
     "start_time": "2023-12-05T23:01:51.925021Z"
    }
   },
   "id": "20dc5ca247892cb2"
  },
  {
   "cell_type": "code",
   "execution_count": 21,
   "outputs": [],
   "source": [
    "import pandas as pd\n",
    "import numpy as np\n",
    "import pickle\n",
    "\n",
    "from implicit.als import AlternatingLeastSquares\n",
    "\n",
    "from rectools.metrics import MAP, calc_metrics\n",
    "from rectools.models import PopularModel, RandomModel\n",
    "from rectools import Columns\n",
    "from rectools.dataset import Dataset\n",
    "from rectools.models import ImplicitALSWrapperModel, LightFMWrapperModel\n",
    "from rectools.model_selection import TimeRangeSplitter\n",
    "\n",
    "from pathlib import Path\n",
    "from tqdm import tqdm\n",
    "\n",
    "from lightfm import LightFM\n",
    "\n",
    "from implicit.bpr import BayesianPersonalizedRanking"
   ],
   "metadata": {
    "collapsed": false,
    "ExecuteTime": {
     "end_time": "2023-12-05T23:03:07.384981Z",
     "start_time": "2023-12-05T23:03:07.378866Z"
    }
   },
   "id": "79a8e7bfc84c968"
  },
  {
   "cell_type": "markdown",
   "source": [
    "# Read and Process Data"
   ],
   "metadata": {
    "collapsed": false
   },
   "id": "af0b75a0b0286af7"
  },
  {
   "cell_type": "code",
   "execution_count": 5,
   "outputs": [],
   "source": [
    "DATA_PATH = Path(\"../data\")\n",
    "Columns.Datetime = \"last_watch_dt\""
   ],
   "metadata": {
    "collapsed": false,
    "ExecuteTime": {
     "end_time": "2023-12-05T23:01:52.507087Z",
     "start_time": "2023-12-05T23:01:52.503472Z"
    }
   },
   "id": "c1e103e2dd2ade2f"
  },
  {
   "cell_type": "code",
   "execution_count": 6,
   "outputs": [],
   "source": [
    "users = pd.read_csv(DATA_PATH / \"users.csv\")\n",
    "items = pd.read_csv(DATA_PATH / \"items.csv\")\n",
    "interactions = pd.read_csv(DATA_PATH / \"interactions.csv\")"
   ],
   "metadata": {
    "collapsed": false,
    "ExecuteTime": {
     "end_time": "2023-12-05T23:01:54.991468Z",
     "start_time": "2023-12-05T23:01:52.774775Z"
    }
   },
   "id": "26a95b36baaac8e4"
  },
  {
   "cell_type": "code",
   "execution_count": 7,
   "outputs": [],
   "source": [
    "interactions[Columns.Datetime] = pd.to_datetime(interactions[Columns.Datetime], format=\"%Y-%m-%d\")\n",
    "interactions[Columns.Weight] = np.where(interactions[\"watched_pct\"] > 10, 3, 1)"
   ],
   "metadata": {
    "collapsed": false,
    "ExecuteTime": {
     "end_time": "2023-12-05T23:01:55.329350Z",
     "start_time": "2023-12-05T23:01:55.071764Z"
    }
   },
   "id": "7ee40f36cbb2a633"
  },
  {
   "cell_type": "code",
   "execution_count": 8,
   "outputs": [],
   "source": [
    "max_date = interactions[Columns.Datetime].max()"
   ],
   "metadata": {
    "collapsed": false,
    "ExecuteTime": {
     "end_time": "2023-12-05T23:01:55.338710Z",
     "start_time": "2023-12-05T23:01:55.330670Z"
    }
   },
   "id": "45d45719136c5c4b"
  },
  {
   "cell_type": "code",
   "execution_count": 9,
   "outputs": [
    {
     "name": "stdout",
     "output_type": "stream",
     "text": [
      "train: (4985269, 6)\n",
      "test: (490982, 6)\n"
     ]
    }
   ],
   "source": [
    "train = interactions[interactions[Columns.Datetime] < max_date - pd.Timedelta(days=7)].copy()\n",
    "test = interactions[interactions[Columns.Datetime] >= max_date - pd.Timedelta(days=7)].copy()\n",
    "\n",
    "print(f\"train: {train.shape}\")\n",
    "print(f\"test: {test.shape}\")"
   ],
   "metadata": {
    "collapsed": false,
    "ExecuteTime": {
     "end_time": "2023-12-05T23:01:55.688487Z",
     "start_time": "2023-12-05T23:01:55.341934Z"
    }
   },
   "id": "29b397208fc834e8"
  },
  {
   "cell_type": "code",
   "execution_count": 10,
   "outputs": [],
   "source": [
    "train.drop(train.query(\"total_dur < 300\").index, inplace=True)"
   ],
   "metadata": {
    "collapsed": false,
    "ExecuteTime": {
     "end_time": "2023-12-05T23:01:55.972360Z",
     "start_time": "2023-12-05T23:01:55.664806Z"
    }
   },
   "id": "52f041ac3dff8b68"
  },
  {
   "cell_type": "code",
   "execution_count": 11,
   "outputs": [],
   "source": [
    "cold_users = set(test[Columns.User]) - set(train[Columns.User])"
   ],
   "metadata": {
    "collapsed": false,
    "ExecuteTime": {
     "end_time": "2023-12-05T23:01:56.866738Z",
     "start_time": "2023-12-05T23:01:56.024851Z"
    }
   },
   "id": "346f3ca54c9df2b7"
  },
  {
   "cell_type": "code",
   "execution_count": 12,
   "outputs": [],
   "source": [
    "test.drop(test[test[Columns.User].isin(cold_users)].index, inplace=True)"
   ],
   "metadata": {
    "collapsed": false,
    "ExecuteTime": {
     "end_time": "2023-12-05T23:01:56.912741Z",
     "start_time": "2023-12-05T23:01:56.874632Z"
    }
   },
   "id": "41bc29e2f77382ce"
  },
  {
   "cell_type": "code",
   "execution_count": 13,
   "outputs": [],
   "source": [
    "dataset = Dataset.construct(interactions_df=train)"
   ],
   "metadata": {
    "collapsed": false,
    "ExecuteTime": {
     "end_time": "2023-12-05T23:01:57.097454Z",
     "start_time": "2023-12-05T23:01:56.913383Z"
    }
   },
   "id": "fd96b077cba5207e"
  },
  {
   "cell_type": "markdown",
   "source": [
    "# Fixed hyperparameters"
   ],
   "metadata": {
    "collapsed": false
   },
   "id": "950ada5de75319a"
  },
  {
   "cell_type": "code",
   "execution_count": 14,
   "outputs": [],
   "source": [
    "K_RECOS = 10\n",
    "RANDOM_STATE = 42\n",
    "NUM_THREADS = 8\n",
    "N_FACTORS = (4,)"
   ],
   "metadata": {
    "collapsed": false,
    "ExecuteTime": {
     "end_time": "2023-12-05T23:01:57.097642Z",
     "start_time": "2023-12-05T23:01:57.094322Z"
    }
   },
   "id": "a4b1712cba79c30a"
  },
  {
   "cell_type": "code",
   "execution_count": 15,
   "outputs": [],
   "source": [
    "k = 10\n",
    "\n",
    "metrics_name = {\n",
    "    \"MAP\": MAP,\n",
    "}\n",
    "\n",
    "metrics = {f\"{metric_name}@{k}\": metric(k=k) for metric_name, metric in metrics_name.items()}"
   ],
   "metadata": {
    "collapsed": false,
    "ExecuteTime": {
     "end_time": "2023-12-05T23:01:57.108200Z",
     "start_time": "2023-12-05T23:01:57.098651Z"
    }
   },
   "id": "1041c178ecd946b0"
  },
  {
   "cell_type": "markdown",
   "source": [
    "# Models"
   ],
   "metadata": {
    "collapsed": false
   },
   "id": "56d44a9fb8bdaeb3"
  },
  {
   "cell_type": "code",
   "execution_count": 16,
   "outputs": [],
   "source": [
    "models = {\n",
    "    \"random\": RandomModel(random_state=RANDOM_STATE),\n",
    "    \"popular\": PopularModel(),\n",
    "    \"most_raited\": PopularModel(popularity=\"sum_weight\"),\n",
    "}"
   ],
   "metadata": {
    "collapsed": false,
    "ExecuteTime": {
     "end_time": "2023-12-05T23:01:57.108355Z",
     "start_time": "2023-12-05T23:01:57.100922Z"
    }
   },
   "id": "36e9cb61e0df7859"
  },
  {
   "cell_type": "code",
   "execution_count": 17,
   "outputs": [],
   "source": [
    "implicit_models = {\n",
    "    \"ALS\": AlternatingLeastSquares,\n",
    "    \"BPR\": BayesianPersonalizedRanking,\n",
    "}\n",
    "for implicit_name, implicit_model in implicit_models.items():\n",
    "    for n_factors in N_FACTORS:\n",
    "        models[f\"{implicit_name}_{n_factors}\"] = ImplicitALSWrapperModel(\n",
    "            model=implicit_model(factors=n_factors, random_state=RANDOM_STATE, num_threads=NUM_THREADS)\n",
    "        )"
   ],
   "metadata": {
    "collapsed": false,
    "ExecuteTime": {
     "end_time": "2023-12-05T23:01:57.133867Z",
     "start_time": "2023-12-05T23:01:57.105277Z"
    }
   },
   "id": "78233daf2ea0a152"
  },
  {
   "cell_type": "code",
   "execution_count": 18,
   "outputs": [],
   "source": [
    "lightfm_losses = (\"logistic\", \"bpr\", \"warp\")\n",
    "\n",
    "for loss in lightfm_losses:\n",
    "    for n_factors in N_FACTORS:\n",
    "        models[f\"LightFM_{loss}_{n_factors}\"] = LightFMWrapperModel(\n",
    "            LightFM(\n",
    "                no_components=n_factors,\n",
    "                loss=loss,\n",
    "                random_state=RANDOM_STATE,\n",
    "            ),\n",
    "            epochs=10,\n",
    "            num_threads=NUM_THREADS,\n",
    "        )"
   ],
   "metadata": {
    "collapsed": false,
    "ExecuteTime": {
     "end_time": "2023-12-05T23:01:57.182690Z",
     "start_time": "2023-12-05T23:01:57.178848Z"
    }
   },
   "id": "a389fbed61456ec7"
  },
  {
   "cell_type": "markdown",
   "source": [
    "# Brute-force"
   ],
   "metadata": {
    "collapsed": false
   },
   "id": "3269031b85895c1"
  },
  {
   "cell_type": "code",
   "execution_count": null,
   "outputs": [],
   "source": [
    "results = []\n",
    "for model_name, model in tqdm(models.items()):\n",
    "    model_quality = {\"model\": model_name}\n",
    "\n",
    "    model.fit(dataset)\n",
    "    recs = model.recommend(\n",
    "        users=test[Columns.User].unique(),\n",
    "        dataset=dataset,\n",
    "        k=K_RECOS,\n",
    "        filter_viewed=True,\n",
    "    )\n",
    "\n",
    "    metric_values = calc_metrics(metrics, recs, test, train)\n",
    "\n",
    "    model_quality.update(metric_values)\n",
    "    results.append(model_quality)"
   ],
   "metadata": {
    "collapsed": false
   },
   "id": "68e83e43ab02bc85"
  },
  {
   "cell_type": "code",
   "execution_count": 38,
   "outputs": [
    {
     "data": {
      "text/plain": "model     random   popular most_raited     ALS_4     BPR_4 LightFM_logistic_4  \\\nMAP@10  0.000201  0.073836    0.074008  0.060967  0.037111           0.074663   \n\nmodel  LightFM_bpr_4 LightFM_warp_4  \nMAP@10      0.038852       0.077091  ",
      "text/html": "<div>\n<style scoped>\n    .dataframe tbody tr th:only-of-type {\n        vertical-align: middle;\n    }\n\n    .dataframe tbody tr th {\n        vertical-align: top;\n    }\n\n    .dataframe thead th {\n        text-align: right;\n    }\n</style>\n<table border=\"1\" class=\"dataframe\">\n  <thead>\n    <tr style=\"text-align: right;\">\n      <th>model</th>\n      <th>random</th>\n      <th>popular</th>\n      <th>most_raited</th>\n      <th>ALS_4</th>\n      <th>BPR_4</th>\n      <th>LightFM_logistic_4</th>\n      <th>LightFM_bpr_4</th>\n      <th>LightFM_warp_4</th>\n    </tr>\n  </thead>\n  <tbody>\n    <tr>\n      <th>MAP@10</th>\n      <td>0.000201</td>\n      <td>0.073836</td>\n      <td>0.074008</td>\n      <td>0.060967</td>\n      <td>0.037111</td>\n      <td>0.074663</td>\n      <td>0.038852</td>\n      <td>0.077091</td>\n    </tr>\n  </tbody>\n</table>\n</div>"
     },
     "execution_count": 38,
     "metadata": {},
     "output_type": "execute_result"
    }
   ],
   "source": [
    "df_quality = pd.DataFrame(results).T\n",
    "df_quality.columns = df_quality.iloc[0]\n",
    "df_quality.drop(\"model\", inplace=True)\n",
    "\n",
    "df_quality"
   ],
   "metadata": {
    "collapsed": false,
    "ExecuteTime": {
     "end_time": "2023-12-05T21:47:00.933841Z",
     "start_time": "2023-12-05T21:47:00.926980Z"
    }
   },
   "id": "9c9f7b3f22a36abd"
  },
  {
   "cell_type": "markdown",
   "source": [
    "# Download best models"
   ],
   "metadata": {
    "collapsed": false
   },
   "id": "d1fe0f1c1665cc0a"
  },
  {
   "cell_type": "code",
   "execution_count": 61,
   "outputs": [
    {
     "data": {
      "text/plain": "{'ALS_4': <rectools.models.implicit_als.ImplicitALSWrapperModel at 0x1076d3bb0>,\n 'LightFM_logistic_4': <rectools.models.lightfm.LightFMWrapperModel at 0x10f238d00>,\n 'LightFM_warp_4': <rectools.models.lightfm.LightFMWrapperModel at 0x10f2397e0>}"
     },
     "execution_count": 61,
     "metadata": {},
     "output_type": "execute_result"
    }
   ],
   "source": [
    "best_models_names = {\"LightFM_warp_4\", \"LightFM_logistic_4\", \"ALS_4\"}\n",
    "best_models = {k: v for k, v in models.items() if k in best_models_names}\n",
    "best_models"
   ],
   "metadata": {
    "collapsed": false,
    "ExecuteTime": {
     "end_time": "2023-12-05T23:28:18.234441Z",
     "start_time": "2023-12-05T23:28:18.223854Z"
    }
   },
   "id": "fd8a06875b4898b1"
  },
  {
   "cell_type": "code",
   "execution_count": 62,
   "outputs": [
    {
     "name": "stderr",
     "output_type": "stream",
     "text": [
      "  0%|          | 0/3 [00:00<?, ?it/s]"
     ]
    },
    {
     "data": {
      "text/plain": "  0%|          | 0/1 [00:00<?, ?it/s]",
      "application/vnd.jupyter.widget-view+json": {
       "version_major": 2,
       "version_minor": 0,
       "model_id": "550a0945c8244548a09207b0f835c8c2"
      }
     },
     "metadata": {},
     "output_type": "display_data"
    },
    {
     "data": {
      "text/plain": "  0%|          | 0/1 [00:00<?, ?it/s]",
      "application/vnd.jupyter.widget-view+json": {
       "version_major": 2,
       "version_minor": 0,
       "model_id": "54ebe54cf6c840c4ac67936107c0b991"
      }
     },
     "metadata": {},
     "output_type": "display_data"
    },
    {
     "name": "stderr",
     "output_type": "stream",
     "text": [
      "100%|██████████| 3/3 [02:09<00:00, 43.18s/it]\n"
     ]
    }
   ],
   "source": [
    "for model_name, model in tqdm(best_models.items()):\n",
    "    model_quality = {\"model\": model_name}\n",
    "    model.fit(dataset)\n",
    "    pickle.dump(model, open(f\"../model_weights/{model_name}.pkl\", \"wb\"))"
   ],
   "metadata": {
    "collapsed": false,
    "ExecuteTime": {
     "end_time": "2023-12-05T23:30:29.489963Z",
     "start_time": "2023-12-05T23:28:19.932548Z"
    }
   },
   "id": "440b9390a0ba13b6"
  },
  {
   "cell_type": "markdown",
   "source": [
    "# Inference example"
   ],
   "metadata": {
    "collapsed": false
   },
   "id": "9efb7af92e20a225"
  },
  {
   "cell_type": "code",
   "execution_count": null,
   "outputs": [],
   "source": [
    "from models.online_models import DatasetEmpoweredRecommendationModel\n",
    "\n",
    "model_tmp = DatasetEmpoweredRecommendationModel(\n",
    "    model_path=\"../model_weights/LightFM_logistic_4.pkl\", dataset_base_path=\"../data/\"\n",
    ")\n",
    "model_tmp.get_reco(user_id=0, k_recs=5)"
   ],
   "metadata": {
    "collapsed": false
   },
   "id": "a4040288cc282fb3"
  },
  {
   "cell_type": "markdown",
   "source": [
    "# Dataset with features\n"
   ],
   "metadata": {
    "collapsed": false
   },
   "id": "6148a847f41b5221"
  },
  {
   "cell_type": "code",
   "execution_count": 57,
   "outputs": [],
   "source": [
    "users = users.loc[users[Columns.User].isin(interactions.df[Columns.User])].copy()\n",
    "user_features_frames = []\n",
    "for feature in [\"sex\", \"age\", \"income\"]:\n",
    "    feature_frame = users.reindex(columns=[Columns.User, feature])\n",
    "    feature_frame.columns = [\"id\", \"value\"]\n",
    "    feature_frame[\"feature\"] = feature\n",
    "    user_features_frames.append(feature_frame)\n",
    "user_features = pd.concat(user_features_frames)"
   ],
   "metadata": {
    "collapsed": false,
    "ExecuteTime": {
     "end_time": "2023-12-05T23:27:36.854212Z",
     "start_time": "2023-12-05T23:27:36.574679Z"
    }
   },
   "id": "35b59d6e0d998651"
  },
  {
   "cell_type": "code",
   "execution_count": 58,
   "outputs": [],
   "source": [
    "items = items.loc[items[Columns.Item].isin(interactions.df[Columns.Item])].copy()\n",
    "items[\"genre\"] = items[\"genres\"].str.lower().str.replace(\", \", \",\", regex=False).str.split(\",\")\n",
    "genre_feature = items[[\"item_id\", \"genre\"]].explode(\"genre\")\n",
    "genre_feature.columns = [\"id\", \"value\"]\n",
    "genre_feature[\"feature\"] = \"genre\"\n",
    "\n",
    "content_feature = items.reindex(columns=[Columns.Item, \"content_type\"])\n",
    "content_feature.columns = [\"id\", \"value\"]\n",
    "content_feature[\"feature\"] = \"content_type\"\n",
    "item_features = pd.concat((genre_feature, content_feature))"
   ],
   "metadata": {
    "collapsed": false,
    "ExecuteTime": {
     "end_time": "2023-12-05T23:27:38.305004Z",
     "start_time": "2023-12-05T23:27:38.184763Z"
    }
   },
   "id": "f7f371956da09ad5"
  },
  {
   "cell_type": "code",
   "execution_count": 59,
   "outputs": [],
   "source": [
    "dataset = Dataset.construct(\n",
    "    interactions_df=interactions.df,\n",
    "    user_features_df=user_features,\n",
    "    cat_user_features=[\"sex\", \"age\", \"income\"],\n",
    "    item_features_df=item_features,\n",
    "    cat_item_features=[\"genre\", \"content_type\"],\n",
    ")"
   ],
   "metadata": {
    "collapsed": false,
    "ExecuteTime": {
     "end_time": "2023-12-05T23:27:40.866858Z",
     "start_time": "2023-12-05T23:27:39.716682Z"
    }
   },
   "id": "1e8e51261a14c10a"
  },
  {
   "cell_type": "markdown",
   "source": [
    "# ANN with one of the best models"
   ],
   "metadata": {
    "collapsed": false
   },
   "id": "413469a2cc9dd742"
  },
  {
   "cell_type": "code",
   "execution_count": 72,
   "outputs": [],
   "source": [
    "model = best_models[\"LightFM_logistic_4\"]"
   ],
   "metadata": {
    "collapsed": false,
    "ExecuteTime": {
     "end_time": "2023-12-05T23:32:10.121430Z",
     "start_time": "2023-12-05T23:32:10.113280Z"
    }
   },
   "id": "88ce3a29e4acfcbc"
  },
  {
   "cell_type": "code",
   "execution_count": 73,
   "outputs": [
    {
     "data": {
      "text/plain": "<rectools.tools.ann.UserToItemAnnRecommender at 0x11186e260>"
     },
     "execution_count": 73,
     "metadata": {},
     "output_type": "execute_result"
    }
   ],
   "source": [
    "from rectools.tools import UserToItemAnnRecommender\n",
    "\n",
    "user_vectors, item_vectors = model.get_vectors(dataset)\n",
    "model_ann = UserToItemAnnRecommender(\n",
    "    user_vectors=user_vectors,\n",
    "    item_vectors=item_vectors,\n",
    "    user_id_map=dataset.user_id_map,\n",
    "    item_id_map=dataset.item_id_map,\n",
    ")\n",
    "model_ann.fit()"
   ],
   "metadata": {
    "collapsed": false,
    "ExecuteTime": {
     "end_time": "2023-12-05T23:32:15.268311Z",
     "start_time": "2023-12-05T23:32:15.020639Z"
    }
   },
   "id": "aea20745cc1da67"
  },
  {
   "cell_type": "code",
   "execution_count": 74,
   "outputs": [
    {
     "data": {
      "text/plain": "[7724, 3112, 4407, 7534, 9899, 9708, 1619, 9165, 12152, 428]"
     },
     "execution_count": 74,
     "metadata": {},
     "output_type": "execute_result"
    }
   ],
   "source": [
    "model_ann.get_item_list_for_user(0, top_n=10).tolist()"
   ],
   "metadata": {
    "collapsed": false,
    "ExecuteTime": {
     "end_time": "2023-12-05T23:32:39.168532Z",
     "start_time": "2023-12-05T23:32:39.120239Z"
    }
   },
   "id": "ee604652257a13a5"
  },
  {
   "cell_type": "code",
   "execution_count": 75,
   "outputs": [],
   "source": [
    "pickle.dump(model_ann, open(\"../model_weights/LightFM_logistic_4_ANN.pkl\", \"wb\"))"
   ],
   "metadata": {
    "collapsed": false,
    "ExecuteTime": {
     "end_time": "2023-12-05T23:33:52.731032Z",
     "start_time": "2023-12-05T23:33:52.548725Z"
    }
   },
   "id": "bf31db2ed6eff37e"
  },
  {
   "cell_type": "code",
   "execution_count": null,
   "outputs": [],
   "source": [],
   "metadata": {
    "collapsed": false
   },
   "id": "24fcd1e175c1c0b1"
  }
 ],
 "metadata": {
  "kernelspec": {
   "display_name": "Python 3",
   "language": "python",
   "name": "python3"
  },
  "language_info": {
   "codemirror_mode": {
    "name": "ipython",
    "version": 2
   },
   "file_extension": ".py",
   "mimetype": "text/x-python",
   "name": "python",
   "nbconvert_exporter": "python",
   "pygments_lexer": "ipython2",
   "version": "2.7.6"
  }
 },
 "nbformat": 4,
 "nbformat_minor": 5
}
