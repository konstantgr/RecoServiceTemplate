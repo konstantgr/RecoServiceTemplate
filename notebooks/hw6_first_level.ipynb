{
 "cells": [
  {
   "cell_type": "code",
   "execution_count": 1,
   "id": "initial_id",
   "metadata": {
    "collapsed": true,
    "ExecuteTime": {
     "end_time": "2023-12-19T20:39:50.508806Z",
     "start_time": "2023-12-19T20:39:50.507147Z"
    }
   },
   "outputs": [],
   "source": [
    "import warnings\n",
    "\n",
    "warnings.filterwarnings(\"ignore\")"
   ]
  },
  {
   "cell_type": "code",
   "execution_count": 3,
   "outputs": [],
   "source": [
    "import typing as tp\n",
    "\n",
    "import numpy as np\n",
    "import pandas as pd\n",
    "from lightfm import LightFM\n",
    "from rectools import Columns\n",
    "from rectools.dataset import Dataset\n",
    "from rectools.models import LightFMWrapperModel"
   ],
   "metadata": {
    "collapsed": false,
    "ExecuteTime": {
     "end_time": "2023-12-19T20:39:57.802662Z",
     "start_time": "2023-12-19T20:39:56.758539Z"
    }
   },
   "id": "4638386f8906309b"
  },
  {
   "cell_type": "markdown",
   "source": [
    "# As first level train the model from HW4\n"
   ],
   "metadata": {
    "collapsed": false
   },
   "id": "53858cc46542a686"
  },
  {
   "cell_type": "code",
   "execution_count": 4,
   "outputs": [],
   "source": [
    "users = pd.read_csv(\"../data/users.csv\")\n",
    "items = pd.read_csv(\"../data/items.csv\")\n",
    "interactions = pd.read_csv(\"../data/interactions.csv\")"
   ],
   "metadata": {
    "collapsed": false,
    "ExecuteTime": {
     "end_time": "2023-12-19T20:40:46.950357Z",
     "start_time": "2023-12-19T20:40:44.901785Z"
    }
   },
   "id": "40fbf95c8de5a795"
  },
  {
   "cell_type": "code",
   "execution_count": 5,
   "outputs": [],
   "source": [
    "Columns.Datetime = \"last_watch_dt\"\n",
    "interactions.drop(interactions[interactions[Columns.Datetime].str.len() != 10].index, inplace=True)\n",
    "interactions[Columns.Datetime] = pd.to_datetime(interactions[Columns.Datetime], format=\"%Y-%m-%d\")\n",
    "max_date = interactions[Columns.Datetime].max()\n",
    "interactions[Columns.Weight] = np.where(interactions[\"watched_pct\"] > 10, 3, 1)"
   ],
   "metadata": {
    "collapsed": false,
    "ExecuteTime": {
     "end_time": "2023-12-19T20:40:48.310863Z",
     "start_time": "2023-12-19T20:40:47.061729Z"
    }
   },
   "id": "a205a82e78ff63a7"
  },
  {
   "cell_type": "code",
   "execution_count": 6,
   "outputs": [
    {
     "name": "stdout",
     "output_type": "stream",
     "text": [
      "train: (3832711, 6)\n",
      "test: (333026, 6)\n"
     ]
    }
   ],
   "source": [
    "train = interactions[interactions[Columns.Datetime] < max_date - pd.Timedelta(days=7)].copy()\n",
    "test = interactions[interactions[Columns.Datetime] >= max_date - pd.Timedelta(days=7)].copy()\n",
    "\n",
    "train.drop(train.query(\"total_dur < 300\").index, inplace=True)\n",
    "\n",
    "cold_users = set(test[Columns.User]) - set(train[Columns.User])\n",
    "test.drop(test[test[Columns.User].isin(cold_users)].index, inplace=True)\n",
    "\n",
    "TEST_USERS = test[Columns.User].unique()\n",
    "\n",
    "print(f\"train: {train.shape}\")\n",
    "print(f\"test: {test.shape}\")"
   ],
   "metadata": {
    "collapsed": false,
    "ExecuteTime": {
     "end_time": "2023-12-19T20:41:01.475726Z",
     "start_time": "2023-12-19T20:40:59.922237Z"
    }
   },
   "id": "8d3d5fd606947ef4"
  },
  {
   "cell_type": "code",
   "execution_count": 9,
   "outputs": [],
   "source": [
    "def get_user_features(users: pd.DataFrame, interactions: pd.DataFrame, features: tp.List[str]):\n",
    "    users = users.loc[users[Columns.User].isin(interactions[Columns.User])].copy()\n",
    "    user_features_frames = []\n",
    "    for feature in features:\n",
    "        feature_frame = users.reindex(columns=[Columns.User, feature])\n",
    "        feature_frame.columns = [\"id\", \"value\"]\n",
    "        feature_frame[\"feature\"] = feature\n",
    "        user_features_frames.append(feature_frame)\n",
    "    user_features = pd.concat(user_features_frames)\n",
    "    return user_features\n",
    "\n",
    "\n",
    "def get_item_features(items: pd.DataFrame, interactions: pd.DataFrame):\n",
    "    items = items.loc[items[Columns.Item].isin(interactions[Columns.Item])].copy()\n",
    "    items[\"genre\"] = items[\"genres\"].str.lower().str.replace(\", \", \",\", regex=False).str.split(\",\")\n",
    "    genre_feature = items[[\"item_id\", \"genre\"]].explode(\"genre\")\n",
    "    genre_feature.columns = [\"id\", \"value\"]\n",
    "    genre_feature[\"feature\"] = \"genre\"\n",
    "    content_feature = items.reindex(columns=[Columns.Item, \"content_type\"])\n",
    "    content_feature.columns = [\"id\", \"value\"]\n",
    "    content_feature[\"feature\"] = \"content_type\"\n",
    "    item_features = pd.concat((genre_feature, content_feature))\n",
    "    return item_features"
   ],
   "metadata": {
    "collapsed": false,
    "ExecuteTime": {
     "end_time": "2023-12-19T20:43:23.204148Z",
     "start_time": "2023-12-19T20:43:23.201250Z"
    }
   },
   "id": "e83b0f7e901f3b15"
  },
  {
   "cell_type": "code",
   "execution_count": 10,
   "outputs": [],
   "source": [
    "user_features = get_user_features(users, train, [\"sex\", \"age\", \"income\"])\n",
    "item_features = get_item_features(items, train)"
   ],
   "metadata": {
    "collapsed": false,
    "ExecuteTime": {
     "end_time": "2023-12-19T20:43:33.659512Z",
     "start_time": "2023-12-19T20:43:33.425188Z"
    }
   },
   "id": "5a083bc2e39e0b3a"
  },
  {
   "cell_type": "code",
   "execution_count": 11,
   "outputs": [],
   "source": [
    "dataset = Dataset.construct(\n",
    "    interactions_df=train,\n",
    "    user_features_df=user_features,\n",
    "    cat_user_features=[\"sex\", \"age\", \"income\"],\n",
    "    item_features_df=item_features,\n",
    "    cat_item_features=[\"genre\", \"content_type\"],\n",
    ")"
   ],
   "metadata": {
    "collapsed": false,
    "ExecuteTime": {
     "end_time": "2023-12-19T20:43:36.212191Z",
     "start_time": "2023-12-19T20:43:35.579737Z"
    }
   },
   "id": "91b79f74221353a0"
  },
  {
   "cell_type": "code",
   "execution_count": 12,
   "outputs": [
    {
     "name": "stdout",
     "output_type": "stream",
     "text": [
      "min дата в interactions: 2021-03-13 00:00:00\n",
      "max дата в interactions: 2021-08-22 00:00:00\n",
      "Продолжительность: 162 days 00:00:00\n"
     ]
    }
   ],
   "source": [
    "max_date = interactions[Columns.Datetime].max()\n",
    "min_date = interactions[Columns.Datetime].min()\n",
    "\n",
    "print(f\"min дата в interactions: {min_date}\")\n",
    "print(f\"max дата в interactions: {max_date}\")\n",
    "print(f\"Продолжительность: {max_date - min_date}\")\n",
    "\n",
    "ranker_days_count = 30\n",
    "\n",
    "interactions = interactions[(interactions[Columns.Datetime] < max_date - pd.Timedelta(days=ranker_days_count))]"
   ],
   "metadata": {
    "collapsed": false,
    "ExecuteTime": {
     "end_time": "2023-12-19T20:43:44.743487Z",
     "start_time": "2023-12-19T20:43:44.517061Z"
    }
   },
   "id": "1e358e75f77d0b17"
  },
  {
   "cell_type": "code",
   "execution_count": 13,
   "outputs": [],
   "source": [
    "user_features = get_user_features(users, interactions, [\"sex\", \"age\", \"income\"])\n",
    "item_features = get_item_features(items, interactions)"
   ],
   "metadata": {
    "collapsed": false,
    "ExecuteTime": {
     "end_time": "2023-12-19T20:43:50.600981Z",
     "start_time": "2023-12-19T20:43:50.347906Z"
    }
   },
   "id": "6136d6f56ce366aa"
  },
  {
   "cell_type": "code",
   "execution_count": 14,
   "outputs": [],
   "source": [
    "dataset = Dataset.construct(\n",
    "    interactions_df=interactions,\n",
    "    user_features_df=user_features,\n",
    "    cat_user_features=[\"sex\", \"age\", \"income\"],\n",
    "    item_features_df=item_features,\n",
    "    cat_item_features=[\"genre\", \"content_type\"],\n",
    ")"
   ],
   "metadata": {
    "collapsed": false,
    "ExecuteTime": {
     "end_time": "2023-12-19T20:43:55.798397Z",
     "start_time": "2023-12-19T20:43:55.160394Z"
    }
   },
   "id": "a92213d65e06c968"
  },
  {
   "cell_type": "markdown",
   "source": [
    "# Train the LightFM Model"
   ],
   "metadata": {
    "collapsed": false
   },
   "id": "a589ea7e9ed2e52d"
  },
  {
   "cell_type": "code",
   "execution_count": 15,
   "outputs": [
    {
     "data": {
      "text/plain": "<rectools.models.lightfm.LightFMWrapperModel at 0x2d76488b0>"
     },
     "execution_count": 15,
     "metadata": {},
     "output_type": "execute_result"
    }
   ],
   "source": [
    "model = LightFMWrapperModel(\n",
    "    LightFM(\n",
    "        no_components=8,\n",
    "        loss=\"warp\",\n",
    "        random_state=42,\n",
    "        learning_rate=0.05,\n",
    "        user_alpha=0.3,\n",
    "        item_alpha=0.2,\n",
    "    ),\n",
    "    epochs=1,\n",
    "    num_threads=2,\n",
    ")\n",
    "model.fit(dataset)"
   ],
   "metadata": {
    "collapsed": false,
    "ExecuteTime": {
     "end_time": "2023-12-19T20:44:10.228624Z",
     "start_time": "2023-12-19T20:44:03.471586Z"
    }
   },
   "id": "25812f78162c8e4b"
  },
  {
   "cell_type": "markdown",
   "source": [
    "# Prediction of candidates"
   ],
   "metadata": {
    "collapsed": false
   },
   "id": "38daeb217859bcee"
  },
  {
   "cell_type": "code",
   "execution_count": 17,
   "outputs": [
    {
     "data": {
      "text/plain": "   user_id  item_id  lfm_score  lfm_rank\n0   176549    12365   0.001082         1\n1   176549     2150   0.001069         2\n2   176549    13865   0.000992         3\n3   176549    12138   0.000988         4\n4   176549    10440   0.000962         5",
      "text/html": "<div>\n<style scoped>\n    .dataframe tbody tr th:only-of-type {\n        vertical-align: middle;\n    }\n\n    .dataframe tbody tr th {\n        vertical-align: top;\n    }\n\n    .dataframe thead th {\n        text-align: right;\n    }\n</style>\n<table border=\"1\" class=\"dataframe\">\n  <thead>\n    <tr style=\"text-align: right;\">\n      <th></th>\n      <th>user_id</th>\n      <th>item_id</th>\n      <th>lfm_score</th>\n      <th>lfm_rank</th>\n    </tr>\n  </thead>\n  <tbody>\n    <tr>\n      <th>0</th>\n      <td>176549</td>\n      <td>12365</td>\n      <td>0.001082</td>\n      <td>1</td>\n    </tr>\n    <tr>\n      <th>1</th>\n      <td>176549</td>\n      <td>2150</td>\n      <td>0.001069</td>\n      <td>2</td>\n    </tr>\n    <tr>\n      <th>2</th>\n      <td>176549</td>\n      <td>13865</td>\n      <td>0.000992</td>\n      <td>3</td>\n    </tr>\n    <tr>\n      <th>3</th>\n      <td>176549</td>\n      <td>12138</td>\n      <td>0.000988</td>\n      <td>4</td>\n    </tr>\n    <tr>\n      <th>4</th>\n      <td>176549</td>\n      <td>10440</td>\n      <td>0.000962</td>\n      <td>5</td>\n    </tr>\n  </tbody>\n</table>\n</div>"
     },
     "execution_count": 17,
     "metadata": {},
     "output_type": "execute_result"
    }
   ],
   "source": [
    "top_N = 100\n",
    "candidates = model.recommend(dataset.user_id_map.external_ids, dataset, top_N, True)\n",
    "candidates = candidates.rename({\"rank\": \"lfm_rank\", \"score\": \"lfm_score\"}, axis=1)\n",
    "candidates.head()"
   ],
   "metadata": {
    "collapsed": false,
    "ExecuteTime": {
     "end_time": "2023-12-19T20:45:57.598808Z",
     "start_time": "2023-12-19T20:45:56.433037Z"
    }
   },
   "id": "90e79ddf3e04391f"
  },
  {
   "cell_type": "code",
   "execution_count": 19,
   "outputs": [],
   "source": [
    "candidates.to_csv(\"../data/candidates_lfm.csv\", index=False)"
   ],
   "metadata": {
    "collapsed": false,
    "ExecuteTime": {
     "end_time": "2023-12-19T20:48:14.666204Z",
     "start_time": "2023-12-19T20:47:35.540610Z"
    }
   },
   "id": "7f71ca68a9514fa7"
  },
  {
   "cell_type": "code",
   "execution_count": null,
   "outputs": [],
   "source": [],
   "metadata": {
    "collapsed": false
   },
   "id": "1e13d415617096c7"
  }
 ],
 "metadata": {
  "kernelspec": {
   "display_name": "Python 3",
   "language": "python",
   "name": "python3"
  },
  "language_info": {
   "codemirror_mode": {
    "name": "ipython",
    "version": 2
   },
   "file_extension": ".py",
   "mimetype": "text/x-python",
   "name": "python",
   "nbconvert_exporter": "python",
   "pygments_lexer": "ipython2",
   "version": "2.7.6"
  }
 },
 "nbformat": 4,
 "nbformat_minor": 5
}
