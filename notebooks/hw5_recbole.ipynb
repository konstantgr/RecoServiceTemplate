{
 "cells": [
  {
   "cell_type": "code",
   "execution_count": null,
   "id": "6de2c8bc",
   "metadata": {
    "execution": {
     "iopub.execute_input": "2022-11-27T16:33:28.041759Z",
     "iopub.status.busy": "2022-11-27T16:33:28.041244Z",
     "iopub.status.idle": "2022-11-27T16:33:29.274165Z",
     "shell.execute_reply": "2022-11-27T16:33:29.272623Z"
    },
    "papermill": {
     "duration": 1.244043,
     "end_time": "2022-11-27T16:33:29.277270",
     "exception": false,
     "start_time": "2022-11-27T16:33:28.033227",
     "status": "completed"
    },
    "tags": []
   },
   "outputs": [],
   "source": [
    "import json\n",
    "import logging\n",
    "import time\n",
    "import warnings\n",
    "from logging import getLogger\n",
    "\n",
    "import numpy as np\n",
    "import pandas as pd\n",
    "import torch\n",
    "from recbole.config import Config\n",
    "from recbole.data import create_dataset, data_preparation\n",
    "from recbole.quick_start import run_recbole\n",
    "from recbole.utils import init_seed, init_logger\n",
    "from tqdm import tqdm\n",
    "\n",
    "warnings.filterwarnings(\"ignore\")\n",
    "from recbole.model.general_recommender.multivae import MultiVAE"
   ]
  },
  {
   "cell_type": "markdown",
   "source": [
    "# Read and process data"
   ],
   "metadata": {
    "collapsed": false
   },
   "id": "4d1e5ec8cedfdfde"
  },
  {
   "cell_type": "code",
   "execution_count": null,
   "id": "9052ce21",
   "metadata": {
    "execution": {
     "iopub.execute_input": "2022-11-27T16:33:29.309390Z",
     "iopub.status.busy": "2022-11-27T16:33:29.308918Z",
     "iopub.status.idle": "2022-11-27T16:33:35.744619Z",
     "shell.execute_reply": "2022-11-27T16:33:35.743511Z"
    },
    "papermill": {
     "duration": 6.445298,
     "end_time": "2022-11-27T16:33:35.747539",
     "exception": false,
     "start_time": "2022-11-27T16:33:29.302241",
     "status": "completed"
    },
    "tags": []
   },
   "outputs": [],
   "source": [
    "interactions_df = pd.read_csv(\"../data/interactions_processed.csv\")\n",
    "users_df = pd.read_csv(\"../data/users_processed.csv\")\n",
    "items_df = pd.read_csv(\"../data/items_processed.csv\")"
   ]
  },
  {
   "cell_type": "code",
   "execution_count": null,
   "id": "0b371b15",
   "metadata": {
    "execution": {
     "iopub.execute_input": "2022-11-27T16:33:35.759448Z",
     "iopub.status.busy": "2022-11-27T16:33:35.758615Z",
     "iopub.status.idle": "2022-11-27T16:33:36.674749Z",
     "shell.execute_reply": "2022-11-27T16:33:36.673314Z"
    },
    "papermill": {
     "duration": 0.925082,
     "end_time": "2022-11-27T16:33:36.677439",
     "exception": false,
     "start_time": "2022-11-27T16:33:35.752357",
     "status": "completed"
    },
    "tags": []
   },
   "outputs": [],
   "source": [
    "interactions_df[\"t_dat\"] = pd.to_datetime(interactions_df[\"last_watch_dt\"], format=\"%Y-%m-%d\")\n",
    "interactions_df[\"timestamp\"] = interactions_df.t_dat.values.astype(np.int64) // 10**9"
   ]
  },
  {
   "cell_type": "code",
   "execution_count": null,
   "id": "7f075c88",
   "metadata": {
    "execution": {
     "iopub.execute_input": "2022-11-27T16:33:36.688908Z",
     "iopub.status.busy": "2022-11-27T16:33:36.688507Z",
     "iopub.status.idle": "2022-11-27T16:33:36.963693Z",
     "shell.execute_reply": "2022-11-27T16:33:36.962323Z"
    },
    "papermill": {
     "duration": 0.284147,
     "end_time": "2022-11-27T16:33:36.966533",
     "exception": false,
     "start_time": "2022-11-27T16:33:36.682386",
     "status": "completed"
    },
    "tags": []
   },
   "outputs": [],
   "source": [
    "df = interactions_df[[\"user_id\", \"item_id\", \"timestamp\"]].rename(\n",
    "    columns={\"user_id\": \"user_id:token\", \"item_id\": \"item_id:token\", \"timestamp\": \"timestamp:float\"}\n",
    ")"
   ]
  },
  {
   "cell_type": "code",
   "execution_count": null,
   "id": "aab347ea",
   "metadata": {
    "execution": {
     "iopub.execute_input": "2022-11-27T16:33:36.978797Z",
     "iopub.status.busy": "2022-11-27T16:33:36.977868Z",
     "iopub.status.idle": "2022-11-27T16:33:38.064289Z",
     "shell.execute_reply": "2022-11-27T16:33:38.062510Z"
    },
    "papermill": {
     "duration": 1.09547,
     "end_time": "2022-11-27T16:33:38.067180",
     "exception": false,
     "start_time": "2022-11-27T16:33:36.971710",
     "status": "completed"
    },
    "tags": []
   },
   "outputs": [],
   "source": [
    "!mkdir recbox_data"
   ]
  },
  {
   "cell_type": "code",
   "execution_count": null,
   "id": "dff1fa1b",
   "metadata": {
    "execution": {
     "iopub.execute_input": "2022-11-27T16:33:38.079447Z",
     "iopub.status.busy": "2022-11-27T16:33:38.078986Z",
     "iopub.status.idle": "2022-11-27T16:33:45.904144Z",
     "shell.execute_reply": "2022-11-27T16:33:45.902874Z"
    },
    "papermill": {
     "duration": 7.834652,
     "end_time": "2022-11-27T16:33:45.906924",
     "exception": false,
     "start_time": "2022-11-27T16:33:38.072272",
     "status": "completed"
    },
    "tags": []
   },
   "outputs": [],
   "source": [
    "df.to_csv(\"recbox_data/recbox_data.inter\", index=False, sep=\"\\t\")"
   ]
  },
  {
   "cell_type": "markdown",
   "source": [
    "# Prepare training pipeline"
   ],
   "metadata": {
    "collapsed": false
   },
   "id": "8464b863e2528ed6"
  },
  {
   "cell_type": "markdown",
   "source": [
    "## Hyperparameters"
   ],
   "metadata": {
    "collapsed": false
   },
   "id": "42b78dad8a829ce1"
  },
  {
   "cell_type": "code",
   "execution_count": null,
   "id": "a4b97bdc",
   "metadata": {
    "execution": {
     "iopub.execute_input": "2022-11-27T16:34:04.084646Z",
     "iopub.status.busy": "2022-11-27T16:34:04.083930Z",
     "iopub.status.idle": "2022-11-27T16:34:04.217448Z",
     "shell.execute_reply": "2022-11-27T16:34:04.216060Z"
    },
    "papermill": {
     "duration": 0.145622,
     "end_time": "2022-11-27T16:34:04.220395",
     "exception": false,
     "start_time": "2022-11-27T16:34:04.074773",
     "status": "completed"
    },
    "tags": []
   },
   "outputs": [],
   "source": [
    "parameter_dict = {\n",
    "    \"data_path\": \"\",\n",
    "    \"USER_ID_FIELD\": \"user_id\",\n",
    "    \"ITEM_ID_FIELD\": \"item_id\",\n",
    "    \"TIME_FIELD\": \"timestamp\",\n",
    "    \"device\": \"GPU\",\n",
    "    \"user_inter_num_interval\": \"[40,inf)\",\n",
    "    \"item_inter_num_interval\": \"[40,inf)\",\n",
    "    \"load_col\": {\"inter\": [\"user_id\", \"item_id\", \"timestamp\"]},\n",
    "    \"neg_sampling\": None,\n",
    "    \"epochs\": 10,\n",
    "    \"eval_args\": {\"split\": {\"RS\": [9, 0, 1]}, \"group_by\": \"user\", \"order\": \"TO\", \"mode\": \"full\"},\n",
    "}\n",
    "config = Config(model=\"MultiVAE\", dataset=\"recbox_data\", config_dict=parameter_dict)\n",
    "\n",
    "# init random seed\n",
    "init_seed(config[\"seed\"], config[\"reproducibility\"])\n",
    "\n",
    "# logger initialization\n",
    "init_logger(config)\n",
    "logger = getLogger()\n",
    "# Create handlers\n",
    "c_handler = logging.StreamHandler()\n",
    "c_handler.setLevel(logging.INFO)\n",
    "logger.addHandler(c_handler)"
   ]
  },
  {
   "cell_type": "markdown",
   "source": [
    "## Splitting dataset"
   ],
   "metadata": {
    "collapsed": false
   },
   "id": "ccf99dc4fa1a0212"
  },
  {
   "cell_type": "code",
   "execution_count": null,
   "id": "d6d18eea",
   "metadata": {
    "execution": {
     "iopub.execute_input": "2022-11-27T16:34:04.236251Z",
     "iopub.status.busy": "2022-11-27T16:34:04.235805Z",
     "iopub.status.idle": "2022-11-27T16:34:46.795905Z",
     "shell.execute_reply": "2022-11-27T16:34:46.794283Z"
    },
    "papermill": {
     "duration": 42.583583,
     "end_time": "2022-11-27T16:34:46.811041",
     "exception": false,
     "start_time": "2022-11-27T16:34:04.227458",
     "status": "completed"
    },
    "tags": []
   },
   "outputs": [],
   "source": [
    "dataset = create_dataset(config)\n",
    "logger.info(dataset)"
   ]
  },
  {
   "cell_type": "code",
   "execution_count": null,
   "id": "66706c2e",
   "metadata": {
    "execution": {
     "iopub.execute_input": "2022-11-27T16:34:46.827485Z",
     "iopub.status.busy": "2022-11-27T16:34:46.827025Z",
     "iopub.status.idle": "2022-11-27T16:34:49.051342Z",
     "shell.execute_reply": "2022-11-27T16:34:49.049929Z"
    },
    "papermill": {
     "duration": 2.241551,
     "end_time": "2022-11-27T16:34:49.059852",
     "exception": false,
     "start_time": "2022-11-27T16:34:46.818301",
     "status": "completed"
    },
    "tags": []
   },
   "outputs": [],
   "source": [
    "train_data, valid_data, test_data = data_preparation(config, dataset)"
   ]
  },
  {
   "cell_type": "markdown",
   "source": [
    "# Brute-force exploring models"
   ],
   "metadata": {
    "collapsed": false
   },
   "id": "5b8391bfb62c9a65"
  },
  {
   "cell_type": "code",
   "execution_count": null,
   "id": "5f5ae775",
   "metadata": {
    "execution": {
     "iopub.execute_input": "2022-11-27T16:34:49.103661Z",
     "iopub.status.busy": "2022-11-27T16:34:49.103250Z",
     "iopub.status.idle": "2022-11-28T00:09:08.384762Z",
     "shell.execute_reply": "2022-11-28T00:09:08.383614Z"
    },
    "papermill": {
     "duration": 27259.293886,
     "end_time": "2022-11-28T00:09:08.387403",
     "exception": false,
     "start_time": "2022-11-27T16:34:49.093517",
     "status": "completed"
    },
    "tags": []
   },
   "outputs": [],
   "source": [
    "%%time\n",
    "model_list = [\"MultiVAE\", \"MultiDAE\", \"MacridVAE\", \"NeuMF\", \"RecVAE\"]\n",
    "\n",
    "for model_name in model_list:\n",
    "    print(f\"running {model_name}...\")\n",
    "    start = time.time()\n",
    "    result = run_recbole(model=model_name, dataset=\"recbox_data\", config_dict=parameter_dict)\n",
    "    t = time.time() - start\n",
    "    print(f\"It took {t/60:.2f} mins\")\n",
    "    print(result)"
   ]
  },
  {
   "cell_type": "markdown",
   "source": [
    "# MultiVAE to production"
   ],
   "metadata": {
    "collapsed": false
   },
   "id": "c650813d78fbd0a6"
  },
  {
   "cell_type": "code",
   "execution_count": null,
   "id": "02f721d5",
   "metadata": {
    "execution": {
     "iopub.execute_input": "2022-11-28T00:09:13.508805Z",
     "iopub.status.busy": "2022-11-28T00:09:13.508342Z",
     "iopub.status.idle": "2022-11-28T00:11:03.682512Z",
     "shell.execute_reply": "2022-11-28T00:11:03.681538Z"
    },
    "papermill": {
     "duration": 112.660326,
     "end_time": "2022-11-28T00:11:03.684802",
     "exception": false,
     "start_time": "2022-11-28T00:09:11.024476",
     "status": "completed"
    },
    "tags": []
   },
   "outputs": [],
   "source": [
    "result = run_recbole(model=\"MultiVAE\", dataset=\"recbox_data\", config_dict=parameter_dict)"
   ]
  },
  {
   "cell_type": "markdown",
   "source": [
    "## Loading model"
   ],
   "metadata": {
    "collapsed": false
   },
   "id": "c483fe6ece7ebd6b"
  },
  {
   "cell_type": "code",
   "execution_count": null,
   "outputs": [],
   "source": [
    "model = MultiVAE(config, dataset)\n",
    "checkpoint = torch.load(\"../model_weights/MultiVAE.pth\")\n",
    "model.load_state_dict(checkpoint[\"state_dict\"])"
   ],
   "metadata": {
    "collapsed": false
   },
   "id": "b46355909aec2666"
  },
  {
   "cell_type": "markdown",
   "source": [
    "## Create recommendations"
   ],
   "metadata": {
    "collapsed": false
   },
   "id": "f856c153a0d47ec2"
  },
  {
   "cell_type": "code",
   "execution_count": null,
   "outputs": [],
   "source": [
    "def recommend_to_user(external_user_id, dataset, model):\n",
    "    if external_user_id in dataset.field2token_id[dataset.uid_field] and external_user_id != \"[PAD]\":\n",
    "        model.eval()\n",
    "        with torch.no_grad():\n",
    "            uid_series = dataset.token2id(dataset.uid_field, [external_user_id])\n",
    "            index = np.isin(dataset[dataset.uid_field].numpy(), uid_series)\n",
    "            new_inter = dataset[index]\n",
    "            new_inter = new_inter.to(config[\"device\"])\n",
    "            new_scores = model.full_sort_predict(new_inter)\n",
    "            new_scores = new_scores.view(-1, test_data.dataset.item_num)\n",
    "            new_scores[:, 0] = -np.inf\n",
    "            recommended_item_indices = torch.topk(new_scores, 10).indices[0].tolist()\n",
    "            recos = dataset.id2token(dataset.iid_field, [recommended_item_indices]).tolist()\n",
    "        return recos\n",
    "    return []\n",
    "\n",
    "\n",
    "recos = {\n",
    "    user_id: recommend_to_user(user_id, dataset, model) for user_id in tqdm(dataset.field2token_id[dataset.uid_field])\n",
    "}\n",
    "\n",
    "with open(\"../data/MultiVAE-recommendations.json\", \"w\") as f:\n",
    "    json.dump(recos, f)"
   ],
   "metadata": {
    "collapsed": false
   },
   "id": "82a73dc76bd3e152"
  },
  {
   "cell_type": "code",
   "execution_count": null,
   "outputs": [],
   "source": [],
   "metadata": {
    "collapsed": false
   },
   "id": "6cc414f83b5afff"
  }
 ],
 "metadata": {
  "kernelspec": {
   "display_name": "Python 3 (ipykernel)",
   "language": "python",
   "name": "python3"
  },
  "language_info": {
   "codemirror_mode": {
    "name": "ipython",
    "version": 3
   },
   "file_extension": ".py",
   "mimetype": "text/x-python",
   "name": "python",
   "nbconvert_exporter": "python",
   "pygments_lexer": "ipython3",
   "version": "3.9.12"
  },
  "papermill": {
   "default_parameters": {},
   "duration": 27491.154881,
   "end_time": "2022-11-28T00:11:27.624787",
   "environment_variables": {},
   "exception": null,
   "input_path": "__notebook__.ipynb",
   "output_path": "__notebook__.ipynb",
   "parameters": {},
   "start_time": "2022-11-27T16:33:16.469906",
   "version": "2.3.4"
  }
 },
 "nbformat": 4,
 "nbformat_minor": 5
}
