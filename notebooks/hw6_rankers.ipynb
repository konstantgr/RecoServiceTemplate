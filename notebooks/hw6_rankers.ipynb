{
 "cells": [
  {
   "cell_type": "markdown",
   "metadata": {},
   "source": [
    "# Реранжирование в рекомендациях с помощью GDBT"
   ]
  },
  {
   "cell_type": "markdown",
   "metadata": {},
   "source": [
    "## Программа семинара\n",
    "- Подготовка данных\n",
    "- Трейн-вал-тест сплит\n",
    "- Обучаем модель первого уровня\n",
    "- Генерим кандидатов, которыми дополним датасет ранкера\n",
    "- Формируем датасет для ранкера\n",
    "    - Генерим фичи для ранкера\n",
    "    - Джойним кандидатов и юзер/айтем фичи\n",
    "- Обучаем ранкер\n",
    "    - Pointwise\n",
    "    - Pairwise/Listwise\n",
    "- Итоговые метрики\n",
    "- Домашнее задание"
   ]
  },
  {
   "cell_type": "markdown",
   "metadata": {},
   "source": [
    "## Импорты"
   ]
  },
  {
   "cell_type": "code",
   "execution_count": 2,
   "metadata": {
    "ExecuteTime": {
     "end_time": "2023-12-19T20:51:20.230235Z",
     "start_time": "2023-12-19T20:51:17.999832Z"
    }
   },
   "outputs": [],
   "source": [
    "import warnings\n",
    "\n",
    "warnings.simplefilter(\"ignore\")\n",
    "\n",
    "import dill\n",
    "import numpy as np\n",
    "import pandas as pd\n",
    "import requests\n",
    "import shap\n",
    "\n",
    "from lightfm import LightFM\n",
    "from lightfm.data import Dataset\n",
    "\n",
    "# from lightgbm import LGBMRanker, LGBMClassifier\n",
    "from rectools.metrics import calc_metrics, NDCG, MAP, Precision, Recall, MeanInvUserFreq\n",
    "from rectools import Columns\n",
    "from sklearn.metrics import roc_auc_score\n",
    "from sklearn.model_selection import train_test_split\n",
    "from typing import Any, Dict, Tuple\n",
    "from tqdm.auto import tqdm\n",
    "from zipfile import ZipFile\n",
    "\n",
    "from tools import generate_lightfm_recs_mapper, avg_user_metric"
   ]
  },
  {
   "cell_type": "markdown",
   "metadata": {},
   "source": [
    "## Подготовка данных"
   ]
  },
  {
   "cell_type": "code",
   "execution_count": 3,
   "metadata": {
    "ExecuteTime": {
     "end_time": "2023-12-19T20:52:30.113023Z",
     "start_time": "2023-12-19T20:52:27.794278Z"
    }
   },
   "outputs": [],
   "source": [
    "users = pd.read_csv(\"../data/users.csv\")\n",
    "items = pd.read_csv(\"../data/items.csv\")\n",
    "interactions = pd.read_csv(\"../data/interactions.csv\")"
   ]
  },
  {
   "cell_type": "code",
   "execution_count": 4,
   "metadata": {
    "ExecuteTime": {
     "end_time": "2023-12-19T20:52:32.440373Z",
     "start_time": "2023-12-19T20:52:32.370092Z"
    }
   },
   "outputs": [
    {
     "name": "stdout",
     "output_type": "stream",
     "text": [
      "(5476251, 5)\n"
     ]
    },
    {
     "data": {
      "text/plain": "   user_id  item_id last_watch_dt  total_dur  watched_pct\n0   176549     9506    2021-05-11       4250         72.0\n1   699317     1659    2021-05-29       8317        100.0\n2   656683     7107    2021-05-09         10          0.0",
      "text/html": "<div>\n<style scoped>\n    .dataframe tbody tr th:only-of-type {\n        vertical-align: middle;\n    }\n\n    .dataframe tbody tr th {\n        vertical-align: top;\n    }\n\n    .dataframe thead th {\n        text-align: right;\n    }\n</style>\n<table border=\"1\" class=\"dataframe\">\n  <thead>\n    <tr style=\"text-align: right;\">\n      <th></th>\n      <th>user_id</th>\n      <th>item_id</th>\n      <th>last_watch_dt</th>\n      <th>total_dur</th>\n      <th>watched_pct</th>\n    </tr>\n  </thead>\n  <tbody>\n    <tr>\n      <th>0</th>\n      <td>176549</td>\n      <td>9506</td>\n      <td>2021-05-11</td>\n      <td>4250</td>\n      <td>72.0</td>\n    </tr>\n    <tr>\n      <th>1</th>\n      <td>699317</td>\n      <td>1659</td>\n      <td>2021-05-29</td>\n      <td>8317</td>\n      <td>100.0</td>\n    </tr>\n    <tr>\n      <th>2</th>\n      <td>656683</td>\n      <td>7107</td>\n      <td>2021-05-09</td>\n      <td>10</td>\n      <td>0.0</td>\n    </tr>\n  </tbody>\n</table>\n</div>"
     },
     "execution_count": 4,
     "metadata": {},
     "output_type": "execute_result"
    }
   ],
   "source": [
    "print(interactions.shape)\n",
    "interactions.head(3)"
   ]
  },
  {
   "cell_type": "code",
   "execution_count": 10,
   "metadata": {
    "ExecuteTime": {
     "end_time": "2023-12-19T20:53:58.176527Z",
     "start_time": "2023-12-19T20:53:57.688283Z"
    }
   },
   "outputs": [
    {
     "data": {
      "text/plain": "   user_id  item_id   datetime  total_dur  weight\n0   176549     9506 2021-05-11       4250    72.0\n1   699317     1659 2021-05-29       8317   100.0\n2   656683     7107 2021-05-09         10     0.0\n3   864613     7638 2021-07-05      14483   100.0\n4   964868     9506 2021-04-30       6725   100.0\n5  1032142     6686 2021-05-13      11286   100.0\n6  1016458      354 2021-08-14       1672    25.0\n7   884009      693 2021-08-04        703    14.0\n8   648682     1449 2021-06-13      26246    75.0\n9   203219    13582 2021-08-22       6975   100.0",
      "text/html": "<div>\n<style scoped>\n    .dataframe tbody tr th:only-of-type {\n        vertical-align: middle;\n    }\n\n    .dataframe tbody tr th {\n        vertical-align: top;\n    }\n\n    .dataframe thead th {\n        text-align: right;\n    }\n</style>\n<table border=\"1\" class=\"dataframe\">\n  <thead>\n    <tr style=\"text-align: right;\">\n      <th></th>\n      <th>user_id</th>\n      <th>item_id</th>\n      <th>datetime</th>\n      <th>total_dur</th>\n      <th>weight</th>\n    </tr>\n  </thead>\n  <tbody>\n    <tr>\n      <th>0</th>\n      <td>176549</td>\n      <td>9506</td>\n      <td>2021-05-11</td>\n      <td>4250</td>\n      <td>72.0</td>\n    </tr>\n    <tr>\n      <th>1</th>\n      <td>699317</td>\n      <td>1659</td>\n      <td>2021-05-29</td>\n      <td>8317</td>\n      <td>100.0</td>\n    </tr>\n    <tr>\n      <th>2</th>\n      <td>656683</td>\n      <td>7107</td>\n      <td>2021-05-09</td>\n      <td>10</td>\n      <td>0.0</td>\n    </tr>\n    <tr>\n      <th>3</th>\n      <td>864613</td>\n      <td>7638</td>\n      <td>2021-07-05</td>\n      <td>14483</td>\n      <td>100.0</td>\n    </tr>\n    <tr>\n      <th>4</th>\n      <td>964868</td>\n      <td>9506</td>\n      <td>2021-04-30</td>\n      <td>6725</td>\n      <td>100.0</td>\n    </tr>\n    <tr>\n      <th>5</th>\n      <td>1032142</td>\n      <td>6686</td>\n      <td>2021-05-13</td>\n      <td>11286</td>\n      <td>100.0</td>\n    </tr>\n    <tr>\n      <th>6</th>\n      <td>1016458</td>\n      <td>354</td>\n      <td>2021-08-14</td>\n      <td>1672</td>\n      <td>25.0</td>\n    </tr>\n    <tr>\n      <th>7</th>\n      <td>884009</td>\n      <td>693</td>\n      <td>2021-08-04</td>\n      <td>703</td>\n      <td>14.0</td>\n    </tr>\n    <tr>\n      <th>8</th>\n      <td>648682</td>\n      <td>1449</td>\n      <td>2021-06-13</td>\n      <td>26246</td>\n      <td>75.0</td>\n    </tr>\n    <tr>\n      <th>9</th>\n      <td>203219</td>\n      <td>13582</td>\n      <td>2021-08-22</td>\n      <td>6975</td>\n      <td>100.0</td>\n    </tr>\n  </tbody>\n</table>\n</div>"
     },
     "execution_count": 10,
     "metadata": {},
     "output_type": "execute_result"
    }
   ],
   "source": [
    "# Меняем названия колонок для использования rectools\n",
    "interactions.rename(\n",
    "    columns={\n",
    "        \"last_watch_dt\": Columns.Datetime,\n",
    "        \"watched_pct\": Columns.Weight,\n",
    "    },\n",
    "    inplace=True,\n",
    ")\n",
    "# Меняем тип данных\n",
    "interactions[Columns.Datetime] = pd.to_datetime(interactions[Columns.Datetime], format=\"%Y-%m-%d\")\n",
    "\n",
    "# Заполняем пропуски\n",
    "interactions_default_values: Dict[str, Any] = {\n",
    "    Columns.Datetime: interactions[Columns.Datetime].median(),\n",
    "    Columns.Weight: 0.0,\n",
    "    \"total_dur\": 0,\n",
    "}\n",
    "interactions.fillna(interactions_default_values, inplace=True)\n",
    "\n",
    "# Смотрим что получилось\n",
    "interactions.head(10)"
   ]
  },
  {
   "cell_type": "code",
   "execution_count": 12,
   "metadata": {
    "ExecuteTime": {
     "end_time": "2023-12-19T20:54:09.009361Z",
     "start_time": "2023-12-19T20:54:08.345887Z"
    }
   },
   "outputs": [
    {
     "data": {
      "text/plain": "            user_id       item_id                       datetime  \\\ncount  5.476251e+06  5.476251e+06                        5476251   \nmean   5.491159e+05  8.485860e+03  2021-06-23 11:56:04.296268032   \nmin    0.000000e+00  0.000000e+00            2021-03-13 00:00:00   \n25%    2.750140e+05  4.326000e+03            2021-05-25 00:00:00   \n50%    5.493640e+05  8.776000e+03            2021-07-01 00:00:00   \n75%    8.227540e+05  1.254400e+04            2021-07-30 00:00:00   \nmax    1.097557e+06  1.651800e+04            2021-08-22 00:00:00   \nstd    3.166077e+05  4.740762e+03                            NaN   \n\n          total_dur        weight  \ncount  5.476251e+06  5.476251e+06  \nmean   8.295490e+03  4.636699e+01  \nmin    1.000000e+00  0.000000e+00  \n25%    3.710000e+02  4.000000e+00  \n50%    2.898000e+03  3.200000e+01  \n75%    7.116000e+03  1.000000e+02  \nmax    8.041167e+07  1.000000e+02  \nstd    4.856799e+04  4.191923e+01  ",
      "text/html": "<div>\n<style scoped>\n    .dataframe tbody tr th:only-of-type {\n        vertical-align: middle;\n    }\n\n    .dataframe tbody tr th {\n        vertical-align: top;\n    }\n\n    .dataframe thead th {\n        text-align: right;\n    }\n</style>\n<table border=\"1\" class=\"dataframe\">\n  <thead>\n    <tr style=\"text-align: right;\">\n      <th></th>\n      <th>user_id</th>\n      <th>item_id</th>\n      <th>datetime</th>\n      <th>total_dur</th>\n      <th>weight</th>\n    </tr>\n  </thead>\n  <tbody>\n    <tr>\n      <th>count</th>\n      <td>5.476251e+06</td>\n      <td>5.476251e+06</td>\n      <td>5476251</td>\n      <td>5.476251e+06</td>\n      <td>5.476251e+06</td>\n    </tr>\n    <tr>\n      <th>mean</th>\n      <td>5.491159e+05</td>\n      <td>8.485860e+03</td>\n      <td>2021-06-23 11:56:04.296268032</td>\n      <td>8.295490e+03</td>\n      <td>4.636699e+01</td>\n    </tr>\n    <tr>\n      <th>min</th>\n      <td>0.000000e+00</td>\n      <td>0.000000e+00</td>\n      <td>2021-03-13 00:00:00</td>\n      <td>1.000000e+00</td>\n      <td>0.000000e+00</td>\n    </tr>\n    <tr>\n      <th>25%</th>\n      <td>2.750140e+05</td>\n      <td>4.326000e+03</td>\n      <td>2021-05-25 00:00:00</td>\n      <td>3.710000e+02</td>\n      <td>4.000000e+00</td>\n    </tr>\n    <tr>\n      <th>50%</th>\n      <td>5.493640e+05</td>\n      <td>8.776000e+03</td>\n      <td>2021-07-01 00:00:00</td>\n      <td>2.898000e+03</td>\n      <td>3.200000e+01</td>\n    </tr>\n    <tr>\n      <th>75%</th>\n      <td>8.227540e+05</td>\n      <td>1.254400e+04</td>\n      <td>2021-07-30 00:00:00</td>\n      <td>7.116000e+03</td>\n      <td>1.000000e+02</td>\n    </tr>\n    <tr>\n      <th>max</th>\n      <td>1.097557e+06</td>\n      <td>1.651800e+04</td>\n      <td>2021-08-22 00:00:00</td>\n      <td>8.041167e+07</td>\n      <td>1.000000e+02</td>\n    </tr>\n    <tr>\n      <th>std</th>\n      <td>3.166077e+05</td>\n      <td>4.740762e+03</td>\n      <td>NaN</td>\n      <td>4.856799e+04</td>\n      <td>4.191923e+01</td>\n    </tr>\n  </tbody>\n</table>\n</div>"
     },
     "execution_count": 12,
     "metadata": {},
     "output_type": "execute_result"
    }
   ],
   "source": [
    "interactions.describe()"
   ]
  },
  {
   "cell_type": "code",
   "execution_count": 13,
   "metadata": {
    "ExecuteTime": {
     "end_time": "2023-12-19T20:54:14.167265Z",
     "start_time": "2023-12-19T20:54:14.105915Z"
    }
   },
   "outputs": [
    {
     "name": "stdout",
     "output_type": "stream",
     "text": [
      "(840197, 5)\n"
     ]
    },
    {
     "data": {
      "text/plain": "   user_id        age        income sex  kids_flg\n0   973171  age_25_34  income_60_90   М         1\n1   962099  age_18_24  income_20_40   М         0\n2  1047345  age_45_54  income_40_60   Ж         0",
      "text/html": "<div>\n<style scoped>\n    .dataframe tbody tr th:only-of-type {\n        vertical-align: middle;\n    }\n\n    .dataframe tbody tr th {\n        vertical-align: top;\n    }\n\n    .dataframe thead th {\n        text-align: right;\n    }\n</style>\n<table border=\"1\" class=\"dataframe\">\n  <thead>\n    <tr style=\"text-align: right;\">\n      <th></th>\n      <th>user_id</th>\n      <th>age</th>\n      <th>income</th>\n      <th>sex</th>\n      <th>kids_flg</th>\n    </tr>\n  </thead>\n  <tbody>\n    <tr>\n      <th>0</th>\n      <td>973171</td>\n      <td>age_25_34</td>\n      <td>income_60_90</td>\n      <td>М</td>\n      <td>1</td>\n    </tr>\n    <tr>\n      <th>1</th>\n      <td>962099</td>\n      <td>age_18_24</td>\n      <td>income_20_40</td>\n      <td>М</td>\n      <td>0</td>\n    </tr>\n    <tr>\n      <th>2</th>\n      <td>1047345</td>\n      <td>age_45_54</td>\n      <td>income_40_60</td>\n      <td>Ж</td>\n      <td>0</td>\n    </tr>\n  </tbody>\n</table>\n</div>"
     },
     "execution_count": 13,
     "metadata": {},
     "output_type": "execute_result"
    }
   ],
   "source": [
    "print(users.shape)\n",
    "users.head(3)"
   ]
  },
  {
   "cell_type": "code",
   "execution_count": 14,
   "metadata": {
    "ExecuteTime": {
     "end_time": "2023-12-19T20:54:40.102499Z",
     "start_time": "2023-12-19T20:54:39.968343Z"
    }
   },
   "outputs": [
    {
     "data": {
      "text/plain": "(Index(['income_0_20', 'income_150_inf', 'income_20_40', 'income_40_60',\n        'income_60_90', 'income_90_150'],\n       dtype='object'),\n [4, 2, 3, 0, -1, 5, 1]\n Categories (7, int8): [-1, 0, 1, 2, 3, 4, 5])"
     },
     "execution_count": 14,
     "metadata": {},
     "output_type": "execute_result"
    }
   ],
   "source": [
    "def encode_cat_cols(df: pd.DataFrame, cat_cols) -> Tuple[pd.DataFrame, Dict]:\n",
    "    cat_col_encoding = {}  # словарь с категориями\n",
    "\n",
    "    # Тут мы могли бы заполнять пропуски как еще одну категорию,\n",
    "    # но они и так заполняются таким образом автоматически ниже\n",
    "    # default_values = {col: 'None' for col in cat_cols}\n",
    "    # df.fillna(default_values, inplace=True)\n",
    "\n",
    "    for col in cat_cols:\n",
    "        cat_col = df[col].astype(\"category\").cat\n",
    "        cat_col_encoding[col] = cat_col.categories\n",
    "        df[col] = cat_col.codes.astype(\"category\")\n",
    "    return df, cat_col_encoding\n",
    "\n",
    "\n",
    "users_cat_cols = [\n",
    "    # 'user_id',\n",
    "    \"age\",\n",
    "    \"income\",\n",
    "    \"sex\",\n",
    "    \"kids_flg\",\n",
    "]\n",
    "users, users_cat_col_encoding = encode_cat_cols(users, users_cat_cols)\n",
    "\n",
    "# None уже кодируется как -1\n",
    "users_cat_col_encoding[\"income\"], users[\"income\"].unique()"
   ]
  },
  {
   "cell_type": "code",
   "execution_count": 15,
   "metadata": {
    "ExecuteTime": {
     "end_time": "2023-12-19T20:54:41.266203Z",
     "start_time": "2023-12-19T20:54:41.234998Z"
    }
   },
   "outputs": [
    {
     "data": {
      "text/plain": "   user_id age income sex kids_flg\n0   973171   1      4   1        1\n1   962099   0      2   1        0\n2  1047345   3      3   0        0",
      "text/html": "<div>\n<style scoped>\n    .dataframe tbody tr th:only-of-type {\n        vertical-align: middle;\n    }\n\n    .dataframe tbody tr th {\n        vertical-align: top;\n    }\n\n    .dataframe thead th {\n        text-align: right;\n    }\n</style>\n<table border=\"1\" class=\"dataframe\">\n  <thead>\n    <tr style=\"text-align: right;\">\n      <th></th>\n      <th>user_id</th>\n      <th>age</th>\n      <th>income</th>\n      <th>sex</th>\n      <th>kids_flg</th>\n    </tr>\n  </thead>\n  <tbody>\n    <tr>\n      <th>0</th>\n      <td>973171</td>\n      <td>1</td>\n      <td>4</td>\n      <td>1</td>\n      <td>1</td>\n    </tr>\n    <tr>\n      <th>1</th>\n      <td>962099</td>\n      <td>0</td>\n      <td>2</td>\n      <td>1</td>\n      <td>0</td>\n    </tr>\n    <tr>\n      <th>2</th>\n      <td>1047345</td>\n      <td>3</td>\n      <td>3</td>\n      <td>0</td>\n      <td>0</td>\n    </tr>\n  </tbody>\n</table>\n</div>"
     },
     "execution_count": 15,
     "metadata": {},
     "output_type": "execute_result"
    }
   ],
   "source": [
    "users.head(3)"
   ]
  },
  {
   "cell_type": "code",
   "execution_count": 16,
   "metadata": {
    "ExecuteTime": {
     "end_time": "2023-12-19T20:54:43.386274Z",
     "start_time": "2023-12-19T20:54:43.313756Z"
    }
   },
   "outputs": [
    {
     "data": {
      "text/plain": "           age  income     sex  kids_flg\ncount   840197  840197  840197    840197\nunique       7       7       3         2\ntop          1       2       0         0\nfreq    233926  471519  425270    587209",
      "text/html": "<div>\n<style scoped>\n    .dataframe tbody tr th:only-of-type {\n        vertical-align: middle;\n    }\n\n    .dataframe tbody tr th {\n        vertical-align: top;\n    }\n\n    .dataframe thead th {\n        text-align: right;\n    }\n</style>\n<table border=\"1\" class=\"dataframe\">\n  <thead>\n    <tr style=\"text-align: right;\">\n      <th></th>\n      <th>age</th>\n      <th>income</th>\n      <th>sex</th>\n      <th>kids_flg</th>\n    </tr>\n  </thead>\n  <tbody>\n    <tr>\n      <th>count</th>\n      <td>840197</td>\n      <td>840197</td>\n      <td>840197</td>\n      <td>840197</td>\n    </tr>\n    <tr>\n      <th>unique</th>\n      <td>7</td>\n      <td>7</td>\n      <td>3</td>\n      <td>2</td>\n    </tr>\n    <tr>\n      <th>top</th>\n      <td>1</td>\n      <td>2</td>\n      <td>0</td>\n      <td>0</td>\n    </tr>\n    <tr>\n      <th>freq</th>\n      <td>233926</td>\n      <td>471519</td>\n      <td>425270</td>\n      <td>587209</td>\n    </tr>\n  </tbody>\n</table>\n</div>"
     },
     "execution_count": 16,
     "metadata": {},
     "output_type": "execute_result"
    }
   ],
   "source": [
    "# Наиболее популярны income - income_40_60\n",
    "users.describe(include=\"category\")"
   ]
  },
  {
   "cell_type": "markdown",
   "metadata": {},
   "source": [
    "### `items`: данные об айтемах\n",
    "\n",
    "- `content_type` - тип контента\n",
    "- `title` - название на русском\n",
    "- `title_orig` - название оригинальное\n",
    "- `release_year` - год выпуска\n",
    "- `countries` - страны\n",
    "- `for_kids` - флаг контент для детей\n",
    "- `age_rating`- Возрастной рейтинг\n",
    "- `studios` - студии\n",
    "- `directors` - режиссеры\n",
    "- `actors`- актеры\n",
    "- `keywords` - ключевые слова \n",
    "- `description` - описание"
   ]
  },
  {
   "cell_type": "code",
   "execution_count": 17,
   "metadata": {
    "ExecuteTime": {
     "end_time": "2023-12-19T20:54:46.749169Z",
     "start_time": "2023-12-19T20:54:46.724453Z"
    }
   },
   "outputs": [
    {
     "name": "stdout",
     "output_type": "stream",
     "text": [
      "(15963, 14)\n"
     ]
    },
    {
     "data": {
      "text/plain": "   item_id content_type             title      title_orig  release_year  \\\n0    10711         film    Поговори с ней  Hable con ella        2002.0   \n1     2508         film       Голые перцы    Search Party        2014.0   \n2    10716         film  Тактическая сила  Tactical Force        2011.0   \n\n                                             genres countries  for_kids  \\\n0           драмы, зарубежные, детективы, мелодрамы   Испания       NaN   \n1                  зарубежные, приключения, комедии       США       NaN   \n2  криминал, зарубежные, триллеры, боевики, комедии    Канада       NaN   \n\n   age_rating studios         directors  \\\n0        16.0     NaN  Педро Альмодовар   \n1        16.0     NaN    Скот Армстронг   \n2        16.0     NaN  Адам П. Калтраро   \n\n                                              actors  \\\n0  Адольфо Фернандес, Ана Фернандес, Дарио Гранди...   \n1  Адам Палли, Брайан Хаски, Дж.Б. Смув, Джейсон ...   \n2  Адриан Холмс, Даррен Шалави, Джерри Вассерман,...   \n\n                                         description  \\\n0  Мелодрама легендарного Педро Альмодовара «Пого...   \n1  Уморительная современная комедия на популярную...   \n2  Профессиональный рестлер Стив Остин («Все или ...   \n\n                                            keywords  \n0  Поговори, ней, 2002, Испания, друзья, любовь, ...  \n1  Голые, перцы, 2014, США, друзья, свадьбы, прео...  \n2  Тактическая, сила, 2011, Канада, бандиты, ганг...  ",
      "text/html": "<div>\n<style scoped>\n    .dataframe tbody tr th:only-of-type {\n        vertical-align: middle;\n    }\n\n    .dataframe tbody tr th {\n        vertical-align: top;\n    }\n\n    .dataframe thead th {\n        text-align: right;\n    }\n</style>\n<table border=\"1\" class=\"dataframe\">\n  <thead>\n    <tr style=\"text-align: right;\">\n      <th></th>\n      <th>item_id</th>\n      <th>content_type</th>\n      <th>title</th>\n      <th>title_orig</th>\n      <th>release_year</th>\n      <th>genres</th>\n      <th>countries</th>\n      <th>for_kids</th>\n      <th>age_rating</th>\n      <th>studios</th>\n      <th>directors</th>\n      <th>actors</th>\n      <th>description</th>\n      <th>keywords</th>\n    </tr>\n  </thead>\n  <tbody>\n    <tr>\n      <th>0</th>\n      <td>10711</td>\n      <td>film</td>\n      <td>Поговори с ней</td>\n      <td>Hable con ella</td>\n      <td>2002.0</td>\n      <td>драмы, зарубежные, детективы, мелодрамы</td>\n      <td>Испания</td>\n      <td>NaN</td>\n      <td>16.0</td>\n      <td>NaN</td>\n      <td>Педро Альмодовар</td>\n      <td>Адольфо Фернандес, Ана Фернандес, Дарио Гранди...</td>\n      <td>Мелодрама легендарного Педро Альмодовара «Пого...</td>\n      <td>Поговори, ней, 2002, Испания, друзья, любовь, ...</td>\n    </tr>\n    <tr>\n      <th>1</th>\n      <td>2508</td>\n      <td>film</td>\n      <td>Голые перцы</td>\n      <td>Search Party</td>\n      <td>2014.0</td>\n      <td>зарубежные, приключения, комедии</td>\n      <td>США</td>\n      <td>NaN</td>\n      <td>16.0</td>\n      <td>NaN</td>\n      <td>Скот Армстронг</td>\n      <td>Адам Палли, Брайан Хаски, Дж.Б. Смув, Джейсон ...</td>\n      <td>Уморительная современная комедия на популярную...</td>\n      <td>Голые, перцы, 2014, США, друзья, свадьбы, прео...</td>\n    </tr>\n    <tr>\n      <th>2</th>\n      <td>10716</td>\n      <td>film</td>\n      <td>Тактическая сила</td>\n      <td>Tactical Force</td>\n      <td>2011.0</td>\n      <td>криминал, зарубежные, триллеры, боевики, комедии</td>\n      <td>Канада</td>\n      <td>NaN</td>\n      <td>16.0</td>\n      <td>NaN</td>\n      <td>Адам П. Калтраро</td>\n      <td>Адриан Холмс, Даррен Шалави, Джерри Вассерман,...</td>\n      <td>Профессиональный рестлер Стив Остин («Все или ...</td>\n      <td>Тактическая, сила, 2011, Канада, бандиты, ганг...</td>\n    </tr>\n  </tbody>\n</table>\n</div>"
     },
     "execution_count": 17,
     "metadata": {},
     "output_type": "execute_result"
    }
   ],
   "source": [
    "print(items.shape)\n",
    "items.head(3)"
   ]
  },
  {
   "cell_type": "code",
   "execution_count": 18,
   "metadata": {
    "ExecuteTime": {
     "end_time": "2023-12-19T20:54:47.431860Z",
     "start_time": "2023-12-19T20:54:47.413990Z"
    }
   },
   "outputs": [
    {
     "data": {
      "text/plain": "Index(['ABC', 'Amediateka', 'BBC', 'CBS', 'CBS All Access', 'Channel 4',\n       'Cinemax', 'DAZN', 'Disney', 'Endemol', 'FX', 'Fox', 'Fremantle', 'HBO',\n       'HBO Max', 'HBO, BBC', 'Legendary', 'MGM', 'New Regency Productions',\n       'Paramount', 'Showtime', 'Sky', 'Sky, Fremantle', 'Sony Pictures',\n       'Sony Pictures Television', 'Sony Pictures, рентв', 'Sony Plus',\n       'Sony Plus, рентв', 'Starz', 'Universal', 'Universal, рентв',\n       'Warner Bros', 'Warner Bros. Television', 'Ленфильм', 'Ленфильм, рентв',\n       'Мосфильм', 'Рок фильм', 'рентв'],\n      dtype='object')"
     },
     "execution_count": 18,
     "metadata": {},
     "output_type": "execute_result"
    }
   ],
   "source": [
    "# Аналогичным образом кодируем категориальные колонки и пока удаляем текстовые\n",
    "items_cat_cols = [\n",
    "    # 'item_id',\n",
    "    \"content_type\",\n",
    "    \"for_kids\",\n",
    "    \"studios\",\n",
    "]\n",
    "items_text_cols = [\n",
    "    \"title\",\n",
    "    \"title_orig\",\n",
    "    \"genres\",\n",
    "    \"countries\",\n",
    "    \"directors\",\n",
    "    \"actors\",\n",
    "    \"description\",\n",
    "    \"keywords\",\n",
    "]\n",
    "items_num_cols = [\n",
    "    \"release_year\",\n",
    "    \"age_rating\",\n",
    "]\n",
    "default_values_items = {\n",
    "    \"release_year\": items[\"release_year\"].median(),\n",
    "    \"age_rating\": items[\"age_rating\"].median(),\n",
    "}\n",
    "\n",
    "items, items_cat_col_encoding = encode_cat_cols(items, items_cat_cols)\n",
    "items = items.drop(items_text_cols, axis=1)\n",
    "items.fillna(default_values_items, inplace=True)\n",
    "\n",
    "items_cat_col_encoding[\"studios\"]"
   ]
  },
  {
   "cell_type": "code",
   "execution_count": 19,
   "metadata": {
    "ExecuteTime": {
     "end_time": "2023-12-19T20:54:48.038883Z",
     "start_time": "2023-12-19T20:54:48.007896Z"
    }
   },
   "outputs": [
    {
     "data": {
      "text/plain": "             item_id  content_type  release_year  for_kids    age_rating  \\\ncount   15963.000000       15963.0  15963.000000   15963.0  15963.000000   \nunique           NaN           2.0           NaN       3.0           NaN   \ntop              NaN           0.0           NaN      -1.0           NaN   \nfreq             NaN       12002.0           NaN   15397.0           NaN   \nmean     8268.453424           NaN   2007.969492       NaN     12.945937   \nstd      4773.841513           NaN     16.835890       NaN      5.495760   \nmin         0.000000           NaN   1897.000000       NaN      0.000000   \n25%      4141.500000           NaN   2007.000000       NaN     12.000000   \n50%      8266.000000           NaN   2014.000000       NaN     16.000000   \n75%     12414.500000           NaN   2018.000000       NaN     16.000000   \nmax     16518.000000           NaN   2021.000000       NaN     21.000000   \n\n        studios  \ncount   15963.0  \nunique     39.0  \ntop        -1.0  \nfreq    14898.0  \nmean        NaN  \nstd         NaN  \nmin         NaN  \n25%         NaN  \n50%         NaN  \n75%         NaN  \nmax         NaN  ",
      "text/html": "<div>\n<style scoped>\n    .dataframe tbody tr th:only-of-type {\n        vertical-align: middle;\n    }\n\n    .dataframe tbody tr th {\n        vertical-align: top;\n    }\n\n    .dataframe thead th {\n        text-align: right;\n    }\n</style>\n<table border=\"1\" class=\"dataframe\">\n  <thead>\n    <tr style=\"text-align: right;\">\n      <th></th>\n      <th>item_id</th>\n      <th>content_type</th>\n      <th>release_year</th>\n      <th>for_kids</th>\n      <th>age_rating</th>\n      <th>studios</th>\n    </tr>\n  </thead>\n  <tbody>\n    <tr>\n      <th>count</th>\n      <td>15963.000000</td>\n      <td>15963.0</td>\n      <td>15963.000000</td>\n      <td>15963.0</td>\n      <td>15963.000000</td>\n      <td>15963.0</td>\n    </tr>\n    <tr>\n      <th>unique</th>\n      <td>NaN</td>\n      <td>2.0</td>\n      <td>NaN</td>\n      <td>3.0</td>\n      <td>NaN</td>\n      <td>39.0</td>\n    </tr>\n    <tr>\n      <th>top</th>\n      <td>NaN</td>\n      <td>0.0</td>\n      <td>NaN</td>\n      <td>-1.0</td>\n      <td>NaN</td>\n      <td>-1.0</td>\n    </tr>\n    <tr>\n      <th>freq</th>\n      <td>NaN</td>\n      <td>12002.0</td>\n      <td>NaN</td>\n      <td>15397.0</td>\n      <td>NaN</td>\n      <td>14898.0</td>\n    </tr>\n    <tr>\n      <th>mean</th>\n      <td>8268.453424</td>\n      <td>NaN</td>\n      <td>2007.969492</td>\n      <td>NaN</td>\n      <td>12.945937</td>\n      <td>NaN</td>\n    </tr>\n    <tr>\n      <th>std</th>\n      <td>4773.841513</td>\n      <td>NaN</td>\n      <td>16.835890</td>\n      <td>NaN</td>\n      <td>5.495760</td>\n      <td>NaN</td>\n    </tr>\n    <tr>\n      <th>min</th>\n      <td>0.000000</td>\n      <td>NaN</td>\n      <td>1897.000000</td>\n      <td>NaN</td>\n      <td>0.000000</td>\n      <td>NaN</td>\n    </tr>\n    <tr>\n      <th>25%</th>\n      <td>4141.500000</td>\n      <td>NaN</td>\n      <td>2007.000000</td>\n      <td>NaN</td>\n      <td>12.000000</td>\n      <td>NaN</td>\n    </tr>\n    <tr>\n      <th>50%</th>\n      <td>8266.000000</td>\n      <td>NaN</td>\n      <td>2014.000000</td>\n      <td>NaN</td>\n      <td>16.000000</td>\n      <td>NaN</td>\n    </tr>\n    <tr>\n      <th>75%</th>\n      <td>12414.500000</td>\n      <td>NaN</td>\n      <td>2018.000000</td>\n      <td>NaN</td>\n      <td>16.000000</td>\n      <td>NaN</td>\n    </tr>\n    <tr>\n      <th>max</th>\n      <td>16518.000000</td>\n      <td>NaN</td>\n      <td>2021.000000</td>\n      <td>NaN</td>\n      <td>21.000000</td>\n      <td>NaN</td>\n    </tr>\n  </tbody>\n</table>\n</div>"
     },
     "execution_count": 19,
     "metadata": {},
     "output_type": "execute_result"
    }
   ],
   "source": [
    "items.describe(include=\"all\")"
   ]
  },
  {
   "cell_type": "markdown",
   "metadata": {},
   "source": [
    "## Трейн-вал-тест сплит"
   ]
  },
  {
   "cell_type": "code",
   "execution_count": 20,
   "metadata": {
    "ExecuteTime": {
     "end_time": "2023-12-19T20:54:50.113268Z",
     "start_time": "2023-12-19T20:54:50.052142Z"
    }
   },
   "outputs": [
    {
     "name": "stdout",
     "output_type": "stream",
     "text": [
      "min дата в interactions: 2021-03-13 00:00:00\n",
      "max дата в interactions: 2021-08-22 00:00:00\n",
      "Продолжительность: 162 days 00:00:00\n"
     ]
    }
   ],
   "source": [
    "max_date = interactions[Columns.Datetime].max()\n",
    "min_date = interactions[Columns.Datetime].min()\n",
    "\n",
    "print(f\"min дата в interactions: {min_date}\")\n",
    "print(f\"max дата в interactions: {max_date}\")\n",
    "print(f\"Продолжительность: {max_date - min_date}\")"
   ]
  },
  {
   "attachments": {
    "validation.png": {
     "image/png": "[encoded data removed]"
    }
   },
   "cell_type": "markdown",
   "metadata": {},
   "source": [
    "### Схема валидации с разбиением по юзерам (удобна для первого запуска в  проде)\n",
    "\n",
    "![validation.png](attachment:validation.png)"
   ]
  },
  {
   "cell_type": "code",
   "execution_count": 21,
   "metadata": {
    "ExecuteTime": {
     "end_time": "2023-12-19T20:54:51.559151Z",
     "start_time": "2023-12-19T20:54:51.412384Z"
    }
   },
   "outputs": [],
   "source": [
    "# Обучать ранжирование будем на последнем месяце (30 дней) не считая отложенной недели\n",
    "# Лучше зафиксировать временной диапазон если на проде планируется переобучать модель\n",
    "ranker_days_count = 30\n",
    "\n",
    "ranker_data = interactions[(interactions[Columns.Datetime] >= max_date - pd.Timedelta(days=ranker_days_count))]\n",
    "\n",
    "# В дальнейшем ranker_data разбиваем по юзерам\n",
    "#  на train val test для обучения, валидации и тестирования ранкера\n",
    "train_size = 0.7\n",
    "val_size = 0.15\n",
    "test_size = 0.15\n",
    "\n",
    "# В train_test_split очень удобно можно сохранить исходное распределение по нужным факторам,\n",
    "#  задав параметр stratify. Правда мы на это пока забьем)\n",
    "\n",
    "train_val_users, test_users = train_test_split(ranker_data[\"user_id\"].unique(), random_state=42, test_size=test_size)\n",
    "\n",
    "train_users, val_users = train_test_split(\n",
    "    train_val_users, random_state=42, test_size=val_size / (train_size + val_size)  # 15% от общего размера\n",
    ")"
   ]
  },
  {
   "cell_type": "code",
   "execution_count": 22,
   "metadata": {
    "ExecuteTime": {
     "end_time": "2023-12-19T20:54:52.297882Z",
     "start_time": "2023-12-19T20:54:52.210253Z"
    }
   },
   "outputs": [],
   "source": [
    "# Для базовых моделей первого уровня (в нашем случае только lightfm)\n",
    "#  оставим все оставшиеся взаимодействия для обучения\n",
    "\n",
    "base_models_data = interactions[(interactions[Columns.Datetime] < max_date - pd.Timedelta(days=ranker_days_count))]"
   ]
  },
  {
   "cell_type": "markdown",
   "metadata": {},
   "source": [
    "## Используем предобученную модель превого уровня"
   ]
  },
  {
   "cell_type": "code",
   "execution_count": 23,
   "outputs": [],
   "source": [
    "lfm_candidates = pd.read_csv(\"../data/candidates_lfm.csv\")"
   ],
   "metadata": {
    "collapsed": false,
    "ExecuteTime": {
     "end_time": "2023-12-19T20:55:01.997908Z",
     "start_time": "2023-12-19T20:54:54.961369Z"
    }
   }
  },
  {
   "cell_type": "markdown",
   "source": [
    "# Popular, как вторая модель первого уровня\n"
   ],
   "metadata": {
    "collapsed": false
   }
  },
  {
   "cell_type": "code",
   "execution_count": 25,
   "outputs": [
    {
     "data": {
      "text/plain": "   item_id  pop_score  pop_rank\n0    10440   141889.0         1\n1    15297   137128.0         2\n2    13865    93403.0         3\n3     4151    69641.0         4\n4     2657    55146.0         5",
      "text/html": "<div>\n<style scoped>\n    .dataframe tbody tr th:only-of-type {\n        vertical-align: middle;\n    }\n\n    .dataframe tbody tr th {\n        vertical-align: top;\n    }\n\n    .dataframe thead th {\n        text-align: right;\n    }\n</style>\n<table border=\"1\" class=\"dataframe\">\n  <thead>\n    <tr style=\"text-align: right;\">\n      <th></th>\n      <th>item_id</th>\n      <th>pop_score</th>\n      <th>pop_rank</th>\n    </tr>\n  </thead>\n  <tbody>\n    <tr>\n      <th>0</th>\n      <td>10440</td>\n      <td>141889.0</td>\n      <td>1</td>\n    </tr>\n    <tr>\n      <th>1</th>\n      <td>15297</td>\n      <td>137128.0</td>\n      <td>2</td>\n    </tr>\n    <tr>\n      <th>2</th>\n      <td>13865</td>\n      <td>93403.0</td>\n      <td>3</td>\n    </tr>\n    <tr>\n      <th>3</th>\n      <td>4151</td>\n      <td>69641.0</td>\n      <td>4</td>\n    </tr>\n    <tr>\n      <th>4</th>\n      <td>2657</td>\n      <td>55146.0</td>\n      <td>5</td>\n    </tr>\n  </tbody>\n</table>\n</div>"
     },
     "execution_count": 25,
     "metadata": {},
     "output_type": "execute_result"
    }
   ],
   "source": [
    "from rectools.models import PopularModel\n",
    "from rectools.dataset import Dataset\n",
    "\n",
    "dataset = Dataset.construct(base_models_data)\n",
    "popular_model = PopularModel()\n",
    "popular_model.fit(dataset)\n",
    "\n",
    "n_items = items[Columns.Item].nunique()\n",
    "pop_candidates = popular_model.recommend(dataset.user_id_map.external_ids[:1], dataset, n_items, True)\n",
    "pop_candidates.rename({\"rank\": \"pop_rank\", \"score\": \"pop_score\"}, axis=1, inplace=True)\n",
    "pop_candidates.drop(Columns.User, axis=1, inplace=True)\n",
    "pop_candidates.head()"
   ],
   "metadata": {
    "collapsed": false,
    "ExecuteTime": {
     "end_time": "2023-12-19T20:56:34.823861Z",
     "start_time": "2023-12-19T20:56:30.773007Z"
    }
   }
  },
  {
   "cell_type": "markdown",
   "source": [
    "# Объединение предсказаний"
   ],
   "metadata": {
    "collapsed": false
   }
  },
  {
   "cell_type": "code",
   "execution_count": 26,
   "outputs": [
    {
     "data": {
      "text/plain": "   user_id  item_id  lfm_score  lfm_rank  pop_score  pop_rank\n0   176549    12365   0.001082         1      521.0    1211.0\n1   176549     2150   0.001069         2       14.0    6563.0\n2   176549    13865   0.000992         3    93403.0       3.0\n3   176549    12138   0.000988         4     1675.0     343.0\n4   176549    10440   0.000962         5   141889.0       1.0",
      "text/html": "<div>\n<style scoped>\n    .dataframe tbody tr th:only-of-type {\n        vertical-align: middle;\n    }\n\n    .dataframe tbody tr th {\n        vertical-align: top;\n    }\n\n    .dataframe thead th {\n        text-align: right;\n    }\n</style>\n<table border=\"1\" class=\"dataframe\">\n  <thead>\n    <tr style=\"text-align: right;\">\n      <th></th>\n      <th>user_id</th>\n      <th>item_id</th>\n      <th>lfm_score</th>\n      <th>lfm_rank</th>\n      <th>pop_score</th>\n      <th>pop_rank</th>\n    </tr>\n  </thead>\n  <tbody>\n    <tr>\n      <th>0</th>\n      <td>176549</td>\n      <td>12365</td>\n      <td>0.001082</td>\n      <td>1</td>\n      <td>521.0</td>\n      <td>1211.0</td>\n    </tr>\n    <tr>\n      <th>1</th>\n      <td>176549</td>\n      <td>2150</td>\n      <td>0.001069</td>\n      <td>2</td>\n      <td>14.0</td>\n      <td>6563.0</td>\n    </tr>\n    <tr>\n      <th>2</th>\n      <td>176549</td>\n      <td>13865</td>\n      <td>0.000992</td>\n      <td>3</td>\n      <td>93403.0</td>\n      <td>3.0</td>\n    </tr>\n    <tr>\n      <th>3</th>\n      <td>176549</td>\n      <td>12138</td>\n      <td>0.000988</td>\n      <td>4</td>\n      <td>1675.0</td>\n      <td>343.0</td>\n    </tr>\n    <tr>\n      <th>4</th>\n      <td>176549</td>\n      <td>10440</td>\n      <td>0.000962</td>\n      <td>5</td>\n      <td>141889.0</td>\n      <td>1.0</td>\n    </tr>\n  </tbody>\n</table>\n</div>"
     },
     "execution_count": 26,
     "metadata": {},
     "output_type": "execute_result"
    }
   ],
   "source": [
    "candidates = lfm_candidates.merge(pop_candidates, how=\"left\", on=[Columns.Item])\n",
    "candidates.head()"
   ],
   "metadata": {
    "collapsed": false,
    "ExecuteTime": {
     "start_time": "2023-12-19T20:57:18.587050Z"
    }
   }
  },
  {
   "cell_type": "markdown",
   "source": [
    "# Считаем метрики"
   ],
   "metadata": {
    "collapsed": false
   }
  },
  {
   "cell_type": "code",
   "execution_count": 28,
   "metadata": {
    "ExecuteTime": {
     "end_time": "2023-12-19T20:58:56.223891Z",
     "start_time": "2023-12-19T20:58:53.372248Z"
    }
   },
   "outputs": [
    {
     "data": {
      "text/plain": "{'Precision@10': 0.006513898055346646,\n 'recall@10': 0.02207127349822488,\n 'ndcg@10': 0.006255680840216085,\n 'map@10': 0.0057804973625402885,\n 'novelty@10': 10.282676460553644}"
     },
     "execution_count": 28,
     "metadata": {},
     "output_type": "execute_result"
    }
   ],
   "source": [
    "# Считаем метрики\n",
    "def calc_metrics_(candidates_df, rank_col: str) -> Dict[str, float]:\n",
    "    metrics = {\n",
    "        \"ndcg@10\": NDCG(k=10),\n",
    "        \"map@10\": MAP(k=10),\n",
    "        \"Precision@10\": Precision(k=10),\n",
    "        \"recall@10\": Recall(k=10),\n",
    "        \"novelty@10\": MeanInvUserFreq(k=10),\n",
    "    }\n",
    "    return calc_metrics(\n",
    "        metrics=metrics,\n",
    "        reco=(\n",
    "            candidates_df.rename(columns={rank_col: Columns.Rank})[[Columns.User, Columns.Item, Columns.Rank]][\n",
    "                candidates_df[Columns.User].isin(test_users)\n",
    "            ]\n",
    "        ),\n",
    "        interactions=(\n",
    "            ranker_data[[Columns.User, Columns.Item, Columns.Datetime, Columns.Weight]][\n",
    "                ranker_data[Columns.User].isin(test_users)\n",
    "            ]\n",
    "        ),\n",
    "        prev_interactions=(\n",
    "            base_models_data[[Columns.User, Columns.Item, Columns.Datetime, Columns.Weight]][\n",
    "                base_models_data[Columns.User].isin(test_users)\n",
    "            ]\n",
    "        ),\n",
    "        catalog=items[\"item_id\"].unique(),\n",
    "    )\n",
    "\n",
    "\n",
    "models_metrics: Dict[str, Dict[str, float]] = dict()\n",
    "models_metrics[\"lfm\"] = calc_metrics_(candidates, \"lfm_rank\")\n",
    "models_metrics[\"lfm\"]"
   ]
  },
  {
   "cell_type": "code",
   "execution_count": 29,
   "outputs": [
    {
     "data": {
      "text/plain": "{'Precision@10': 0.010579712369346001,\n 'recall@10': 0.03849818469786577,\n 'ndcg@10': 0.01703404691581336,\n 'map@10': 0.02536087006498902,\n 'novelty@10': 2.089106377567239}"
     },
     "execution_count": 29,
     "metadata": {},
     "output_type": "execute_result"
    }
   ],
   "source": [
    "models_metrics[\"pop\"] = calc_metrics_(candidates, \"pop_rank\")\n",
    "models_metrics[\"pop\"]"
   ],
   "metadata": {
    "collapsed": false,
    "ExecuteTime": {
     "end_time": "2023-12-19T21:08:10.392422Z",
     "start_time": "2023-12-19T21:08:06.795028Z"
    }
   }
  },
  {
   "cell_type": "markdown",
   "metadata": {},
   "source": [
    "### Генерим фичи для ранкера"
   ]
  },
  {
   "cell_type": "code",
   "execution_count": 30,
   "metadata": {
    "ExecuteTime": {
     "end_time": "2023-12-19T21:08:33.190927Z",
     "start_time": "2023-12-19T21:08:31.609704Z"
    }
   },
   "outputs": [
    {
     "data": {
      "text/plain": "   user_id  item_id   datetime  total_dur  weight  user_hist  item_pop  \\\n0        0     6006 2021-07-20          1     0.0          6      5208   \n1        0     7102 2021-07-19        169     3.0          6     11626   \n2        0    14359 2021-07-19        130     2.0          6      6053   \n\n   user_avg_pop  item_avg_hist  user_last_pop  \n0       41885.0      16.891897           5208  \n1       41885.0      20.349475           5208  \n2       41885.0      22.546836           5208  ",
      "text/html": "<div>\n<style scoped>\n    .dataframe tbody tr th:only-of-type {\n        vertical-align: middle;\n    }\n\n    .dataframe tbody tr th {\n        vertical-align: top;\n    }\n\n    .dataframe thead th {\n        text-align: right;\n    }\n</style>\n<table border=\"1\" class=\"dataframe\">\n  <thead>\n    <tr style=\"text-align: right;\">\n      <th></th>\n      <th>user_id</th>\n      <th>item_id</th>\n      <th>datetime</th>\n      <th>total_dur</th>\n      <th>weight</th>\n      <th>user_hist</th>\n      <th>item_pop</th>\n      <th>user_avg_pop</th>\n      <th>item_avg_hist</th>\n      <th>user_last_pop</th>\n    </tr>\n  </thead>\n  <tbody>\n    <tr>\n      <th>0</th>\n      <td>0</td>\n      <td>6006</td>\n      <td>2021-07-20</td>\n      <td>1</td>\n      <td>0.0</td>\n      <td>6</td>\n      <td>5208</td>\n      <td>41885.0</td>\n      <td>16.891897</td>\n      <td>5208</td>\n    </tr>\n    <tr>\n      <th>1</th>\n      <td>0</td>\n      <td>7102</td>\n      <td>2021-07-19</td>\n      <td>169</td>\n      <td>3.0</td>\n      <td>6</td>\n      <td>11626</td>\n      <td>41885.0</td>\n      <td>20.349475</td>\n      <td>5208</td>\n    </tr>\n    <tr>\n      <th>2</th>\n      <td>0</td>\n      <td>14359</td>\n      <td>2021-07-19</td>\n      <td>130</td>\n      <td>2.0</td>\n      <td>6</td>\n      <td>6053</td>\n      <td>41885.0</td>\n      <td>22.546836</td>\n      <td>5208</td>\n    </tr>\n  </tbody>\n</table>\n</div>"
     },
     "execution_count": 30,
     "metadata": {},
     "output_type": "execute_result"
    }
   ],
   "source": [
    "# Получаем длину истории юзера\n",
    "base_models_data[\"user_hist\"] = base_models_data.groupby(\"user_id\")[\"item_id\"].transform(\"count\")\n",
    "# Получаем популярность контента\n",
    "base_models_data[\"item_pop\"] = base_models_data.groupby(\"item_id\")[\"user_id\"].transform(\"count\")\n",
    "# Получаем среднюю популярность контента, просматриваемого этим юзером\n",
    "base_models_data[\"user_avg_pop\"] = base_models_data.groupby(\"user_id\")[\"item_pop\"].transform(\"mean\")\n",
    "# Получаем среднюю длину истории пользователя, которые смотрит этот контент\n",
    "base_models_data[\"item_avg_hist\"] = base_models_data.groupby(\"item_id\")[\"user_hist\"].transform(\"mean\")\n",
    "# Получаем популярность последнего просмотренного контента\n",
    "base_models_data.sort_values(\n",
    "    by=[Columns.User, Columns.Datetime],\n",
    "    ascending=[True, False],\n",
    "    ignore_index=True,\n",
    "    inplace=True,\n",
    ")\n",
    "base_models_data[\"user_last_pop\"] = base_models_data.groupby(\"user_id\")[\"item_pop\"].transform(\"first\")\n",
    "base_models_data.head(3)"
   ]
  },
  {
   "cell_type": "code",
   "execution_count": 31,
   "metadata": {
    "ExecuteTime": {
     "end_time": "2023-12-19T21:08:34.398567Z",
     "start_time": "2023-12-19T21:08:33.881378Z"
    }
   },
   "outputs": [
    {
     "data": {
      "text/plain": "   user_id age income sex kids_flg  user_hist  user_avg_pop  user_last_pop\n0   973171   1      4   1        1        5.0  19550.800000        93403.0\n1   962099   0      2   1        0       13.0   1329.307692          260.0\n2  1047345   3      3   0        0        NaN           NaN            NaN",
      "text/html": "<div>\n<style scoped>\n    .dataframe tbody tr th:only-of-type {\n        vertical-align: middle;\n    }\n\n    .dataframe tbody tr th {\n        vertical-align: top;\n    }\n\n    .dataframe thead th {\n        text-align: right;\n    }\n</style>\n<table border=\"1\" class=\"dataframe\">\n  <thead>\n    <tr style=\"text-align: right;\">\n      <th></th>\n      <th>user_id</th>\n      <th>age</th>\n      <th>income</th>\n      <th>sex</th>\n      <th>kids_flg</th>\n      <th>user_hist</th>\n      <th>user_avg_pop</th>\n      <th>user_last_pop</th>\n    </tr>\n  </thead>\n  <tbody>\n    <tr>\n      <th>0</th>\n      <td>973171</td>\n      <td>1</td>\n      <td>4</td>\n      <td>1</td>\n      <td>1</td>\n      <td>5.0</td>\n      <td>19550.800000</td>\n      <td>93403.0</td>\n    </tr>\n    <tr>\n      <th>1</th>\n      <td>962099</td>\n      <td>0</td>\n      <td>2</td>\n      <td>1</td>\n      <td>0</td>\n      <td>13.0</td>\n      <td>1329.307692</td>\n      <td>260.0</td>\n    </tr>\n    <tr>\n      <th>2</th>\n      <td>1047345</td>\n      <td>3</td>\n      <td>3</td>\n      <td>0</td>\n      <td>0</td>\n      <td>NaN</td>\n      <td>NaN</td>\n      <td>NaN</td>\n    </tr>\n  </tbody>\n</table>\n</div>"
     },
     "execution_count": 31,
     "metadata": {},
     "output_type": "execute_result"
    }
   ],
   "source": [
    "# Добавляем новые фичи в соответствующие таблички\n",
    "items = pd.merge(\n",
    "    left=items,\n",
    "    right=(base_models_data[[\"item_id\", \"item_pop\", \"item_avg_hist\"]].drop_duplicates()),\n",
    "    how=\"left\",\n",
    "    on=\"item_id\",\n",
    ")\n",
    "\n",
    "users = pd.merge(\n",
    "    left=users,\n",
    "    right=(base_models_data[[\"user_id\", \"user_hist\", \"user_avg_pop\", \"user_last_pop\"]].drop_duplicates()),\n",
    "    how=\"left\",\n",
    "    on=\"user_id\",\n",
    ")\n",
    "users.head(3)"
   ]
  },
  {
   "cell_type": "code",
   "execution_count": 32,
   "metadata": {
    "ExecuteTime": {
     "end_time": "2023-12-19T21:08:35.009679Z",
     "start_time": "2023-12-19T21:08:34.848060Z"
    }
   },
   "outputs": [],
   "source": [
    "# Обновляем дефолтные значения\n",
    "# Прямо сейчас обновлять таблички users и items не обязательно,\n",
    "# сделаем это при джойне с кандидатами\n",
    "\n",
    "# Для новых фичей айтемов\n",
    "default_values_items[\"item_pop\"] = base_models_data[\"item_pop\"].median()\n",
    "default_values_items[\"item_avg_hist\"] = base_models_data[\"item_avg_hist\"].median()\n",
    "\n",
    "# Для новых фичей юзеров\n",
    "default_values_users = {\n",
    "    \"user_hist\": 0,\n",
    "    \"user_avg_pop\": base_models_data[\"user_avg_pop\"].median(),\n",
    "    \"user_last_pop\": base_models_data[\"user_last_pop\"].median(),\n",
    "}"
   ]
  },
  {
   "cell_type": "markdown",
   "metadata": {},
   "source": [
    "### Джойним кандидатов и юзер/айтем фичи"
   ]
  },
  {
   "cell_type": "code",
   "execution_count": 34,
   "metadata": {
    "ExecuteTime": {
     "end_time": "2023-12-19T21:08:48.146616Z",
     "start_time": "2023-12-19T21:08:48.087335Z"
    }
   },
   "outputs": [
    {
     "data": {
      "text/plain": "   user_id  item_id  lfm_score  lfm_rank  pop_score  pop_rank\n0   176549    12365   0.001082         1      521.0    1211.0\n1   176549     2150   0.001069         2       14.0    6563.0\n2   176549    13865   0.000992         3    93403.0       3.0",
      "text/html": "<div>\n<style scoped>\n    .dataframe tbody tr th:only-of-type {\n        vertical-align: middle;\n    }\n\n    .dataframe tbody tr th {\n        vertical-align: top;\n    }\n\n    .dataframe thead th {\n        text-align: right;\n    }\n</style>\n<table border=\"1\" class=\"dataframe\">\n  <thead>\n    <tr style=\"text-align: right;\">\n      <th></th>\n      <th>user_id</th>\n      <th>item_id</th>\n      <th>lfm_score</th>\n      <th>lfm_rank</th>\n      <th>pop_score</th>\n      <th>pop_rank</th>\n    </tr>\n  </thead>\n  <tbody>\n    <tr>\n      <th>0</th>\n      <td>176549</td>\n      <td>12365</td>\n      <td>0.001082</td>\n      <td>1</td>\n      <td>521.0</td>\n      <td>1211.0</td>\n    </tr>\n    <tr>\n      <th>1</th>\n      <td>176549</td>\n      <td>2150</td>\n      <td>0.001069</td>\n      <td>2</td>\n      <td>14.0</td>\n      <td>6563.0</td>\n    </tr>\n    <tr>\n      <th>2</th>\n      <td>176549</td>\n      <td>13865</td>\n      <td>0.000992</td>\n      <td>3</td>\n      <td>93403.0</td>\n      <td>3.0</td>\n    </tr>\n  </tbody>\n</table>\n</div>"
     },
     "execution_count": 34,
     "metadata": {},
     "output_type": "execute_result"
    }
   ],
   "source": [
    "# Загружаем список айтемов-кандидатов.\n",
    "# Модель lightfm нам больше не понадобится\n",
    "\n",
    "# candidates = pd.read_csv('../data/candidates.csv')\n",
    "candidates.head(3)"
   ]
  },
  {
   "cell_type": "code",
   "execution_count": 35,
   "metadata": {
    "ExecuteTime": {
     "end_time": "2023-12-19T21:09:00.364234Z",
     "start_time": "2023-12-19T21:08:54.162781Z"
    }
   },
   "outputs": [
    {
     "data": {
      "text/plain": "         user_id  item_id   datetime  total_dur  weight  lfm_score  lfm_rank  \\\n1180642        3       47 2021-08-16     2179.0    27.0  -0.012017      51.0   \n998971         3      142 2021-08-13     5892.0   100.0  -0.012017      51.0   \n1067328        3      965 2021-08-16     5813.0    96.0  -0.012017      51.0   \n\n         pop_score  pop_rank  \n1180642        NaN       NaN  \n998971         NaN       NaN  \n1067328        NaN       NaN  ",
      "text/html": "<div>\n<style scoped>\n    .dataframe tbody tr th:only-of-type {\n        vertical-align: middle;\n    }\n\n    .dataframe tbody tr th {\n        vertical-align: top;\n    }\n\n    .dataframe thead th {\n        text-align: right;\n    }\n</style>\n<table border=\"1\" class=\"dataframe\">\n  <thead>\n    <tr style=\"text-align: right;\">\n      <th></th>\n      <th>user_id</th>\n      <th>item_id</th>\n      <th>datetime</th>\n      <th>total_dur</th>\n      <th>weight</th>\n      <th>lfm_score</th>\n      <th>lfm_rank</th>\n      <th>pop_score</th>\n      <th>pop_rank</th>\n    </tr>\n  </thead>\n  <tbody>\n    <tr>\n      <th>1180642</th>\n      <td>3</td>\n      <td>47</td>\n      <td>2021-08-16</td>\n      <td>2179.0</td>\n      <td>27.0</td>\n      <td>-0.012017</td>\n      <td>51.0</td>\n      <td>NaN</td>\n      <td>NaN</td>\n    </tr>\n    <tr>\n      <th>998971</th>\n      <td>3</td>\n      <td>142</td>\n      <td>2021-08-13</td>\n      <td>5892.0</td>\n      <td>100.0</td>\n      <td>-0.012017</td>\n      <td>51.0</td>\n      <td>NaN</td>\n      <td>NaN</td>\n    </tr>\n    <tr>\n      <th>1067328</th>\n      <td>3</td>\n      <td>965</td>\n      <td>2021-08-16</td>\n      <td>5813.0</td>\n      <td>96.0</td>\n      <td>-0.012017</td>\n      <td>51.0</td>\n      <td>NaN</td>\n      <td>NaN</td>\n    </tr>\n  </tbody>\n</table>\n</div>"
     },
     "execution_count": 35,
     "metadata": {},
     "output_type": "execute_result"
    }
   ],
   "source": [
    "# Вспоминаем про наши выборки интеракций для ранкера.\n",
    "# Мы отобрали юзеров для обучения, валидации и теста.\n",
    "# Оставляем среди них только тех, для кого есть и рекомы и таргеты\n",
    "\n",
    "\n",
    "def users_filter(\n",
    "    user_list: np.ndarray,\n",
    "    candidates_df: pd.DataFrame,\n",
    "    df: pd.DataFrame,\n",
    ") -> pd.DataFrame:\n",
    "    # Джойним интеракции на наших кандидатов для юзеров из трейна, вал и теста\n",
    "    df = pd.merge(\n",
    "        df[df[\"user_id\"].isin(user_list)],\n",
    "        candidates_df[candidates_df[\"user_id\"].isin(user_list)],\n",
    "        how=\"outer\",  # right ?\n",
    "        on=[\"user_id\", \"item_id\"],\n",
    "    )\n",
    "    # Проставляем дефолтные значения интеракций\n",
    "    min_score: float = df[\"lfm_score\"].min() - 0.01\n",
    "    max_rank: int = df[\"lfm_rank\"].max() + 1  # 101\n",
    "\n",
    "    default_values = {\n",
    "        \"lfm_score\": min_score,\n",
    "        \"lfm_rank\": max_rank,\n",
    "        # Важно использовате те же дефолтные значения для интеракций,\n",
    "        # чтобы не сделать утечку\n",
    "        **interactions_default_values,\n",
    "    }\n",
    "    df.fillna(default_values, inplace=True)\n",
    "\n",
    "    # Сортируем по user_id - это пригодится для вычисления рангов и групп для ранжирования\n",
    "    df.sort_values(\n",
    "        by=[\"user_id\", \"item_id\"],\n",
    "        inplace=True,\n",
    "    )\n",
    "    return df\n",
    "\n",
    "\n",
    "ranker_train = users_filter(train_users, candidates, ranker_data)\n",
    "ranker_val = users_filter(val_users, candidates, ranker_data)\n",
    "ranker_test = users_filter(test_users, candidates, ranker_data)\n",
    "\n",
    "ranker_train.head(3)"
   ]
  },
  {
   "cell_type": "code",
   "execution_count": 36,
   "metadata": {
    "ExecuteTime": {
     "end_time": "2023-12-19T21:09:10.143769Z",
     "start_time": "2023-12-19T21:09:06.666291Z"
    }
   },
   "outputs": [
    {
     "data": {
      "text/plain": "   user_id  item_id   datetime  total_dur  weight  lfm_score  lfm_rank  \\\n0        3       47 2021-08-16     2179.0    27.0  -0.012017      51.0   \n1        3      142 2021-08-13     5892.0   100.0  -0.012017      51.0   \n2        3      965 2021-08-16     5813.0    96.0  -0.012017      51.0   \n\n   pop_score  pop_rank age  ... user_hist  user_avg_pop user_last_pop  \\\n0        NaN       NaN  -1  ...       0.0  11957.864865        2858.0   \n1        NaN       NaN  -1  ...       0.0  11957.864865        2858.0   \n2        NaN       NaN  -1  ...       0.0  11957.864865        2858.0   \n\n   content_type  release_year  for_kids age_rating  studios item_pop  \\\n0             0        2017.0        -1       18.0       -1   1249.0   \n1             0        2020.0        -1       16.0       -1  35862.0   \n2             0        2018.0        -1       12.0       -1    536.0   \n\n   item_avg_hist  \n0      38.180144  \n1      15.251464  \n2      29.130597  \n\n[3 rows x 23 columns]",
      "text/html": "<div>\n<style scoped>\n    .dataframe tbody tr th:only-of-type {\n        vertical-align: middle;\n    }\n\n    .dataframe tbody tr th {\n        vertical-align: top;\n    }\n\n    .dataframe thead th {\n        text-align: right;\n    }\n</style>\n<table border=\"1\" class=\"dataframe\">\n  <thead>\n    <tr style=\"text-align: right;\">\n      <th></th>\n      <th>user_id</th>\n      <th>item_id</th>\n      <th>datetime</th>\n      <th>total_dur</th>\n      <th>weight</th>\n      <th>lfm_score</th>\n      <th>lfm_rank</th>\n      <th>pop_score</th>\n      <th>pop_rank</th>\n      <th>age</th>\n      <th>...</th>\n      <th>user_hist</th>\n      <th>user_avg_pop</th>\n      <th>user_last_pop</th>\n      <th>content_type</th>\n      <th>release_year</th>\n      <th>for_kids</th>\n      <th>age_rating</th>\n      <th>studios</th>\n      <th>item_pop</th>\n      <th>item_avg_hist</th>\n    </tr>\n  </thead>\n  <tbody>\n    <tr>\n      <th>0</th>\n      <td>3</td>\n      <td>47</td>\n      <td>2021-08-16</td>\n      <td>2179.0</td>\n      <td>27.0</td>\n      <td>-0.012017</td>\n      <td>51.0</td>\n      <td>NaN</td>\n      <td>NaN</td>\n      <td>-1</td>\n      <td>...</td>\n      <td>0.0</td>\n      <td>11957.864865</td>\n      <td>2858.0</td>\n      <td>0</td>\n      <td>2017.0</td>\n      <td>-1</td>\n      <td>18.0</td>\n      <td>-1</td>\n      <td>1249.0</td>\n      <td>38.180144</td>\n    </tr>\n    <tr>\n      <th>1</th>\n      <td>3</td>\n      <td>142</td>\n      <td>2021-08-13</td>\n      <td>5892.0</td>\n      <td>100.0</td>\n      <td>-0.012017</td>\n      <td>51.0</td>\n      <td>NaN</td>\n      <td>NaN</td>\n      <td>-1</td>\n      <td>...</td>\n      <td>0.0</td>\n      <td>11957.864865</td>\n      <td>2858.0</td>\n      <td>0</td>\n      <td>2020.0</td>\n      <td>-1</td>\n      <td>16.0</td>\n      <td>-1</td>\n      <td>35862.0</td>\n      <td>15.251464</td>\n    </tr>\n    <tr>\n      <th>2</th>\n      <td>3</td>\n      <td>965</td>\n      <td>2021-08-16</td>\n      <td>5813.0</td>\n      <td>96.0</td>\n      <td>-0.012017</td>\n      <td>51.0</td>\n      <td>NaN</td>\n      <td>NaN</td>\n      <td>-1</td>\n      <td>...</td>\n      <td>0.0</td>\n      <td>11957.864865</td>\n      <td>2858.0</td>\n      <td>0</td>\n      <td>2018.0</td>\n      <td>-1</td>\n      <td>12.0</td>\n      <td>-1</td>\n      <td>536.0</td>\n      <td>29.130597</td>\n    </tr>\n  </tbody>\n</table>\n<p>3 rows × 23 columns</p>\n</div>"
     },
     "execution_count": 36,
     "metadata": {},
     "output_type": "execute_result"
    }
   ],
   "source": [
    "# Добавляем фичи\n",
    "def add_features(df: pd.DataFrame) -> pd.DataFrame:\n",
    "    df = pd.merge(df, users, how=\"left\", on=[\"user_id\"])\n",
    "    df = pd.merge(df, items, how=\"left\", on=[\"item_id\"])\n",
    "\n",
    "    # При джойне могут получиться строки с несуществующими айтемами или юзерами.\n",
    "    # Надо заполнить пропуски. Используем заготовленные дефолтные значения,\n",
    "    # чтобы не сделать утечку\n",
    "    df.fillna(default_values_items, inplace=True)\n",
    "    df.fillna(default_values_users, inplace=True)\n",
    "\n",
    "    # Категориальные фичи закодированы пандасом так, что None === -1\n",
    "    # Если изначально пропусков не было, то нужно добавить такое значение категории\n",
    "    for col in df.columns:\n",
    "        if isinstance(df[col].dtype, pd.CategoricalDtype):\n",
    "            if -1 not in df[col].cat.categories:\n",
    "                df[col] = df[col].cat.add_categories(-1)\n",
    "            df.fillna({col: -1}, inplace=True)\n",
    "    return df\n",
    "\n",
    "\n",
    "# Не забываем добавить фичи в трейн, вал и тест\n",
    "# Еще правильнее бы было сначала подготовить датасет,\n",
    "# а потом его разбивать по юзерам - так бы мы избежали дублирования операций.\n",
    "ranker_train = add_features(ranker_train)\n",
    "ranker_val = add_features(ranker_val)\n",
    "ranker_test = add_features(ranker_test)\n",
    "\n",
    "ranker_train.head(3)"
   ]
  },
  {
   "cell_type": "code",
   "execution_count": 38,
   "metadata": {
    "ExecuteTime": {
     "end_time": "2023-12-19T21:10:30.692676Z",
     "start_time": "2023-12-19T21:09:20.325728Z"
    }
   },
   "outputs": [],
   "source": [
    "# Датасеты готовы, остались только таргеты,\n",
    "# которые можно посчитать на основе колонок total_dur и watched_pct\n",
    "\n",
    "# Делаем еще один чекпоинт.\n",
    "\n",
    "# Не пользуемся методом eval если точно не знаем, что за строка.\n",
    "# Он не безопасен и долго работает.\n",
    "# Можно заменить на locals()[name]\n",
    "for name in [\"train\", \"val\", \"test\"]:\n",
    "    path: str = f\"../data/ranker_{name}.csv\"\n",
    "    # eval(f'ranker_{name}').to_csv(path, index=False)\n",
    "    locals()[f\"ranker_{name}\"].to_csv(path, index=False)"
   ]
  },
  {
   "cell_type": "code",
   "execution_count": 39,
   "outputs": [],
   "source": [
    "# Загружаем данные\n",
    "for name in [\"train\", \"val\", \"test\"]:\n",
    "    path: str = f\"../data/ranker_{name}.csv\"\n",
    "    locals()[f\"ranker_{name}\"] = pd.read_csv(path)"
   ],
   "metadata": {
    "collapsed": false
   }
  },
  {
   "cell_type": "code",
   "execution_count": 40,
   "outputs": [
    {
     "data": {
      "text/plain": "   user_id  item_id    datetime  total_dur  weight  lfm_score  lfm_rank  \\\n0        3       47  2021-08-16     2179.0    27.0  -0.012017      51.0   \n1        3      142  2021-08-13     5892.0   100.0  -0.012017      51.0   \n2        3      965  2021-08-16     5813.0    96.0  -0.012017      51.0   \n\n   pop_score  pop_rank  age  ...  user_avg_pop  user_last_pop  content_type  \\\n0        NaN       NaN   -1  ...  11957.864865         2858.0             0   \n1        NaN       NaN   -1  ...  11957.864865         2858.0             0   \n2        NaN       NaN   -1  ...  11957.864865         2858.0             0   \n\n   release_year  for_kids  age_rating  studios  item_pop  item_avg_hist  \\\n0        2017.0        -1        18.0       -1    1249.0      38.180144   \n1        2020.0        -1        16.0       -1   35862.0      15.251464   \n2        2018.0        -1        12.0       -1     536.0      29.130597   \n\n   target  \n0       0  \n1       1  \n2       1  \n\n[3 rows x 24 columns]",
      "text/html": "<div>\n<style scoped>\n    .dataframe tbody tr th:only-of-type {\n        vertical-align: middle;\n    }\n\n    .dataframe tbody tr th {\n        vertical-align: top;\n    }\n\n    .dataframe thead th {\n        text-align: right;\n    }\n</style>\n<table border=\"1\" class=\"dataframe\">\n  <thead>\n    <tr style=\"text-align: right;\">\n      <th></th>\n      <th>user_id</th>\n      <th>item_id</th>\n      <th>datetime</th>\n      <th>total_dur</th>\n      <th>weight</th>\n      <th>lfm_score</th>\n      <th>lfm_rank</th>\n      <th>pop_score</th>\n      <th>pop_rank</th>\n      <th>age</th>\n      <th>...</th>\n      <th>user_avg_pop</th>\n      <th>user_last_pop</th>\n      <th>content_type</th>\n      <th>release_year</th>\n      <th>for_kids</th>\n      <th>age_rating</th>\n      <th>studios</th>\n      <th>item_pop</th>\n      <th>item_avg_hist</th>\n      <th>target</th>\n    </tr>\n  </thead>\n  <tbody>\n    <tr>\n      <th>0</th>\n      <td>3</td>\n      <td>47</td>\n      <td>2021-08-16</td>\n      <td>2179.0</td>\n      <td>27.0</td>\n      <td>-0.012017</td>\n      <td>51.0</td>\n      <td>NaN</td>\n      <td>NaN</td>\n      <td>-1</td>\n      <td>...</td>\n      <td>11957.864865</td>\n      <td>2858.0</td>\n      <td>0</td>\n      <td>2017.0</td>\n      <td>-1</td>\n      <td>18.0</td>\n      <td>-1</td>\n      <td>1249.0</td>\n      <td>38.180144</td>\n      <td>0</td>\n    </tr>\n    <tr>\n      <th>1</th>\n      <td>3</td>\n      <td>142</td>\n      <td>2021-08-13</td>\n      <td>5892.0</td>\n      <td>100.0</td>\n      <td>-0.012017</td>\n      <td>51.0</td>\n      <td>NaN</td>\n      <td>NaN</td>\n      <td>-1</td>\n      <td>...</td>\n      <td>11957.864865</td>\n      <td>2858.0</td>\n      <td>0</td>\n      <td>2020.0</td>\n      <td>-1</td>\n      <td>16.0</td>\n      <td>-1</td>\n      <td>35862.0</td>\n      <td>15.251464</td>\n      <td>1</td>\n    </tr>\n    <tr>\n      <th>2</th>\n      <td>3</td>\n      <td>965</td>\n      <td>2021-08-16</td>\n      <td>5813.0</td>\n      <td>96.0</td>\n      <td>-0.012017</td>\n      <td>51.0</td>\n      <td>NaN</td>\n      <td>NaN</td>\n      <td>-1</td>\n      <td>...</td>\n      <td>11957.864865</td>\n      <td>2858.0</td>\n      <td>0</td>\n      <td>2018.0</td>\n      <td>-1</td>\n      <td>12.0</td>\n      <td>-1</td>\n      <td>536.0</td>\n      <td>29.130597</td>\n      <td>1</td>\n    </tr>\n  </tbody>\n</table>\n<p>3 rows × 24 columns</p>\n</div>"
     },
     "execution_count": 40,
     "metadata": {},
     "output_type": "execute_result"
    }
   ],
   "source": [
    "# таргет бинарный, так что -\n",
    "# будем считать просмотр хорошим если доля досмотра больше половины\n",
    "\n",
    "\n",
    "def add_target(df: pd.DataFrame) -> pd.DataFrame:\n",
    "    df[\"target\"] = df[Columns.Weight] > 50  # 'watched_pct'\n",
    "    df[\"target\"] = df[\"target\"].astype(int)\n",
    "    return df\n",
    "\n",
    "\n",
    "ranker_train = add_target(ranker_train)\n",
    "ranker_val = add_target(ranker_val)\n",
    "ranker_test = add_target(ranker_test)\n",
    "\n",
    "ranker_train.head(3)"
   ],
   "metadata": {
    "collapsed": false
   }
  },
  {
   "cell_type": "code",
   "execution_count": 41,
   "outputs": [],
   "source": [
    "# В train и val можно удалить 'плохих' пользователей,\n",
    "# Например тех у кого слишком много или мало просмотров или\n",
    "# тех для которых нет достаточного количества рекомендаций от LightFM\n",
    "# Тестовую группу не меняем\n",
    "\n",
    "\n",
    "def filter_group(df: pd.DataFrame) -> pd.DataFrame:\n",
    "    df.sort_values(\n",
    "        by=[\"user_id\", \"item_id\"],\n",
    "        inplace=True,\n",
    "    )\n",
    "    groups_df = df[[\"user_id\", \"item_id\"]].groupby(by=[\"user_id\"]).count().rename(columns={\"item_id\": \"group_size\"})\n",
    "    df = pd.merge(df, groups_df, how=\"left\", on=[\"user_id\"])\n",
    "    # Удаляем группы, без достаточного числа просмотров/кандидатов\n",
    "    df = df[df[\"group_size\"] >= 100]\n",
    "\n",
    "    # Колонка больше не нужна\n",
    "    df.drop(columns=[\"group_size\"], inplace=True)\n",
    "    return df\n",
    "\n",
    "\n",
    "ranker_train = filter_group(ranker_train)\n",
    "ranker_val = filter_group(ranker_val)\n",
    "# ranker_test = filter_group(ranker_test)"
   ],
   "metadata": {
    "collapsed": false
   }
  },
  {
   "cell_type": "code",
   "execution_count": 42,
   "outputs": [
    {
     "data": {
      "text/plain": "Index(['user_id', 'item_id', 'datetime', 'total_dur', 'weight', 'lfm_score',\n       'lfm_rank', 'pop_score', 'pop_rank', 'age', 'income', 'sex', 'kids_flg',\n       'user_hist', 'user_avg_pop', 'user_last_pop', 'content_type',\n       'release_year', 'for_kids', 'age_rating', 'studios', 'item_pop',\n       'item_avg_hist', 'target'],\n      dtype='object')"
     },
     "execution_count": 42,
     "metadata": {},
     "output_type": "execute_result"
    }
   ],
   "source": [
    "# Вспоминаем какие есть колонки\n",
    "ranker_train.columns"
   ],
   "metadata": {
    "collapsed": false
   }
  },
  {
   "cell_type": "code",
   "execution_count": 43,
   "metadata": {
    "ExecuteTime": {
     "end_time": "2023-12-19T21:11:00.336596Z",
     "start_time": "2023-12-19T21:11:00.316546Z"
    }
   },
   "outputs": [],
   "source": [
    "# Убираем ненужные айдишники, временные метки и таргеты.\n",
    "# Для обучения используются только cols:\n",
    "cols = [\n",
    "    \"lfm_score\",\n",
    "    \"lfm_rank\",\n",
    "    \"age\",\n",
    "    \"income\",\n",
    "    \"sex\",\n",
    "    \"kids_flg\",\n",
    "    \"user_hist\",\n",
    "    \"user_avg_pop\",\n",
    "    \"user_last_pop\",\n",
    "    \"content_type\",\n",
    "    \"release_year\",\n",
    "    \"for_kids\",\n",
    "    \"age_rating\",\n",
    "    \"studios\",\n",
    "    \"item_pop\",\n",
    "    \"item_avg_hist\",\n",
    "]\n",
    "# Из них категориальные:\n",
    "cat_cols = [\n",
    "    \"age\",\n",
    "    \"income\",\n",
    "    \"sex\",\n",
    "    \"kids_flg\",\n",
    "    \"content_type\",\n",
    "    \"for_kids\",\n",
    "    \"studios\",\n",
    "]"
   ]
  },
  {
   "cell_type": "code",
   "execution_count": 81,
   "metadata": {
    "ExecuteTime": {
     "end_time": "2023-12-19T21:23:06.498990Z",
     "start_time": "2023-12-19T21:23:06.109642Z"
    }
   },
   "outputs": [
    {
     "data": {
      "text/plain": "   user_id  item_id    datetime  total_dur  weight  lfm_score  lfm_rank  \\\n0        1     3669  2021-08-16     1593.0    26.0  -0.012017      51.0   \n1        1    10440  2021-08-13    19579.0    80.0  -0.012017      51.0   \n2       12      846  2021-08-21     5929.0    18.0  -0.012017      51.0   \n\n   pop_score  pop_rank  age  ...  for_kids  age_rating  studios  item_pop  \\\n0        NaN       NaN    1  ...        -1        18.0       -1    2846.0   \n1        NaN       NaN    1  ...        -1        18.0       -1  141889.0   \n2        NaN       NaN   -1  ...         0        16.0       -1     528.0   \n\n   item_avg_hist  target  pointwise_score  pointwise_rank  \\\n0      22.675978       0         0.402558               1   \n1       8.068716       1         0.363104               2   \n2      22.799242       0         0.267182               1   \n\n   pointwise_hybrid_score  pointwise_hybrid_rank  \n0                0.402558                      1  \n1                0.363104                      2  \n2                0.267182                      1  \n\n[3 rows x 28 columns]",
      "text/html": "<div>\n<style scoped>\n    .dataframe tbody tr th:only-of-type {\n        vertical-align: middle;\n    }\n\n    .dataframe tbody tr th {\n        vertical-align: top;\n    }\n\n    .dataframe thead th {\n        text-align: right;\n    }\n</style>\n<table border=\"1\" class=\"dataframe\">\n  <thead>\n    <tr style=\"text-align: right;\">\n      <th></th>\n      <th>user_id</th>\n      <th>item_id</th>\n      <th>datetime</th>\n      <th>total_dur</th>\n      <th>weight</th>\n      <th>lfm_score</th>\n      <th>lfm_rank</th>\n      <th>pop_score</th>\n      <th>pop_rank</th>\n      <th>age</th>\n      <th>...</th>\n      <th>for_kids</th>\n      <th>age_rating</th>\n      <th>studios</th>\n      <th>item_pop</th>\n      <th>item_avg_hist</th>\n      <th>target</th>\n      <th>pointwise_score</th>\n      <th>pointwise_rank</th>\n      <th>pointwise_hybrid_score</th>\n      <th>pointwise_hybrid_rank</th>\n    </tr>\n  </thead>\n  <tbody>\n    <tr>\n      <th>0</th>\n      <td>1</td>\n      <td>3669</td>\n      <td>2021-08-16</td>\n      <td>1593.0</td>\n      <td>26.0</td>\n      <td>-0.012017</td>\n      <td>51.0</td>\n      <td>NaN</td>\n      <td>NaN</td>\n      <td>1</td>\n      <td>...</td>\n      <td>-1</td>\n      <td>18.0</td>\n      <td>-1</td>\n      <td>2846.0</td>\n      <td>22.675978</td>\n      <td>0</td>\n      <td>0.402558</td>\n      <td>1</td>\n      <td>0.402558</td>\n      <td>1</td>\n    </tr>\n    <tr>\n      <th>1</th>\n      <td>1</td>\n      <td>10440</td>\n      <td>2021-08-13</td>\n      <td>19579.0</td>\n      <td>80.0</td>\n      <td>-0.012017</td>\n      <td>51.0</td>\n      <td>NaN</td>\n      <td>NaN</td>\n      <td>1</td>\n      <td>...</td>\n      <td>-1</td>\n      <td>18.0</td>\n      <td>-1</td>\n      <td>141889.0</td>\n      <td>8.068716</td>\n      <td>1</td>\n      <td>0.363104</td>\n      <td>2</td>\n      <td>0.363104</td>\n      <td>2</td>\n    </tr>\n    <tr>\n      <th>2</th>\n      <td>12</td>\n      <td>846</td>\n      <td>2021-08-21</td>\n      <td>5929.0</td>\n      <td>18.0</td>\n      <td>-0.012017</td>\n      <td>51.0</td>\n      <td>NaN</td>\n      <td>NaN</td>\n      <td>-1</td>\n      <td>...</td>\n      <td>0</td>\n      <td>16.0</td>\n      <td>-1</td>\n      <td>528.0</td>\n      <td>22.799242</td>\n      <td>0</td>\n      <td>0.267182</td>\n      <td>1</td>\n      <td>0.267182</td>\n      <td>1</td>\n    </tr>\n  </tbody>\n</table>\n<p>3 rows × 28 columns</p>\n</div>"
     },
     "execution_count": 81,
     "metadata": {},
     "output_type": "execute_result"
    }
   ],
   "source": [
    "def add_score_and_rank(df: pd.DataFrame, y_pred_scores: np.ndarray, name: str) -> pd.DataFrame:\n",
    "    # Добавляем скор модели второго уровня\n",
    "    df[f\"{name}_score\"] = y_pred_scores\n",
    "    # Добавляем ранг модели второго уровня\n",
    "    df.sort_values(\n",
    "        by=[\"user_id\", f\"{name}_score\"],\n",
    "        ascending=[True, False],\n",
    "        inplace=True,\n",
    "    )\n",
    "    df[f\"{name}_rank\"] = df.groupby(\"user_id\").cumcount() + 1\n",
    "\n",
    "    # Исключаем айтемы, которые не были предсказаны на первом уровне\n",
    "    mask = (df[\"lfm_rank\"] < 101).to_numpy()\n",
    "    # Добавляем общий скор двухэтапной модели\n",
    "    eps: float = 0.001\n",
    "    min_score: float = min(y_pred_scores) - eps\n",
    "    df[f\"{name}_hybrid_score\"] = df[f\"{name}_score\"] * mask\n",
    "    df[f\"{name}_hybrid_score\"].replace(\n",
    "        0,\n",
    "        min_score,\n",
    "        inplace=True,\n",
    "    )\n",
    "    # Добавляем общий ранг двухэтапной модели\n",
    "    df[f\"{name}_hybrid_rank\"] = df[f\"{name}_rank\"] * mask\n",
    "    max_rank: int = 101\n",
    "    df[f\"{name}_hybrid_rank\"].replace(\n",
    "        0,\n",
    "        max_rank,\n",
    "        inplace=True,\n",
    "    )\n",
    "    return df\n",
    "\n",
    "\n",
    "ranker_test = add_score_and_rank(ranker_test, y_pred, \"pointwise\")\n",
    "ranker_test.head(3)"
   ]
  },
  {
   "cell_type": "code",
   "execution_count": 85,
   "metadata": {
    "ExecuteTime": {
     "end_time": "2023-12-19T21:23:43.374969Z",
     "start_time": "2023-12-19T21:23:43.359208Z"
    }
   },
   "outputs": [],
   "source": [
    "def filter_interations(df: pd.DataFrame) -> pd.DataFrame:\n",
    "    return df[df[\"lfm_rank\"] <= 100]\n",
    "\n",
    "\n",
    "ranker_train = filter_interations(ranker_train)\n",
    "ranker_val = filter_interations(ranker_val)"
   ]
  },
  {
   "cell_type": "markdown",
   "metadata": {},
   "source": [
    "### Pairwise/Listwise"
   ]
  },
  {
   "cell_type": "code",
   "execution_count": 108,
   "metadata": {
    "ExecuteTime": {
     "end_time": "2023-12-19T21:31:37.696373Z",
     "start_time": "2023-12-19T21:31:37.669307Z"
    }
   },
   "outputs": [],
   "source": [
    "def get_group(df: pd.DataFrame) -> np.ndarray:\n",
    "    return np.array(df[[\"user_id\", \"item_id\"]].groupby(by=[\"user_id\"]).count()[\"item_id\"])"
   ]
  },
  {
   "cell_type": "code",
   "execution_count": 109,
   "metadata": {
    "ExecuteTime": {
     "end_time": "2023-12-19T21:31:38.534755Z",
     "start_time": "2023-12-19T21:31:38.495774Z"
    }
   },
   "outputs": [
    {
     "data": {
      "text/plain": "      user_id  item_id    datetime  total_dur  weight  lfm_score  lfm_rank  \\\n6833      858       14  2021-08-07      153.0     0.0  -0.012017      51.0   \n6834      858      142  2021-07-31     5281.0   100.0  -0.012017      51.0   \n6835      858      232  2021-08-22      714.0     0.0  -0.012017      51.0   \n\n      pop_score  pop_rank  age  ...  user_last_pop  content_type  \\\n6833        NaN       NaN    1  ...         9473.0             1   \n6834        NaN       NaN    1  ...         9473.0             0   \n6835        NaN       NaN    1  ...         9473.0             1   \n\n      release_year  for_kids  age_rating  studios  item_pop  item_avg_hist  \\\n6833        2019.0        -1        16.0       -1    5675.0      17.167225   \n6834        2020.0        -1        16.0       -1   35862.0      15.251464   \n6835        2003.0        -1        16.0       -1    2846.0      22.675978   \n\n      target  target_ranker  \n6833       0              0  \n6834       1              2  \n6835       0              0  \n\n[3 rows x 25 columns]",
      "text/html": "<div>\n<style scoped>\n    .dataframe tbody tr th:only-of-type {\n        vertical-align: middle;\n    }\n\n    .dataframe tbody tr th {\n        vertical-align: top;\n    }\n\n    .dataframe thead th {\n        text-align: right;\n    }\n</style>\n<table border=\"1\" class=\"dataframe\">\n  <thead>\n    <tr style=\"text-align: right;\">\n      <th></th>\n      <th>user_id</th>\n      <th>item_id</th>\n      <th>datetime</th>\n      <th>total_dur</th>\n      <th>weight</th>\n      <th>lfm_score</th>\n      <th>lfm_rank</th>\n      <th>pop_score</th>\n      <th>pop_rank</th>\n      <th>age</th>\n      <th>...</th>\n      <th>user_last_pop</th>\n      <th>content_type</th>\n      <th>release_year</th>\n      <th>for_kids</th>\n      <th>age_rating</th>\n      <th>studios</th>\n      <th>item_pop</th>\n      <th>item_avg_hist</th>\n      <th>target</th>\n      <th>target_ranker</th>\n    </tr>\n  </thead>\n  <tbody>\n    <tr>\n      <th>6833</th>\n      <td>858</td>\n      <td>14</td>\n      <td>2021-08-07</td>\n      <td>153.0</td>\n      <td>0.0</td>\n      <td>-0.012017</td>\n      <td>51.0</td>\n      <td>NaN</td>\n      <td>NaN</td>\n      <td>1</td>\n      <td>...</td>\n      <td>9473.0</td>\n      <td>1</td>\n      <td>2019.0</td>\n      <td>-1</td>\n      <td>16.0</td>\n      <td>-1</td>\n      <td>5675.0</td>\n      <td>17.167225</td>\n      <td>0</td>\n      <td>0</td>\n    </tr>\n    <tr>\n      <th>6834</th>\n      <td>858</td>\n      <td>142</td>\n      <td>2021-07-31</td>\n      <td>5281.0</td>\n      <td>100.0</td>\n      <td>-0.012017</td>\n      <td>51.0</td>\n      <td>NaN</td>\n      <td>NaN</td>\n      <td>1</td>\n      <td>...</td>\n      <td>9473.0</td>\n      <td>0</td>\n      <td>2020.0</td>\n      <td>-1</td>\n      <td>16.0</td>\n      <td>-1</td>\n      <td>35862.0</td>\n      <td>15.251464</td>\n      <td>1</td>\n      <td>2</td>\n    </tr>\n    <tr>\n      <th>6835</th>\n      <td>858</td>\n      <td>232</td>\n      <td>2021-08-22</td>\n      <td>714.0</td>\n      <td>0.0</td>\n      <td>-0.012017</td>\n      <td>51.0</td>\n      <td>NaN</td>\n      <td>NaN</td>\n      <td>1</td>\n      <td>...</td>\n      <td>9473.0</td>\n      <td>1</td>\n      <td>2003.0</td>\n      <td>-1</td>\n      <td>16.0</td>\n      <td>-1</td>\n      <td>2846.0</td>\n      <td>22.675978</td>\n      <td>0</td>\n      <td>0</td>\n    </tr>\n  </tbody>\n</table>\n<p>3 rows × 25 columns</p>\n</div>"
     },
     "execution_count": 109,
     "metadata": {},
     "output_type": "execute_result"
    }
   ],
   "source": [
    "# Добавим таргет посложнее\n",
    "\n",
    "\n",
    "def add_target(df: pd.DataFrame) -> pd.DataFrame:\n",
    "    \"\"\"\n",
    "    0 - доля досмотра < 0.15\n",
    "    1 - 0.15 <= доля досмотра < 0.75\n",
    "    2 - 0.75 <= доля досмотра\n",
    "    \"\"\"\n",
    "    df[\"target_ranker\"] = (df[Columns.Weight] >= 15).astype(int)  # 'watched_pct'\n",
    "    df[\"target_ranker\"] += (df[Columns.Weight] >= 75).astype(int)\n",
    "    return df\n",
    "\n",
    "\n",
    "ranker_train = add_target(ranker_train)\n",
    "ranker_val = add_target(ranker_val)\n",
    "ranker_test = add_target(ranker_test)\n",
    "\n",
    "ranker_train.head(3)"
   ]
  },
  {
   "cell_type": "code",
   "execution_count": 111,
   "metadata": {
    "ExecuteTime": {
     "end_time": "2023-12-19T21:32:35.636332Z",
     "start_time": "2023-12-19T21:32:35.224704Z"
    }
   },
   "outputs": [
    {
     "name": "stdout",
     "output_type": "stream",
     "text": [
      "[0]\tvalidation_0-ndcg@32:0.59697\n",
      "[4]\tvalidation_0-ndcg@32:0.62553\n",
      "[8]\tvalidation_0-ndcg@32:0.63278\n",
      "[12]\tvalidation_0-ndcg@32:0.62642\n",
      "[16]\tvalidation_0-ndcg@32:0.62496\n",
      "[20]\tvalidation_0-ndcg@32:0.62549\n",
      "[24]\tvalidation_0-ndcg@32:0.62499\n",
      "[28]\tvalidation_0-ndcg@32:0.62367\n",
      "[32]\tvalidation_0-ndcg@32:0.62365\n",
      "[36]\tvalidation_0-ndcg@32:0.62493\n",
      "[40]\tvalidation_0-ndcg@32:0.62555\n"
     ]
    },
    {
     "data": {
      "text/plain": "XGBRanker(base_score=None, booster=None, callbacks=None, colsample_bylevel=None,\n          colsample_bynode=None, colsample_bytree=0.9, device=None,\n          early_stopping_rounds=None, enable_categorical=False,\n          eval_metric=None, feature_types=None, gamma=None, grow_policy=None,\n          importance_type=None, interaction_constraints=None,\n          learning_rate=0.25, max_bin=None, max_cat_threshold=None,\n          max_cat_to_onehot=None, max_delta_step=None, max_depth=4,\n          max_leaves=None, min_child_weight=100, missing=nan,\n          monotone_constraints=None, multi_strategy=None, n_estimators=10000,\n          n_jobs=None, num_parallel_tree=None, random_state=42, ...)",
      "text/html": "<style>#sk-container-id-5 {color: black;}#sk-container-id-5 pre{padding: 0;}#sk-container-id-5 div.sk-toggleable {background-color: white;}#sk-container-id-5 label.sk-toggleable__label {cursor: pointer;display: block;width: 100%;margin-bottom: 0;padding: 0.3em;box-sizing: border-box;text-align: center;}#sk-container-id-5 label.sk-toggleable__label-arrow:before {content: \"▸\";float: left;margin-right: 0.25em;color: #696969;}#sk-container-id-5 label.sk-toggleable__label-arrow:hover:before {color: black;}#sk-container-id-5 div.sk-estimator:hover label.sk-toggleable__label-arrow:before {color: black;}#sk-container-id-5 div.sk-toggleable__content {max-height: 0;max-width: 0;overflow: hidden;text-align: left;background-color: #f0f8ff;}#sk-container-id-5 div.sk-toggleable__content pre {margin: 0.2em;color: black;border-radius: 0.25em;background-color: #f0f8ff;}#sk-container-id-5 input.sk-toggleable__control:checked~div.sk-toggleable__content {max-height: 200px;max-width: 100%;overflow: auto;}#sk-container-id-5 input.sk-toggleable__control:checked~label.sk-toggleable__label-arrow:before {content: \"▾\";}#sk-container-id-5 div.sk-estimator input.sk-toggleable__control:checked~label.sk-toggleable__label {background-color: #d4ebff;}#sk-container-id-5 div.sk-label input.sk-toggleable__control:checked~label.sk-toggleable__label {background-color: #d4ebff;}#sk-container-id-5 input.sk-hidden--visually {border: 0;clip: rect(1px 1px 1px 1px);clip: rect(1px, 1px, 1px, 1px);height: 1px;margin: -1px;overflow: hidden;padding: 0;position: absolute;width: 1px;}#sk-container-id-5 div.sk-estimator {font-family: monospace;background-color: #f0f8ff;border: 1px dotted black;border-radius: 0.25em;box-sizing: border-box;margin-bottom: 0.5em;}#sk-container-id-5 div.sk-estimator:hover {background-color: #d4ebff;}#sk-container-id-5 div.sk-parallel-item::after {content: \"\";width: 100%;border-bottom: 1px solid gray;flex-grow: 1;}#sk-container-id-5 div.sk-label:hover label.sk-toggleable__label {background-color: #d4ebff;}#sk-container-id-5 div.sk-serial::before {content: \"\";position: absolute;border-left: 1px solid gray;box-sizing: border-box;top: 0;bottom: 0;left: 50%;z-index: 0;}#sk-container-id-5 div.sk-serial {display: flex;flex-direction: column;align-items: center;background-color: white;padding-right: 0.2em;padding-left: 0.2em;position: relative;}#sk-container-id-5 div.sk-item {position: relative;z-index: 1;}#sk-container-id-5 div.sk-parallel {display: flex;align-items: stretch;justify-content: center;background-color: white;position: relative;}#sk-container-id-5 div.sk-item::before, #sk-container-id-5 div.sk-parallel-item::before {content: \"\";position: absolute;border-left: 1px solid gray;box-sizing: border-box;top: 0;bottom: 0;left: 50%;z-index: -1;}#sk-container-id-5 div.sk-parallel-item {display: flex;flex-direction: column;z-index: 1;position: relative;background-color: white;}#sk-container-id-5 div.sk-parallel-item:first-child::after {align-self: flex-end;width: 50%;}#sk-container-id-5 div.sk-parallel-item:last-child::after {align-self: flex-start;width: 50%;}#sk-container-id-5 div.sk-parallel-item:only-child::after {width: 0;}#sk-container-id-5 div.sk-dashed-wrapped {border: 1px dashed gray;margin: 0 0.4em 0.5em 0.4em;box-sizing: border-box;padding-bottom: 0.4em;background-color: white;}#sk-container-id-5 div.sk-label label {font-family: monospace;font-weight: bold;display: inline-block;line-height: 1.2em;}#sk-container-id-5 div.sk-label-container {text-align: center;}#sk-container-id-5 div.sk-container {/* jupyter's `normalize.less` sets `[hidden] { display: none; }` but bootstrap.min.css set `[hidden] { display: none !important; }` so we also need the `!important` here to be able to override the default hidden behavior on the sphinx rendered scikit-learn.org. See: https://github.com/scikit-learn/scikit-learn/issues/21755 */display: inline-block !important;position: relative;}#sk-container-id-5 div.sk-text-repr-fallback {display: none;}</style><div id=\"sk-container-id-5\" class=\"sk-top-container\"><div class=\"sk-text-repr-fallback\"><pre>XGBRanker(base_score=None, booster=None, callbacks=None, colsample_bylevel=None,\n          colsample_bynode=None, colsample_bytree=0.9, device=None,\n          early_stopping_rounds=None, enable_categorical=False,\n          eval_metric=None, feature_types=None, gamma=None, grow_policy=None,\n          importance_type=None, interaction_constraints=None,\n          learning_rate=0.25, max_bin=None, max_cat_threshold=None,\n          max_cat_to_onehot=None, max_delta_step=None, max_depth=4,\n          max_leaves=None, min_child_weight=100, missing=nan,\n          monotone_constraints=None, multi_strategy=None, n_estimators=10000,\n          n_jobs=None, num_parallel_tree=None, random_state=42, ...)</pre><b>In a Jupyter environment, please rerun this cell to show the HTML representation or trust the notebook. <br />On GitHub, the HTML representation is unable to render, please try loading this page with nbviewer.org.</b></div><div class=\"sk-container\" hidden><div class=\"sk-item\"><div class=\"sk-estimator sk-toggleable\"><input class=\"sk-toggleable__control sk-hidden--visually\" id=\"sk-estimator-id-5\" type=\"checkbox\" checked><label for=\"sk-estimator-id-5\" class=\"sk-toggleable__label sk-toggleable__label-arrow\">XGBRanker</label><div class=\"sk-toggleable__content\"><pre>XGBRanker(base_score=None, booster=None, callbacks=None, colsample_bylevel=None,\n          colsample_bynode=None, colsample_bytree=0.9, device=None,\n          early_stopping_rounds=None, enable_categorical=False,\n          eval_metric=None, feature_types=None, gamma=None, grow_policy=None,\n          importance_type=None, interaction_constraints=None,\n          learning_rate=0.25, max_bin=None, max_cat_threshold=None,\n          max_cat_to_onehot=None, max_delta_step=None, max_depth=4,\n          max_leaves=None, min_child_weight=100, missing=nan,\n          monotone_constraints=None, multi_strategy=None, n_estimators=10000,\n          n_jobs=None, num_parallel_tree=None, random_state=42, ...)</pre></div></div></div></div></div>"
     },
     "execution_count": 111,
     "metadata": {},
     "output_type": "execute_result"
    }
   ],
   "source": [
    "from xgboost import XGBRanker\n",
    "\n",
    "params = {\n",
    "    \"objective\": \"rank:ndcg\",  # ndcg scorer\n",
    "    \"n_estimators\": 10000,  # maximum number of trees\n",
    "    \"max_depth\": 4,  # maximum depth of the tree\n",
    "    \"min_child_weight\": 100,  # minimum number of instances needed in a child\n",
    "    \"learning_rate\": 0.25,  # learning rate\n",
    "    \"reg_lambda\": 1,  # L2 regularization\n",
    "    \"colsample_bytree\": 0.9,  # fraction of columns used by each tree\n",
    "    \"random_state\": 42,\n",
    "}\n",
    "fit_params = {\n",
    "    \"X\": ranker_train[cols],\n",
    "    \"y\": ranker_train[\"target_ranker\"],\n",
    "    \"group\": get_group(ranker_train),\n",
    "    \"eval_set\": [(ranker_val[cols], ranker_val[\"target_ranker\"])],\n",
    "    \"eval_group\": [get_group(ranker_val)],\n",
    "    \"early_stopping_rounds\": 32,  # number of rounds without improvement before stopping\n",
    "    \"verbose\": 32 // 8,  # frequency of outputting metrics\n",
    "}\n",
    "\n",
    "listwise_model = XGBRanker(**params)\n",
    "listwise_model.fit(**fit_params)"
   ]
  },
  {
   "cell_type": "code",
   "execution_count": 112,
   "metadata": {
    "ExecuteTime": {
     "end_time": "2023-12-19T21:32:38.213135Z",
     "start_time": "2023-12-19T21:32:38.192126Z"
    }
   },
   "outputs": [],
   "source": [
    "# save model\n",
    "with open(f\"../model_weights/listwise_model.dill\", \"wb\") as f:\n",
    "    dill.dump(listwise_model, f)"
   ]
  },
  {
   "cell_type": "code",
   "execution_count": 115,
   "metadata": {
    "ExecuteTime": {
     "end_time": "2023-12-19T21:33:08.602787Z",
     "start_time": "2023-12-19T21:33:07.698900Z"
    }
   },
   "outputs": [
    {
     "data": {
      "text/plain": "   user_id  item_id    datetime  total_dur  weight  lfm_score  lfm_rank  \\\n1        1    10440  2021-08-13    19579.0    80.0  -0.012017      51.0   \n0        1     3669  2021-08-16     1593.0    26.0  -0.012017      51.0   \n2       12      846  2021-08-21     5929.0    18.0  -0.012017      51.0   \n\n   pop_score  pop_rank  age  ...  pointwise_hybrid_rank  \\\n1        NaN       NaN    1  ...                      2   \n0        NaN       NaN    1  ...                      1   \n2        NaN       NaN   -1  ...                      1   \n\n   fixed_pointwise_score  fixed_pointwise_rank  fixed_pointwise_hybrid_score  \\\n1               0.363104                     2                      0.363104   \n0               0.402558                     1                      0.402558   \n2               0.267182                     1                      0.267182   \n\n   fixed_pointwise_hybrid_rank  target_ranker  listwise_score  listwise_rank  \\\n1                            2              2        0.052966              1   \n0                            1              1        0.011830              2   \n2                            1              1       -0.263295              1   \n\n   listwise_hybrid_score  listwise_hybrid_rank  \n1               0.052966                     1  \n0               0.011830                     2  \n2              -0.263295                     1  \n\n[3 rows x 37 columns]",
      "text/html": "<div>\n<style scoped>\n    .dataframe tbody tr th:only-of-type {\n        vertical-align: middle;\n    }\n\n    .dataframe tbody tr th {\n        vertical-align: top;\n    }\n\n    .dataframe thead th {\n        text-align: right;\n    }\n</style>\n<table border=\"1\" class=\"dataframe\">\n  <thead>\n    <tr style=\"text-align: right;\">\n      <th></th>\n      <th>user_id</th>\n      <th>item_id</th>\n      <th>datetime</th>\n      <th>total_dur</th>\n      <th>weight</th>\n      <th>lfm_score</th>\n      <th>lfm_rank</th>\n      <th>pop_score</th>\n      <th>pop_rank</th>\n      <th>age</th>\n      <th>...</th>\n      <th>pointwise_hybrid_rank</th>\n      <th>fixed_pointwise_score</th>\n      <th>fixed_pointwise_rank</th>\n      <th>fixed_pointwise_hybrid_score</th>\n      <th>fixed_pointwise_hybrid_rank</th>\n      <th>target_ranker</th>\n      <th>listwise_score</th>\n      <th>listwise_rank</th>\n      <th>listwise_hybrid_score</th>\n      <th>listwise_hybrid_rank</th>\n    </tr>\n  </thead>\n  <tbody>\n    <tr>\n      <th>1</th>\n      <td>1</td>\n      <td>10440</td>\n      <td>2021-08-13</td>\n      <td>19579.0</td>\n      <td>80.0</td>\n      <td>-0.012017</td>\n      <td>51.0</td>\n      <td>NaN</td>\n      <td>NaN</td>\n      <td>1</td>\n      <td>...</td>\n      <td>2</td>\n      <td>0.363104</td>\n      <td>2</td>\n      <td>0.363104</td>\n      <td>2</td>\n      <td>2</td>\n      <td>0.052966</td>\n      <td>1</td>\n      <td>0.052966</td>\n      <td>1</td>\n    </tr>\n    <tr>\n      <th>0</th>\n      <td>1</td>\n      <td>3669</td>\n      <td>2021-08-16</td>\n      <td>1593.0</td>\n      <td>26.0</td>\n      <td>-0.012017</td>\n      <td>51.0</td>\n      <td>NaN</td>\n      <td>NaN</td>\n      <td>1</td>\n      <td>...</td>\n      <td>1</td>\n      <td>0.402558</td>\n      <td>1</td>\n      <td>0.402558</td>\n      <td>1</td>\n      <td>1</td>\n      <td>0.011830</td>\n      <td>2</td>\n      <td>0.011830</td>\n      <td>2</td>\n    </tr>\n    <tr>\n      <th>2</th>\n      <td>12</td>\n      <td>846</td>\n      <td>2021-08-21</td>\n      <td>5929.0</td>\n      <td>18.0</td>\n      <td>-0.012017</td>\n      <td>51.0</td>\n      <td>NaN</td>\n      <td>NaN</td>\n      <td>-1</td>\n      <td>...</td>\n      <td>1</td>\n      <td>0.267182</td>\n      <td>1</td>\n      <td>0.267182</td>\n      <td>1</td>\n      <td>1</td>\n      <td>-0.263295</td>\n      <td>1</td>\n      <td>-0.263295</td>\n      <td>1</td>\n    </tr>\n  </tbody>\n</table>\n<p>3 rows × 37 columns</p>\n</div>"
     },
     "execution_count": 115,
     "metadata": {},
     "output_type": "execute_result"
    }
   ],
   "source": [
    "y_pred: np.ndarray = listwise_model.predict(ranker_test[cols])\n",
    "ranker_test = add_score_and_rank(ranker_test, y_pred, \"listwise\")\n",
    "ranker_test.head(3)"
   ]
  },
  {
   "cell_type": "code",
   "execution_count": 116,
   "metadata": {
    "ExecuteTime": {
     "end_time": "2023-12-19T21:33:12.282360Z",
     "start_time": "2023-12-19T21:33:10.871925Z"
    }
   },
   "outputs": [
    {
     "data": {
      "text/plain": "              listwise  listwise_hybrid\nPrecision@10  0.320846         0.320846\nrecall@10     0.966863         0.966863\nndcg@10       0.440931         0.440931\nmap@10        0.952964         0.952964\nnovelty@10    6.539828         6.539828",
      "text/html": "<div>\n<style scoped>\n    .dataframe tbody tr th:only-of-type {\n        vertical-align: middle;\n    }\n\n    .dataframe tbody tr th {\n        vertical-align: top;\n    }\n\n    .dataframe thead th {\n        text-align: right;\n    }\n</style>\n<table border=\"1\" class=\"dataframe\">\n  <thead>\n    <tr style=\"text-align: right;\">\n      <th></th>\n      <th>listwise</th>\n      <th>listwise_hybrid</th>\n    </tr>\n  </thead>\n  <tbody>\n    <tr>\n      <th>Precision@10</th>\n      <td>0.320846</td>\n      <td>0.320846</td>\n    </tr>\n    <tr>\n      <th>recall@10</th>\n      <td>0.966863</td>\n      <td>0.966863</td>\n    </tr>\n    <tr>\n      <th>ndcg@10</th>\n      <td>0.440931</td>\n      <td>0.440931</td>\n    </tr>\n    <tr>\n      <th>map@10</th>\n      <td>0.952964</td>\n      <td>0.952964</td>\n    </tr>\n    <tr>\n      <th>novelty@10</th>\n      <td>6.539828</td>\n      <td>6.539828</td>\n    </tr>\n  </tbody>\n</table>\n</div>"
     },
     "execution_count": 116,
     "metadata": {},
     "output_type": "execute_result"
    }
   ],
   "source": [
    "models_metrics[\"listwise\"] = calc_metrics_(ranker_test, \"listwise_rank\")\n",
    "models_metrics[\"listwise_hybrid\"] = calc_metrics_(ranker_test, \"listwise_hybrid_rank\")\n",
    "pd.DataFrame(models_metrics)[[\"listwise\", \"listwise_hybrid\"]]"
   ]
  },
  {
   "cell_type": "code",
   "execution_count": 117,
   "metadata": {
    "ExecuteTime": {
     "end_time": "2023-12-19T21:33:57.009893Z",
     "start_time": "2023-12-19T21:33:33.285439Z"
    }
   },
   "outputs": [
    {
     "data": {
      "text/plain": "(0.8253479559938095, 0.8253479559938095)"
     },
     "execution_count": 117,
     "metadata": {},
     "output_type": "execute_result"
    }
   ],
   "source": [
    "(\n",
    "    avg_user_metric(\n",
    "        y_true=np.array(ranker_test[\"target\"]),  # target_ranker\n",
    "        y_pred=np.array(ranker_test[\"listwise_score\"]),\n",
    "        user_ids=np.array(ranker_test[\"user_id\"]),\n",
    "        metric_function=roc_auc_score,\n",
    "    ),\n",
    "    avg_user_metric(\n",
    "        y_true=np.array(ranker_test[\"target\"]),\n",
    "        y_pred=np.array(ranker_test[\"listwise_hybrid_score\"]),\n",
    "        user_ids=np.array(ranker_test[\"user_id\"]),\n",
    "        metric_function=roc_auc_score,\n",
    "    ),\n",
    ")"
   ]
  },
  {
   "cell_type": "markdown",
   "metadata": {},
   "source": [
    "## Итоговые метрики"
   ]
  },
  {
   "cell_type": "code",
   "execution_count": 118,
   "metadata": {
    "ExecuteTime": {
     "end_time": "2023-12-19T21:33:58.883543Z",
     "start_time": "2023-12-19T21:33:58.859514Z"
    }
   },
   "outputs": [
    {
     "data": {
      "text/plain": "                    lfm  fixed_pointwise_hybrid  listwise_hybrid\nPrecision@10   0.006514                0.320572         0.320846\nrecall@10      0.022071                0.966721         0.966863\nndcg@10        0.006256                0.439854         0.440931\nmap@10         0.005780                0.948637         0.952964\nnovelty@10    10.282676                6.667054         6.539828",
      "text/html": "<div>\n<style scoped>\n    .dataframe tbody tr th:only-of-type {\n        vertical-align: middle;\n    }\n\n    .dataframe tbody tr th {\n        vertical-align: top;\n    }\n\n    .dataframe thead th {\n        text-align: right;\n    }\n</style>\n<table border=\"1\" class=\"dataframe\">\n  <thead>\n    <tr style=\"text-align: right;\">\n      <th></th>\n      <th>lfm</th>\n      <th>fixed_pointwise_hybrid</th>\n      <th>listwise_hybrid</th>\n    </tr>\n  </thead>\n  <tbody>\n    <tr>\n      <th>Precision@10</th>\n      <td>0.006514</td>\n      <td>0.320572</td>\n      <td>0.320846</td>\n    </tr>\n    <tr>\n      <th>recall@10</th>\n      <td>0.022071</td>\n      <td>0.966721</td>\n      <td>0.966863</td>\n    </tr>\n    <tr>\n      <th>ndcg@10</th>\n      <td>0.006256</td>\n      <td>0.439854</td>\n      <td>0.440931</td>\n    </tr>\n    <tr>\n      <th>map@10</th>\n      <td>0.005780</td>\n      <td>0.948637</td>\n      <td>0.952964</td>\n    </tr>\n    <tr>\n      <th>novelty@10</th>\n      <td>10.282676</td>\n      <td>6.667054</td>\n      <td>6.539828</td>\n    </tr>\n  </tbody>\n</table>\n</div>"
     },
     "execution_count": 118,
     "metadata": {},
     "output_type": "execute_result"
    }
   ],
   "source": [
    "pd.DataFrame(models_metrics)[[\"lfm\", \"fixed_pointwise_hybrid\", \"listwise_hybrid\"]]"
   ]
  },
  {
   "cell_type": "code",
   "execution_count": 120,
   "outputs": [
    {
     "data": {
      "text/plain": "1759275"
     },
     "execution_count": 120,
     "metadata": {},
     "output_type": "execute_result"
    }
   ],
   "source": [
    "ranker_full = pd.concat([ranker_train, ranker_val, ranker_test])\n",
    "len(ranker_full)"
   ],
   "metadata": {
    "collapsed": false,
    "ExecuteTime": {
     "end_time": "2023-12-19T21:34:40.841494Z",
     "start_time": "2023-12-19T21:34:40.536115Z"
    }
   }
  },
  {
   "cell_type": "code",
   "execution_count": 121,
   "outputs": [
    {
     "data": {
      "text/plain": "   user_id  item_id    datetime  total_dur  weight  lfm_score  lfm_rank  \\\n1        1    10440  2021-08-13    19579.0    80.0  -0.012017      51.0   \n0        1     3669  2021-08-16     1593.0    26.0  -0.012017      51.0   \n2       12      846  2021-08-21     5929.0    18.0  -0.012017      51.0   \n4       19     8707  2021-08-15       66.0     0.0  -0.012017      51.0   \n5       19    14275  2021-08-15       79.0     1.0  -0.012017      51.0   \n\n   pop_score  pop_rank  age  ...  pointwise_hybrid_score  \\\n1        NaN       NaN    1  ...                0.363104   \n0        NaN       NaN    1  ...                0.402558   \n2        NaN       NaN   -1  ...                0.267182   \n4        NaN       NaN   -1  ...                0.188149   \n5        NaN       NaN   -1  ...                0.188149   \n\n   pointwise_hybrid_rank  fixed_pointwise_score  fixed_pointwise_rank  \\\n1                    2.0               0.363104                   2.0   \n0                    1.0               0.402558                   1.0   \n2                    1.0               0.267182                   1.0   \n4                    2.0               0.188149                   2.0   \n5                    3.0               0.188149                   3.0   \n\n   fixed_pointwise_hybrid_score  fixed_pointwise_hybrid_rank  listwise_score  \\\n1                      0.363104                          2.0        0.052966   \n0                      0.402558                          1.0        0.011830   \n2                      0.267182                          1.0       -0.263295   \n4                      0.188149                          2.0       -0.256409   \n5                      0.188149                          3.0       -0.256409   \n\n   listwise_rank  listwise_hybrid_score  listwise_hybrid_rank  \n1              1               0.052966                     1  \n0              2               0.011830                     2  \n2              1              -0.263295                     1  \n4              1              -0.256409                     1  \n5              2              -0.256409                     2  \n\n[5 rows x 37 columns]",
      "text/html": "<div>\n<style scoped>\n    .dataframe tbody tr th:only-of-type {\n        vertical-align: middle;\n    }\n\n    .dataframe tbody tr th {\n        vertical-align: top;\n    }\n\n    .dataframe thead th {\n        text-align: right;\n    }\n</style>\n<table border=\"1\" class=\"dataframe\">\n  <thead>\n    <tr style=\"text-align: right;\">\n      <th></th>\n      <th>user_id</th>\n      <th>item_id</th>\n      <th>datetime</th>\n      <th>total_dur</th>\n      <th>weight</th>\n      <th>lfm_score</th>\n      <th>lfm_rank</th>\n      <th>pop_score</th>\n      <th>pop_rank</th>\n      <th>age</th>\n      <th>...</th>\n      <th>pointwise_hybrid_score</th>\n      <th>pointwise_hybrid_rank</th>\n      <th>fixed_pointwise_score</th>\n      <th>fixed_pointwise_rank</th>\n      <th>fixed_pointwise_hybrid_score</th>\n      <th>fixed_pointwise_hybrid_rank</th>\n      <th>listwise_score</th>\n      <th>listwise_rank</th>\n      <th>listwise_hybrid_score</th>\n      <th>listwise_hybrid_rank</th>\n    </tr>\n  </thead>\n  <tbody>\n    <tr>\n      <th>1</th>\n      <td>1</td>\n      <td>10440</td>\n      <td>2021-08-13</td>\n      <td>19579.0</td>\n      <td>80.0</td>\n      <td>-0.012017</td>\n      <td>51.0</td>\n      <td>NaN</td>\n      <td>NaN</td>\n      <td>1</td>\n      <td>...</td>\n      <td>0.363104</td>\n      <td>2.0</td>\n      <td>0.363104</td>\n      <td>2.0</td>\n      <td>0.363104</td>\n      <td>2.0</td>\n      <td>0.052966</td>\n      <td>1</td>\n      <td>0.052966</td>\n      <td>1</td>\n    </tr>\n    <tr>\n      <th>0</th>\n      <td>1</td>\n      <td>3669</td>\n      <td>2021-08-16</td>\n      <td>1593.0</td>\n      <td>26.0</td>\n      <td>-0.012017</td>\n      <td>51.0</td>\n      <td>NaN</td>\n      <td>NaN</td>\n      <td>1</td>\n      <td>...</td>\n      <td>0.402558</td>\n      <td>1.0</td>\n      <td>0.402558</td>\n      <td>1.0</td>\n      <td>0.402558</td>\n      <td>1.0</td>\n      <td>0.011830</td>\n      <td>2</td>\n      <td>0.011830</td>\n      <td>2</td>\n    </tr>\n    <tr>\n      <th>2</th>\n      <td>12</td>\n      <td>846</td>\n      <td>2021-08-21</td>\n      <td>5929.0</td>\n      <td>18.0</td>\n      <td>-0.012017</td>\n      <td>51.0</td>\n      <td>NaN</td>\n      <td>NaN</td>\n      <td>-1</td>\n      <td>...</td>\n      <td>0.267182</td>\n      <td>1.0</td>\n      <td>0.267182</td>\n      <td>1.0</td>\n      <td>0.267182</td>\n      <td>1.0</td>\n      <td>-0.263295</td>\n      <td>1</td>\n      <td>-0.263295</td>\n      <td>1</td>\n    </tr>\n    <tr>\n      <th>4</th>\n      <td>19</td>\n      <td>8707</td>\n      <td>2021-08-15</td>\n      <td>66.0</td>\n      <td>0.0</td>\n      <td>-0.012017</td>\n      <td>51.0</td>\n      <td>NaN</td>\n      <td>NaN</td>\n      <td>-1</td>\n      <td>...</td>\n      <td>0.188149</td>\n      <td>2.0</td>\n      <td>0.188149</td>\n      <td>2.0</td>\n      <td>0.188149</td>\n      <td>2.0</td>\n      <td>-0.256409</td>\n      <td>1</td>\n      <td>-0.256409</td>\n      <td>1</td>\n    </tr>\n    <tr>\n      <th>5</th>\n      <td>19</td>\n      <td>14275</td>\n      <td>2021-08-15</td>\n      <td>79.0</td>\n      <td>1.0</td>\n      <td>-0.012017</td>\n      <td>51.0</td>\n      <td>NaN</td>\n      <td>NaN</td>\n      <td>-1</td>\n      <td>...</td>\n      <td>0.188149</td>\n      <td>3.0</td>\n      <td>0.188149</td>\n      <td>3.0</td>\n      <td>0.188149</td>\n      <td>3.0</td>\n      <td>-0.256409</td>\n      <td>2</td>\n      <td>-0.256409</td>\n      <td>2</td>\n    </tr>\n  </tbody>\n</table>\n<p>5 rows × 37 columns</p>\n</div>"
     },
     "execution_count": 121,
     "metadata": {},
     "output_type": "execute_result"
    }
   ],
   "source": [
    "y_pred: np.ndarray = listwise_model.predict(ranker_full[cols])\n",
    "ranker_full = add_score_and_rank(ranker_full, y_pred, \"listwise\")\n",
    "ranker_full.head()"
   ],
   "metadata": {
    "collapsed": false,
    "ExecuteTime": {
     "end_time": "2023-12-19T21:34:54.303329Z",
     "start_time": "2023-12-19T21:34:52.893958Z"
    }
   }
  },
  {
   "cell_type": "code",
   "execution_count": 122,
   "outputs": [
    {
     "data": {
      "text/plain": "   user_id  item_id\n1        1    10440\n0        1     3669\n2       12      846\n4       19     8707\n5       19    14275",
      "text/html": "<div>\n<style scoped>\n    .dataframe tbody tr th:only-of-type {\n        vertical-align: middle;\n    }\n\n    .dataframe tbody tr th {\n        vertical-align: top;\n    }\n\n    .dataframe thead th {\n        text-align: right;\n    }\n</style>\n<table border=\"1\" class=\"dataframe\">\n  <thead>\n    <tr style=\"text-align: right;\">\n      <th></th>\n      <th>user_id</th>\n      <th>item_id</th>\n    </tr>\n  </thead>\n  <tbody>\n    <tr>\n      <th>1</th>\n      <td>1</td>\n      <td>10440</td>\n    </tr>\n    <tr>\n      <th>0</th>\n      <td>1</td>\n      <td>3669</td>\n    </tr>\n    <tr>\n      <th>2</th>\n      <td>12</td>\n      <td>846</td>\n    </tr>\n    <tr>\n      <th>4</th>\n      <td>19</td>\n      <td>8707</td>\n    </tr>\n    <tr>\n      <th>5</th>\n      <td>19</td>\n      <td>14275</td>\n    </tr>\n  </tbody>\n</table>\n</div>"
     },
     "execution_count": 122,
     "metadata": {},
     "output_type": "execute_result"
    }
   ],
   "source": [
    "K_RECS = 10\n",
    "ranker_full = ranker_full[[Columns.User, Columns.Item, \"listwise_hybrid_rank\"]]\n",
    "ranker_full = ranker_full.sort_values([Columns.User, \"listwise_hybrid_rank\"]).groupby(Columns.User).head(K_RECS)\n",
    "ranker_full.drop(\"listwise_hybrid_rank\", axis=1, inplace=True)\n",
    "ranker_full.head()"
   ],
   "metadata": {
    "collapsed": false,
    "ExecuteTime": {
     "end_time": "2023-12-19T21:35:01.619330Z",
     "start_time": "2023-12-19T21:35:01.423263Z"
    }
   }
  },
  {
   "cell_type": "code",
   "execution_count": 127,
   "outputs": [],
   "source": [
    "recos = ranker_full.groupby(Columns.User).agg(list).to_dict()[Columns.Item]"
   ],
   "metadata": {
    "collapsed": false,
    "ExecuteTime": {
     "end_time": "2023-12-19T21:36:44.722217Z",
     "start_time": "2023-12-19T21:36:43.798050Z"
    }
   }
  },
  {
   "cell_type": "code",
   "execution_count": 128,
   "metadata": {
    "collapsed": false,
    "pycharm": {
     "name": "#%%\n"
    },
    "ExecuteTime": {
     "end_time": "2023-12-19T21:37:18.567850Z",
     "start_time": "2023-12-19T21:37:18.364778Z"
    }
   },
   "outputs": [],
   "source": [
    "import json\n",
    "\n",
    "with open(\"../model_weights/ranker.json\", \"w\") as f:\n",
    "    json.dump(recos, f)"
   ]
  },
  {
   "cell_type": "code",
   "execution_count": null,
   "outputs": [],
   "source": [],
   "metadata": {
    "collapsed": false
   }
  }
 ],
 "metadata": {
  "kernelspec": {
   "display_name": "Python 3.10.9 ('venv': venv)",
   "language": "python",
   "name": "python3"
  },
  "language_info": {
   "codemirror_mode": {
    "name": "ipython",
    "version": 3
   },
   "file_extension": ".py",
   "mimetype": "text/x-python",
   "name": "python",
   "nbconvert_exporter": "python",
   "pygments_lexer": "ipython3",
   "version": "3.10.9"
  },
  "toc-autonumbering": false,
  "toc-showmarkdowntxt": true,
  "vscode": {
   "interpreter": {
    "hash": "e1f50835d4d846301c2a6cf272c7592be0337e07912c3141799623767e50deba"
   }
  }
 },
 "nbformat": 4,
 "nbformat_minor": 4
}
