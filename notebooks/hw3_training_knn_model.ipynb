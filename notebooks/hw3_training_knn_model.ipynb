{
 "cells": [
  {
   "cell_type": "code",
   "execution_count": 1,
   "id": "initial_id",
   "metadata": {
    "collapsed": true,
    "ExecuteTime": {
     "end_time": "2023-12-05T21:13:26.313574Z",
     "start_time": "2023-12-05T21:13:25.670022Z"
    }
   },
   "outputs": [],
   "source": [
    "import pickle\n",
    "import warnings\n",
    "from pprint import pprint\n",
    "\n",
    "import pandas as pd\n",
    "from implicit.nearest_neighbours import CosineRecommender, TFIDFRecommender, BM25Recommender\n",
    "from rectools import Columns\n",
    "from rectools.dataset import Interactions\n",
    "from rectools.metrics import MAP, calc_metrics\n",
    "from rectools.metrics import Precision, Recall, NDCG, Serendipity\n",
    "from rectools.model_selection import TimeRangeSplitter\n",
    "\n",
    "from models.userknn import UserKnn\n",
    "\n",
    "warnings.filterwarnings(\"ignore\")\n",
    "pd.set_option(\"display.max_columns\", None)\n",
    "pd.set_option(\"display.max_colwidth\", 200)"
   ]
  },
  {
   "cell_type": "markdown",
   "source": [
    "# Read data"
   ],
   "metadata": {
    "collapsed": false
   },
   "id": "860c9f9a16e6a07"
  },
  {
   "cell_type": "code",
   "execution_count": 2,
   "outputs": [
    {
     "data": {
      "text/plain": "         user_id  item_id   datetime    weight  watched_pct\n3729402   467027     6209 2021-08-01    6660.0        100.0\n2440373   933494     3734 2021-07-18    5854.0        100.0\n907207    201382    10440 2021-06-09  121364.0         90.0\n3003571   292510    16135 2021-05-08     400.0          5.0\n2260007  1071515    12463 2021-04-07    3290.0         53.0",
      "text/html": "<div>\n<style scoped>\n    .dataframe tbody tr th:only-of-type {\n        vertical-align: middle;\n    }\n\n    .dataframe tbody tr th {\n        vertical-align: top;\n    }\n\n    .dataframe thead th {\n        text-align: right;\n    }\n</style>\n<table border=\"1\" class=\"dataframe\">\n  <thead>\n    <tr style=\"text-align: right;\">\n      <th></th>\n      <th>user_id</th>\n      <th>item_id</th>\n      <th>datetime</th>\n      <th>weight</th>\n      <th>watched_pct</th>\n    </tr>\n  </thead>\n  <tbody>\n    <tr>\n      <th>3729402</th>\n      <td>467027</td>\n      <td>6209</td>\n      <td>2021-08-01</td>\n      <td>6660.0</td>\n      <td>100.0</td>\n    </tr>\n    <tr>\n      <th>2440373</th>\n      <td>933494</td>\n      <td>3734</td>\n      <td>2021-07-18</td>\n      <td>5854.0</td>\n      <td>100.0</td>\n    </tr>\n    <tr>\n      <th>907207</th>\n      <td>201382</td>\n      <td>10440</td>\n      <td>2021-06-09</td>\n      <td>121364.0</td>\n      <td>90.0</td>\n    </tr>\n    <tr>\n      <th>3003571</th>\n      <td>292510</td>\n      <td>16135</td>\n      <td>2021-05-08</td>\n      <td>400.0</td>\n      <td>5.0</td>\n    </tr>\n    <tr>\n      <th>2260007</th>\n      <td>1071515</td>\n      <td>12463</td>\n      <td>2021-04-07</td>\n      <td>3290.0</td>\n      <td>53.0</td>\n    </tr>\n  </tbody>\n</table>\n</div>"
     },
     "execution_count": 2,
     "metadata": {},
     "output_type": "execute_result"
    }
   ],
   "source": [
    "interactions_df = pd.read_csv(\"../data/interactions.csv\")\n",
    "users = pd.read_csv(\"../data/users.csv\")\n",
    "items = pd.read_csv(\"../data/items.csv\")\n",
    "\n",
    "interactions_df.rename(columns={\"last_watch_dt\": Columns.Datetime, \"total_dur\": Columns.Weight}, inplace=True)\n",
    "\n",
    "test = True\n",
    "if test:\n",
    "    interactions = Interactions(interactions_df.sample(frac=0.01))\n",
    "else:\n",
    "    interactions = Interactions(interactions_df)\n",
    "\n",
    "interactions.df.head()"
   ],
   "metadata": {
    "collapsed": false,
    "ExecuteTime": {
     "end_time": "2023-12-05T21:13:28.401413Z",
     "start_time": "2023-12-05T21:13:26.320643Z"
    }
   },
   "id": "fb846c5a8908cff1"
  },
  {
   "cell_type": "markdown",
   "source": [
    "# Hyperparameters tuning"
   ],
   "metadata": {
    "collapsed": false
   },
   "id": "83a65ddcb47bb0ba"
  },
  {
   "cell_type": "code",
   "execution_count": 3,
   "outputs": [],
   "source": [
    "N_SPLITS = 4\n",
    "TEST_SIZE = \"7D\""
   ],
   "metadata": {
    "collapsed": false,
    "ExecuteTime": {
     "end_time": "2023-12-05T21:13:28.406078Z",
     "start_time": "2023-12-05T21:13:28.401688Z"
    }
   },
   "id": "e0d2020ae3bf141f"
  },
  {
   "cell_type": "code",
   "execution_count": 4,
   "outputs": [],
   "source": [
    "cv = TimeRangeSplitter(\n",
    "    test_size=TEST_SIZE,\n",
    "    n_splits=N_SPLITS,\n",
    "    filter_already_seen=True,\n",
    "    filter_cold_items=True,\n",
    "    filter_cold_users=True,\n",
    ")"
   ],
   "metadata": {
    "collapsed": false,
    "ExecuteTime": {
     "end_time": "2023-12-05T21:13:28.410314Z",
     "start_time": "2023-12-05T21:13:28.404908Z"
    }
   },
   "id": "6514a1bd7198a6a9"
  },
  {
   "cell_type": "code",
   "execution_count": 5,
   "outputs": [],
   "source": [
    "thresholds: tuple[int, ...] = (10,)\n",
    "\n",
    "precision_metrics = {f\"Precision@{k}\": Precision(k=k) for k in thresholds}\n",
    "recall_metrics = {f\"Recall@{k}\": Recall(k=k) for k in thresholds}\n",
    "map_metrics = {f\"MAP@{k}\": MAP(k=k, divide_by_k=False) for k in thresholds}\n",
    "ndcg_metrics = {f\"NDCG@{k}\": NDCG(k=k, log_base=3) for k in thresholds}\n",
    "serendipity_metrics = {f\"Serendipity@{k}\": Serendipity(k=k) for k in thresholds}\n",
    "\n",
    "metrics = {**precision_metrics, **recall_metrics, **map_metrics, **ndcg_metrics, **serendipity_metrics}"
   ],
   "metadata": {
    "collapsed": false,
    "ExecuteTime": {
     "end_time": "2023-12-05T21:13:28.414800Z",
     "start_time": "2023-12-05T21:13:28.410226Z"
    }
   },
   "id": "9885dcc7c51bd9a1"
  },
  {
   "cell_type": "code",
   "execution_count": 6,
   "outputs": [],
   "source": [
    "models = {\"cosine_userknn\": CosineRecommender(), \"tfidf_userknn\": TFIDFRecommender(), \"BM25_userknn\": BM25Recommender()}"
   ],
   "metadata": {
    "collapsed": false,
    "ExecuteTime": {
     "end_time": "2023-12-05T21:13:28.415425Z",
     "start_time": "2023-12-05T21:13:28.412771Z"
    }
   },
   "id": "17611c888c546152"
  },
  {
   "cell_type": "code",
   "execution_count": 7,
   "outputs": [],
   "source": [
    "def print_in_a_frame(*words):\n",
    "    size = max(len(word) for word in words)\n",
    "    print(\"*\" * (size + 4))\n",
    "    for word in words:\n",
    "        print(\"* {:<{}} *\".format(word, size))\n",
    "    print(\"*\" * (size + 4))"
   ],
   "metadata": {
    "collapsed": false,
    "ExecuteTime": {
     "end_time": "2023-12-05T21:13:28.419578Z",
     "start_time": "2023-12-05T21:13:28.416075Z"
    }
   },
   "id": "9e3bd5dab8432af7"
  },
  {
   "cell_type": "code",
   "execution_count": 8,
   "outputs": [
    {
     "name": "stdout",
     "output_type": "stream",
     "text": [
      "**********\n",
      "* Fold 0 *\n",
      "**********\n",
      "{'end': Timestamp('2021-08-02 00:00:00'),\n",
      " 'i_split': 0,\n",
      " 'start': Timestamp('2021-07-26 00:00:00'),\n",
      " 'test': 301,\n",
      " 'test_items': 251,\n",
      " 'test_users': 291,\n",
      " 'train': 38888,\n",
      " 'train_items': 4472,\n",
      " 'train_users': 35343}\n"
     ]
    },
    {
     "data": {
      "text/plain": "  0%|          | 0/35343 [00:00<?, ?it/s]",
      "application/vnd.jupyter.widget-view+json": {
       "version_major": 2,
       "version_minor": 0,
       "model_id": "08983cdadac74a2ea2424c0fb116b6fa"
      }
     },
     "metadata": {},
     "output_type": "display_data"
    },
    {
     "data": {
      "text/plain": "  0%|          | 0/35343 [00:00<?, ?it/s]",
      "application/vnd.jupyter.widget-view+json": {
       "version_major": 2,
       "version_minor": 0,
       "model_id": "23c11a29fc1545d589472591eaa9e352"
      }
     },
     "metadata": {},
     "output_type": "display_data"
    },
    {
     "data": {
      "text/plain": "  0%|          | 0/35343 [00:00<?, ?it/s]",
      "application/vnd.jupyter.widget-view+json": {
       "version_major": 2,
       "version_minor": 0,
       "model_id": "bbfdc7e3888c4c81a40bbcb166c0825d"
      }
     },
     "metadata": {},
     "output_type": "display_data"
    },
    {
     "name": "stdout",
     "output_type": "stream",
     "text": [
      "**********\n",
      "* Fold 1 *\n",
      "**********\n",
      "{'end': Timestamp('2021-08-09 00:00:00'),\n",
      " 'i_split': 1,\n",
      " 'start': Timestamp('2021-08-02 00:00:00'),\n",
      " 'test': 374,\n",
      " 'test_items': 295,\n",
      " 'test_users': 363,\n",
      " 'train': 42718,\n",
      " 'train_items': 4624,\n",
      " 'train_users': 38747}\n"
     ]
    },
    {
     "data": {
      "text/plain": "  0%|          | 0/38747 [00:00<?, ?it/s]",
      "application/vnd.jupyter.widget-view+json": {
       "version_major": 2,
       "version_minor": 0,
       "model_id": "32198a0dcc2140f480686e2c96a7069d"
      }
     },
     "metadata": {},
     "output_type": "display_data"
    },
    {
     "data": {
      "text/plain": "  0%|          | 0/38747 [00:00<?, ?it/s]",
      "application/vnd.jupyter.widget-view+json": {
       "version_major": 2,
       "version_minor": 0,
       "model_id": "f46530edce2b44edb19501c79a32c950"
      }
     },
     "metadata": {},
     "output_type": "display_data"
    },
    {
     "data": {
      "text/plain": "  0%|          | 0/38747 [00:00<?, ?it/s]",
      "application/vnd.jupyter.widget-view+json": {
       "version_major": 2,
       "version_minor": 0,
       "model_id": "57c5fce9810b4b15a6e1e5c8df22a992"
      }
     },
     "metadata": {},
     "output_type": "display_data"
    },
    {
     "name": "stdout",
     "output_type": "stream",
     "text": [
      "**********\n",
      "* Fold 2 *\n",
      "**********\n",
      "{'end': Timestamp('2021-08-16 00:00:00'),\n",
      " 'i_split': 2,\n",
      " 'start': Timestamp('2021-08-09 00:00:00'),\n",
      " 'test': 387,\n",
      " 'test_items': 296,\n",
      " 'test_users': 374,\n",
      " 'train': 46596,\n",
      " 'train_items': 4807,\n",
      " 'train_users': 42128}\n"
     ]
    },
    {
     "data": {
      "text/plain": "  0%|          | 0/42128 [00:00<?, ?it/s]",
      "application/vnd.jupyter.widget-view+json": {
       "version_major": 2,
       "version_minor": 0,
       "model_id": "78262fcc6f2342ab9b316e18e62002b3"
      }
     },
     "metadata": {},
     "output_type": "display_data"
    },
    {
     "data": {
      "text/plain": "  0%|          | 0/42128 [00:00<?, ?it/s]",
      "application/vnd.jupyter.widget-view+json": {
       "version_major": 2,
       "version_minor": 0,
       "model_id": "727e2264d74741b08c7fde64035604a8"
      }
     },
     "metadata": {},
     "output_type": "display_data"
    },
    {
     "data": {
      "text/plain": "  0%|          | 0/42128 [00:00<?, ?it/s]",
      "application/vnd.jupyter.widget-view+json": {
       "version_major": 2,
       "version_minor": 0,
       "model_id": "e3b3d57ac33f4296a4f64b17987737ca"
      }
     },
     "metadata": {},
     "output_type": "display_data"
    },
    {
     "name": "stdout",
     "output_type": "stream",
     "text": [
      "**********\n",
      "* Fold 3 *\n",
      "**********\n",
      "{'end': Timestamp('2021-08-23 00:00:00'),\n",
      " 'i_split': 3,\n",
      " 'start': Timestamp('2021-08-16 00:00:00'),\n",
      " 'test': 432,\n",
      " 'test_items': 340,\n",
      " 'test_users': 426,\n",
      " 'train': 50587,\n",
      " 'train_items': 4952,\n",
      " 'train_users': 45609}\n"
     ]
    },
    {
     "data": {
      "text/plain": "  0%|          | 0/45609 [00:00<?, ?it/s]",
      "application/vnd.jupyter.widget-view+json": {
       "version_major": 2,
       "version_minor": 0,
       "model_id": "ac26f5c3bb4b46ff9c1debaee1ec77b7"
      }
     },
     "metadata": {},
     "output_type": "display_data"
    },
    {
     "data": {
      "text/plain": "  0%|          | 0/45609 [00:00<?, ?it/s]",
      "application/vnd.jupyter.widget-view+json": {
       "version_major": 2,
       "version_minor": 0,
       "model_id": "fa51fb90948546e6a9daa49bbf27427b"
      }
     },
     "metadata": {},
     "output_type": "display_data"
    },
    {
     "data": {
      "text/plain": "  0%|          | 0/45609 [00:00<?, ?it/s]",
      "application/vnd.jupyter.widget-view+json": {
       "version_major": 2,
       "version_minor": 0,
       "model_id": "807b48bdeb6b4aa9a6fc0bf72feba56b"
      }
     },
     "metadata": {},
     "output_type": "display_data"
    }
   ],
   "source": [
    "results = []\n",
    "fold_iterator = cv.split(interactions, collect_fold_stats=True)\n",
    "\n",
    "for i_fold, (train_ids, test_ids, fold_info) in enumerate(fold_iterator):\n",
    "    print_in_a_frame(f\"Fold {i_fold}\")\n",
    "    pprint(fold_info)\n",
    "\n",
    "    df_train = interactions.df.iloc[train_ids].copy()\n",
    "    df_test = interactions.df.iloc[test_ids][Columns.UserItem].copy()\n",
    "    catalog = df_train[Columns.Item].unique()\n",
    "\n",
    "    for model_name, model in models.items():\n",
    "        model_tmp = UserKnn(model=model, N_users=30)\n",
    "        model_tmp.fit(df_train)\n",
    "\n",
    "        reco = model_tmp.predict(df_test)\n",
    "\n",
    "        metric_values = calc_metrics(\n",
    "            metrics,\n",
    "            reco=reco,\n",
    "            interactions=df_test,\n",
    "            prev_interactions=df_train,\n",
    "            catalog=catalog,\n",
    "        )\n",
    "\n",
    "        fold = {\"fold\": i_fold, \"model\": model_name}\n",
    "        fold.update(metric_values)\n",
    "        results.append(fold)"
   ],
   "metadata": {
    "collapsed": false,
    "ExecuteTime": {
     "end_time": "2023-12-05T21:13:35.795361Z",
     "start_time": "2023-12-05T21:13:28.420199Z"
    }
   },
   "id": "50baa2904a99c856"
  },
  {
   "cell_type": "code",
   "execution_count": 9,
   "outputs": [
    {
     "data": {
      "text/plain": "    fold           model  Precision@10  Recall@10   NDCG@10    MAP@10  \\\n0      0  cosine_userknn      0.000344   0.003436  0.000326  0.000859   \n1      0   tfidf_userknn      0.000344   0.003436  0.000326  0.000859   \n2      0    BM25_userknn      0.000344   0.003436  0.000326  0.000859   \n3      1  cosine_userknn      0.000000   0.000000  0.000000  0.000000   \n4      1   tfidf_userknn      0.000000   0.000000  0.000000  0.000000   \n5      1    BM25_userknn      0.000000   0.000000  0.000000  0.000000   \n6      2  cosine_userknn      0.000000   0.000000  0.000000  0.000000   \n7      2   tfidf_userknn      0.000000   0.000000  0.000000  0.000000   \n8      2    BM25_userknn      0.000000   0.000000  0.000000  0.000000   \n9      3  cosine_userknn      0.000000   0.000000  0.000000  0.000000   \n10     3   tfidf_userknn      0.000000   0.000000  0.000000  0.000000   \n11     3    BM25_userknn      0.000000   0.000000  0.000000  0.000000   \n\n    Serendipity@10  \n0         0.000005  \n1         0.000005  \n2         0.000005  \n3         0.000000  \n4         0.000000  \n5         0.000000  \n6         0.000000  \n7         0.000000  \n8         0.000000  \n9         0.000000  \n10        0.000000  \n11        0.000000  ",
      "text/html": "<div>\n<style scoped>\n    .dataframe tbody tr th:only-of-type {\n        vertical-align: middle;\n    }\n\n    .dataframe tbody tr th {\n        vertical-align: top;\n    }\n\n    .dataframe thead th {\n        text-align: right;\n    }\n</style>\n<table border=\"1\" class=\"dataframe\">\n  <thead>\n    <tr style=\"text-align: right;\">\n      <th></th>\n      <th>fold</th>\n      <th>model</th>\n      <th>Precision@10</th>\n      <th>Recall@10</th>\n      <th>NDCG@10</th>\n      <th>MAP@10</th>\n      <th>Serendipity@10</th>\n    </tr>\n  </thead>\n  <tbody>\n    <tr>\n      <th>0</th>\n      <td>0</td>\n      <td>cosine_userknn</td>\n      <td>0.000344</td>\n      <td>0.003436</td>\n      <td>0.000326</td>\n      <td>0.000859</td>\n      <td>0.000005</td>\n    </tr>\n    <tr>\n      <th>1</th>\n      <td>0</td>\n      <td>tfidf_userknn</td>\n      <td>0.000344</td>\n      <td>0.003436</td>\n      <td>0.000326</td>\n      <td>0.000859</td>\n      <td>0.000005</td>\n    </tr>\n    <tr>\n      <th>2</th>\n      <td>0</td>\n      <td>BM25_userknn</td>\n      <td>0.000344</td>\n      <td>0.003436</td>\n      <td>0.000326</td>\n      <td>0.000859</td>\n      <td>0.000005</td>\n    </tr>\n    <tr>\n      <th>3</th>\n      <td>1</td>\n      <td>cosine_userknn</td>\n      <td>0.000000</td>\n      <td>0.000000</td>\n      <td>0.000000</td>\n      <td>0.000000</td>\n      <td>0.000000</td>\n    </tr>\n    <tr>\n      <th>4</th>\n      <td>1</td>\n      <td>tfidf_userknn</td>\n      <td>0.000000</td>\n      <td>0.000000</td>\n      <td>0.000000</td>\n      <td>0.000000</td>\n      <td>0.000000</td>\n    </tr>\n    <tr>\n      <th>5</th>\n      <td>1</td>\n      <td>BM25_userknn</td>\n      <td>0.000000</td>\n      <td>0.000000</td>\n      <td>0.000000</td>\n      <td>0.000000</td>\n      <td>0.000000</td>\n    </tr>\n    <tr>\n      <th>6</th>\n      <td>2</td>\n      <td>cosine_userknn</td>\n      <td>0.000000</td>\n      <td>0.000000</td>\n      <td>0.000000</td>\n      <td>0.000000</td>\n      <td>0.000000</td>\n    </tr>\n    <tr>\n      <th>7</th>\n      <td>2</td>\n      <td>tfidf_userknn</td>\n      <td>0.000000</td>\n      <td>0.000000</td>\n      <td>0.000000</td>\n      <td>0.000000</td>\n      <td>0.000000</td>\n    </tr>\n    <tr>\n      <th>8</th>\n      <td>2</td>\n      <td>BM25_userknn</td>\n      <td>0.000000</td>\n      <td>0.000000</td>\n      <td>0.000000</td>\n      <td>0.000000</td>\n      <td>0.000000</td>\n    </tr>\n    <tr>\n      <th>9</th>\n      <td>3</td>\n      <td>cosine_userknn</td>\n      <td>0.000000</td>\n      <td>0.000000</td>\n      <td>0.000000</td>\n      <td>0.000000</td>\n      <td>0.000000</td>\n    </tr>\n    <tr>\n      <th>10</th>\n      <td>3</td>\n      <td>tfidf_userknn</td>\n      <td>0.000000</td>\n      <td>0.000000</td>\n      <td>0.000000</td>\n      <td>0.000000</td>\n      <td>0.000000</td>\n    </tr>\n    <tr>\n      <th>11</th>\n      <td>3</td>\n      <td>BM25_userknn</td>\n      <td>0.000000</td>\n      <td>0.000000</td>\n      <td>0.000000</td>\n      <td>0.000000</td>\n      <td>0.000000</td>\n    </tr>\n  </tbody>\n</table>\n</div>"
     },
     "execution_count": 9,
     "metadata": {},
     "output_type": "execute_result"
    }
   ],
   "source": [
    "metrics_df = pd.DataFrame(results)\n",
    "metrics_df"
   ],
   "metadata": {
    "collapsed": false,
    "ExecuteTime": {
     "end_time": "2023-12-05T21:13:35.802043Z",
     "start_time": "2023-12-05T21:13:35.799242Z"
    }
   },
   "id": "459cb1d9ef7c942e"
  },
  {
   "cell_type": "code",
   "execution_count": 10,
   "outputs": [
    {
     "data": {
      "text/plain": "                Precision@10  Recall@10    MAP@10   NDCG@10  Serendipity@10\nmodel                                                                      \nBM25_userknn        0.000086   0.000859  0.000215  0.000081        0.000001\ncosine_userknn      0.000086   0.000859  0.000215  0.000081        0.000001\ntfidf_userknn       0.000086   0.000859  0.000215  0.000081        0.000001",
      "text/html": "<div>\n<style scoped>\n    .dataframe tbody tr th:only-of-type {\n        vertical-align: middle;\n    }\n\n    .dataframe tbody tr th {\n        vertical-align: top;\n    }\n\n    .dataframe thead th {\n        text-align: right;\n    }\n</style>\n<table border=\"1\" class=\"dataframe\">\n  <thead>\n    <tr style=\"text-align: right;\">\n      <th></th>\n      <th>Precision@10</th>\n      <th>Recall@10</th>\n      <th>MAP@10</th>\n      <th>NDCG@10</th>\n      <th>Serendipity@10</th>\n    </tr>\n    <tr>\n      <th>model</th>\n      <th></th>\n      <th></th>\n      <th></th>\n      <th></th>\n      <th></th>\n    </tr>\n  </thead>\n  <tbody>\n    <tr>\n      <th>BM25_userknn</th>\n      <td>0.000086</td>\n      <td>0.000859</td>\n      <td>0.000215</td>\n      <td>0.000081</td>\n      <td>0.000001</td>\n    </tr>\n    <tr>\n      <th>cosine_userknn</th>\n      <td>0.000086</td>\n      <td>0.000859</td>\n      <td>0.000215</td>\n      <td>0.000081</td>\n      <td>0.000001</td>\n    </tr>\n    <tr>\n      <th>tfidf_userknn</th>\n      <td>0.000086</td>\n      <td>0.000859</td>\n      <td>0.000215</td>\n      <td>0.000081</td>\n      <td>0.000001</td>\n    </tr>\n  </tbody>\n</table>\n</div>"
     },
     "execution_count": 10,
     "metadata": {},
     "output_type": "execute_result"
    }
   ],
   "source": [
    "metrics_df.groupby(\"model\").mean()[metrics.keys()]"
   ],
   "metadata": {
    "collapsed": false,
    "ExecuteTime": {
     "end_time": "2023-12-05T21:13:35.811011Z",
     "start_time": "2023-12-05T21:13:35.805631Z"
    }
   },
   "id": "c75a1e97a15b9226"
  },
  {
   "cell_type": "markdown",
   "source": [
    "As we can see, the best results produces the model with tfidf"
   ],
   "metadata": {
    "collapsed": false
   },
   "id": "654b56454fd89f28"
  },
  {
   "cell_type": "markdown",
   "source": [
    "# Training the best model"
   ],
   "metadata": {
    "collapsed": false
   },
   "id": "bf10d00bb3c6e958"
  },
  {
   "cell_type": "code",
   "execution_count": 11,
   "outputs": [],
   "source": [
    "userknn = UserKnn(TFIDFRecommender(), N_users=30)"
   ],
   "metadata": {
    "collapsed": false,
    "ExecuteTime": {
     "end_time": "2023-12-05T21:13:35.811201Z",
     "start_time": "2023-12-05T21:13:35.808944Z"
    }
   },
   "id": "35acac2161165046"
  },
  {
   "cell_type": "code",
   "execution_count": 12,
   "outputs": [
    {
     "data": {
      "text/plain": "  0%|          | 0/49240 [00:00<?, ?it/s]",
      "application/vnd.jupyter.widget-view+json": {
       "version_major": 2,
       "version_minor": 0,
       "model_id": "fc98f64fb5464c8b887f91f1557dce17"
      }
     },
     "metadata": {},
     "output_type": "display_data"
    }
   ],
   "source": [
    "userknn.fit(interactions.df)"
   ],
   "metadata": {
    "collapsed": false,
    "ExecuteTime": {
     "end_time": "2023-12-05T21:13:36.528049Z",
     "start_time": "2023-12-05T21:13:35.811949Z"
    }
   },
   "id": "72efcea44eaa4d36"
  },
  {
   "cell_type": "markdown",
   "source": [
    "# Inference"
   ],
   "metadata": {
    "collapsed": false
   },
   "id": "15a96ee5e74d3f13"
  },
  {
   "cell_type": "code",
   "execution_count": 13,
   "outputs": [
    {
     "name": "stdout",
     "output_type": "stream",
     "text": [
      "[6209, 3558, 2848, 3018, 12324, 10440, 15297, 9728, 13865, 4151]\n",
      "[6209, 3558, 2848, 3018, 12324]\n"
     ]
    }
   ],
   "source": [
    "print(userknn.recommend(interactions.df.head(2).user_id.values[0], k_recs=10))\n",
    "print(userknn.recommend(interactions.df.head(2).user_id.values[0], k_recs=5))"
   ],
   "metadata": {
    "collapsed": false,
    "ExecuteTime": {
     "end_time": "2023-12-05T21:13:36.557229Z",
     "start_time": "2023-12-05T21:13:36.535542Z"
    }
   },
   "id": "6322e3dcd43353a4"
  },
  {
   "cell_type": "code",
   "execution_count": 14,
   "outputs": [
    {
     "name": "stdout",
     "output_type": "stream",
     "text": [
      "[10440, 15297, 9728, 13865, 4151]\n"
     ]
    }
   ],
   "source": [
    "print(userknn.recommend(1e10, k_recs=5))"
   ],
   "metadata": {
    "collapsed": false,
    "ExecuteTime": {
     "end_time": "2023-12-05T21:13:36.562672Z",
     "start_time": "2023-12-05T21:13:36.556849Z"
    }
   },
   "id": "65d6b94b5a49ec0b"
  },
  {
   "cell_type": "markdown",
   "source": [
    "# Save model"
   ],
   "metadata": {
    "collapsed": false
   },
   "id": "6f4c699ff847809b"
  },
  {
   "cell_type": "code",
   "execution_count": 15,
   "outputs": [],
   "source": [
    "pickle.dump(userknn, open(\"../model_weights/userknn_model.pkl\", \"wb\"))"
   ],
   "metadata": {
    "collapsed": false,
    "ExecuteTime": {
     "end_time": "2023-12-05T21:13:36.640637Z",
     "start_time": "2023-12-05T21:13:36.559592Z"
    }
   },
   "id": "ade8670b2e93de94"
  },
  {
   "cell_type": "code",
   "execution_count": 15,
   "outputs": [],
   "source": [],
   "metadata": {
    "collapsed": false,
    "ExecuteTime": {
     "end_time": "2023-12-05T21:13:36.645099Z",
     "start_time": "2023-12-05T21:13:36.640214Z"
    }
   },
   "id": "f69246bcb8a20a20"
  }
 ],
 "metadata": {
  "kernelspec": {
   "display_name": "Python 3",
   "language": "python",
   "name": "python3"
  },
  "language_info": {
   "codemirror_mode": {
    "name": "ipython",
    "version": 2
   },
   "file_extension": ".py",
   "mimetype": "text/x-python",
   "name": "python",
   "nbconvert_exporter": "python",
   "pygments_lexer": "ipython2",
   "version": "2.7.6"
  }
 },
 "nbformat": 4,
 "nbformat_minor": 5
}
